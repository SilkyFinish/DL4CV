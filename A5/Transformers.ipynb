{
  "cells": [
    {
      "cell_type": "markdown",
      "id": "0e2e14c4",
      "metadata": {
        "id": "0e2e14c4"
      },
      "source": [
        "# EECS 498-007/598-005 Assignment 5-2: Transformers\n",
        "\n",
        "Before we start, please put your name and UMID in following format\n",
        "\n",
        ": Firstname LASTNAME, #00000000   //   e.g.) Justin JOHNSON, #12345678"
      ]
    },
    {
      "cell_type": "markdown",
      "id": "7719a8a0",
      "metadata": {
        "id": "7719a8a0"
      },
      "source": [
        "**Your Answer:**\\\n",
        "Hello WORLD, #XXXXXXXX"
      ]
    },
    {
      "cell_type": "markdown",
      "id": "819e7379",
      "metadata": {
        "id": "819e7379"
      },
      "source": [
        "### Transformers ([Attention is all you need](https://arxiv.org/pdf/1706.03762.pdf))\n",
        "\n",
        "To this point we have seen RNNs, which excel at sequence to sequence task but have two major drawbacks.\n",
        "First, they can suffer from vanishing gradients for long sequences.\n",
        "Second, they can take a long time to train due to sequential dependencies between hidden states which does not take advantage of the massively parallel architecture of modern GPUs.\n",
        "The first issue is largely addressed by alternate RNN architectures (LSTMs, GRUs) but not the second.\n",
        "\n",
        "Transformers solve these problems up to a certain extent by enabling to process the input parallely during training with long sequences. Though the computation is quadratic with respect to the input sequence length, it still managable with modern GPUs.\n",
        "\n",
        "In this notebook, we will implement Transformers model step-by-step by referencing the original paper, [Attention is all you need](https://arxiv.org/pdf/1706.03762.pdf). We will also use a toy dataset to solve a vector-to-vector problem which is a subset of sequence-to-sequence problem."
      ]
    },
    {
      "cell_type": "markdown",
      "id": "e8848024",
      "metadata": {
        "id": "e8848024"
      },
      "source": [
        "## Table of Contents\n",
        "\n",
        "This assignment has 4 parts. In the class we learned about Encoder based Transformers but often we use an Encoder and a Decoder for sequence to sequence task. In this notebook, you will learn how to implement an Encoder-Decoder based Transformers in a step-by-step manner. We will implement a simpler version here, where the simplicity arise from the task that we are solving, which is a vector-to-vector task. This essentially means that the length of input and output sequence is **fixed** and we dont have to worry about variable length of sequences. This makes the implementation simpler.\n",
        "\n",
        "1. **Part I (Preparation)**: We will preprocess a toy dataset that consists of input arithmetic expression and an output result of the expression\n",
        "1. **Part II (Implement Transformer blocks)**: we will look how to implement building blocks of a Transformer. It will consist of following blocks\n",
        "   1. MultiHeadAttention\n",
        "   2. FeedForward\n",
        "   3. LayerNorm\n",
        "   4. Encoder Block\n",
        "   5. Decoder Block\n",
        "1. **Part III (Data Loading)**: We will use the preprocessing functions in part I and the positional encoding module to construct the Dataloader.\n",
        "1. **Part IV (Train a model)**: In the last part we will look at how to fit the implemented Transformer model to the toy dataset.\n",
        "\n",
        "You can run all things on CPU till part 3. Part 4 requires GPU and while changing the runtime for this part, you would also have to run all the previous parts as part 4 has dependency on previous parts."
      ]
    },
    {
      "cell_type": "markdown",
      "id": "3e1c7486",
      "metadata": {
        "id": "3e1c7486"
      },
      "source": [
        "# Part I. Preparation"
      ]
    },
    {
      "cell_type": "markdown",
      "id": "0bdbbed0",
      "metadata": {
        "id": "0bdbbed0"
      },
      "source": [
        "Before getting started we need to run some boilerplate code to set up our environment. You\"ll need to rerun this setup code each time you start the notebook.\n",
        "\n",
        "First, run this cell load the [autoreload](https://ipython.readthedocs.io/en/stable/config/extensions/autoreload.html?highlight=autoreload) extension. This allows us to edit `.py` source files, and re-import them into the notebook for a seamless editing and debugging experience."
      ]
    },
    {
      "cell_type": "code",
      "execution_count": 1,
      "id": "f7dede27",
      "metadata": {
        "id": "f7dede27"
      },
      "outputs": [],
      "source": [
        "%load_ext autoreload\n",
        "%autoreload 2"
      ]
    },
    {
      "cell_type": "markdown",
      "id": "6c1523c0",
      "metadata": {
        "id": "6c1523c0"
      },
      "source": [
        "### Google Colab Setup\n",
        "\n",
        "Next we need to run a few commands to set up our environment on Google Colab. If you are running this notebook on a local machine you can skip this section.\n",
        "\n",
        "Run the following cell to mount your Google Drive. Follow the link, sign in to your Google account (the same account you used to store this notebook!) and copy the authorization code into the text box that appears below."
      ]
    },
    {
      "cell_type": "code",
      "execution_count": 2,
      "id": "ff4169c8",
      "metadata": {
        "id": "ff4169c8",
        "colab": {
          "base_uri": "https://localhost:8080/"
        },
        "outputId": "a73635d7-b733-4d58-f817-963bbc336ed3"
      },
      "outputs": [
        {
          "output_type": "stream",
          "name": "stdout",
          "text": [
            "Mounted at /content/drive\n"
          ]
        }
      ],
      "source": [
        "from google.colab import drive\n",
        "\n",
        "drive.mount(\"/content/drive\")"
      ]
    },
    {
      "cell_type": "markdown",
      "id": "6979e52e",
      "metadata": {
        "id": "6979e52e"
      },
      "source": [
        "Now recall the path in your Google Drive where you uploaded this notebook, fill it in below. If everything is working correctly then running the folowing cell should print the filenames from the assignment:\n",
        "\n",
        "```\n",
        "[\"eecs598\", \"a5_helper.py\", \"rnn_lstm_attention_captioning.ipynb\",  \"rnn_lstm_attention_captioning.py\", \"Transformers.py\", \"Transformers.ipynb\"]\n",
        "```"
      ]
    },
    {
      "cell_type": "code",
      "execution_count": 3,
      "id": "1e1beb7a",
      "metadata": {
        "id": "1e1beb7a",
        "colab": {
          "base_uri": "https://localhost:8080/"
        },
        "outputId": "ca6c2ec6-dfb7-4df6-d7e6-24e07af3fca9"
      },
      "outputs": [
        {
          "output_type": "stream",
          "name": "stdout",
          "text": [
            "['a5_helper.py', 'two_digit_op.json', 'eecs598', '__pycache__', 'rnn_lstm_captioning.ipynb', 'rnn_lstm_captioning.py', 'transformers.py', 'Transformers.ipynb']\n"
          ]
        }
      ],
      "source": [
        "import os\n",
        "import sys\n",
        "\n",
        "# TODO: Fill in the Google Drive path where you uploaded the assignment\n",
        "# Example: If you create a WI2022 folder and put all the files under A5 folder, then \"WI2022/A5\"\n",
        "GOOGLE_DRIVE_PATH_AFTER_MYDRIVE = None\n",
        "\n",
        "GOOGLE_DRIVE_PATH = os.path.join(\"drive\", \"My Drive\",'DL4CV','A5')\n",
        "print(os.listdir(GOOGLE_DRIVE_PATH))\n",
        "\n",
        "\n",
        "# Add to sys so we can import .py files.\n",
        "\n",
        "sys.path.append(GOOGLE_DRIVE_PATH)"
      ]
    },
    {
      "cell_type": "markdown",
      "id": "c0ea3c66",
      "metadata": {
        "id": "c0ea3c66"
      },
      "source": [
        "Once you have successfully mounted your Google Drive and located the path to this assignment, run th following cell to allow us to import from the `.py` files of this assignment. If it works correctly, it should print the message:\n",
        "\n",
        "```\n",
        "Hello from Transformers.py!\n",
        "```\n",
        "\n",
        "as well as the last edit time for the file `Transformers.py`."
      ]
    },
    {
      "cell_type": "code",
      "execution_count": 4,
      "id": "ac76ec4e",
      "metadata": {
        "id": "ac76ec4e",
        "colab": {
          "base_uri": "https://localhost:8080/",
          "height": 386
        },
        "outputId": "4bc60e37-f34b-4c40-d621-5bec3590b1e2"
      },
      "outputs": [
        {
          "output_type": "error",
          "ename": "ImportError",
          "evalue": "cannot import name 'hello_transformers' from 'transformers' (/usr/local/lib/python3.10/dist-packages/transformers/__init__.py)",
          "traceback": [
            "\u001b[0;31m---------------------------------------------------------------------------\u001b[0m",
            "\u001b[0;31mImportError\u001b[0m                               Traceback (most recent call last)",
            "\u001b[0;32m<ipython-input-4-75cd83219a40>\u001b[0m in \u001b[0;36m<cell line: 3>\u001b[0;34m()\u001b[0m\n\u001b[1;32m      1\u001b[0m \u001b[0;32mimport\u001b[0m \u001b[0mos\u001b[0m\u001b[0;34m\u001b[0m\u001b[0;34m\u001b[0m\u001b[0m\n\u001b[1;32m      2\u001b[0m \u001b[0;32mimport\u001b[0m \u001b[0mtime\u001b[0m\u001b[0;34m\u001b[0m\u001b[0;34m\u001b[0m\u001b[0m\n\u001b[0;32m----> 3\u001b[0;31m \u001b[0;32mfrom\u001b[0m \u001b[0mtransformers\u001b[0m \u001b[0;32mimport\u001b[0m \u001b[0mhello_transformers\u001b[0m\u001b[0;34m\u001b[0m\u001b[0;34m\u001b[0m\u001b[0m\n\u001b[0m\u001b[1;32m      4\u001b[0m \u001b[0;34m\u001b[0m\u001b[0m\n\u001b[1;32m      5\u001b[0m \u001b[0mhello_transformers\u001b[0m\u001b[0;34m(\u001b[0m\u001b[0;34m)\u001b[0m\u001b[0;34m\u001b[0m\u001b[0;34m\u001b[0m\u001b[0m\n",
            "\u001b[0;31mImportError\u001b[0m: cannot import name 'hello_transformers' from 'transformers' (/usr/local/lib/python3.10/dist-packages/transformers/__init__.py)",
            "",
            "\u001b[0;31m---------------------------------------------------------------------------\u001b[0;32m\nNOTE: If your import is failing due to a missing package, you can\nmanually install dependencies using either !pip or !apt.\n\nTo view examples of installing some common dependencies, click the\n\"Open Examples\" button below.\n\u001b[0;31m---------------------------------------------------------------------------\u001b[0m\n"
          ],
          "errorDetails": {
            "actions": [
              {
                "action": "open_url",
                "actionText": "Open Examples",
                "url": "/notebooks/snippets/importing_libraries.ipynb"
              }
            ]
          }
        }
      ],
      "source": [
        "import os\n",
        "import time\n",
        "from transformers import hello_transformers\n",
        "\n",
        "hello_transformers()\n",
        "\n",
        "\n",
        "os.environ[\"TZ\"] = \"US/Eastern\"\n",
        "time.tzset()\n",
        "hello_transformers()\n",
        "\n",
        "transformers_path = os.path.join(GOOGLE_DRIVE_PATH, \"transformers.py\")\n",
        "transformers_edit_time = time.ctime(os.path.getmtime(transformers_path))\n",
        "print(\"transformers.py last edited on %s\" % transformers_edit_time)"
      ]
    },
    {
      "cell_type": "code",
      "execution_count": 5,
      "id": "2cbf5f86",
      "metadata": {
        "id": "2cbf5f86"
      },
      "outputs": [],
      "source": [
        "import torch\n",
        "import torch.nn.functional as F\n",
        "from torch import Tensor\n",
        "from torch import nn\n",
        "\n",
        "import torch\n",
        "\n",
        "from torch import nn\n",
        "import torch.nn.functional as F\n",
        "\n",
        "from eecs598.utils import (\n",
        "    reset_seed,\n",
        "    tensor_to_image,\n",
        "    attention_visualizer,\n",
        ")\n",
        "from eecs598.grad import rel_error, compute_numeric_gradient\n",
        "import matplotlib.pyplot as plt\n",
        "import time\n",
        "from IPython.display import Image\n",
        "\n",
        "\n",
        "# for plotting\n",
        "%matplotlib inline\n",
        "plt.rcParams[\"figure.figsize\"] = (10.0, 8.0)  # set default size of plots\n",
        "plt.rcParams[\"image.interpolation\"] = \"nearest\"\n",
        "plt.rcParams[\"image.cmap\"] = \"gray\""
      ]
    },
    {
      "cell_type": "markdown",
      "id": "b807888a",
      "metadata": {
        "id": "b807888a"
      },
      "source": [
        "We will use the GPU to accelerate our computation. Run this cell to make sure you are using a GPU.\n",
        "\n",
        "We will be using `torch.float = torch.float32` for data and `torch.long = torch.int64` for labels.\n",
        "\n",
        "Please refer to https://pytorch.org/docs/stable/tensor_attributes.html#torch-dtype for more details about data types."
      ]
    },
    {
      "cell_type": "code",
      "execution_count": 6,
      "id": "0150e9a5",
      "metadata": {
        "id": "0150e9a5",
        "colab": {
          "base_uri": "https://localhost:8080/"
        },
        "outputId": "2e147cf0-4698-49f1-d303-95c3ad96c668"
      },
      "outputs": [
        {
          "output_type": "stream",
          "name": "stdout",
          "text": [
            "Good to go!\n"
          ]
        }
      ],
      "source": [
        "to_float = torch.float\n",
        "to_long = torch.long\n",
        "\n",
        "if torch.cuda.is_available():\n",
        "    print(\"Good to go!\")\n",
        "    DEVICE = torch.device(\"cuda\")\n",
        "else:\n",
        "    print(\"Please set GPU via Edit -> Notebook Settings.\")\n",
        "    DEVICE = torch.device(\"cpu\")"
      ]
    },
    {
      "cell_type": "markdown",
      "id": "5c2bcf33",
      "metadata": {
        "id": "5c2bcf33"
      },
      "source": [
        "### Load the toy data"
      ]
    },
    {
      "cell_type": "markdown",
      "id": "16bf6435",
      "metadata": {
        "id": "16bf6435"
      },
      "source": [
        "As Transformers perform very well on sequence to sequence task, we will implement it on a toy task of Arithmetic operations. We will use transformer models to perform addition and subraction of two integers, where the absolute value of an integer is at most 50. A simple example is to perform the computation `-5 + 2` using a Transformer model and getting the corect result as `-3`. As there can be multiple ways to solve this problem, we will see how we can pose this as a sequence to sequence problem and solve it using Transformers model. Note that we had to reduce the complexity of the problem to make the Transformer work within the constrainted resources of Colab.\n",
        "\n",
        "Lets take a look at the data first:"
      ]
    },
    {
      "cell_type": "code",
      "execution_count": 7,
      "id": "3634d982",
      "metadata": {
        "id": "3634d982"
      },
      "outputs": [],
      "source": [
        "from a5_helper import get_toy_data\n",
        "\n",
        "# load the data using helper function\n",
        "data = get_toy_data(os.path.join(GOOGLE_DRIVE_PATH,\"two_digit_op.json\"))"
      ]
    },
    {
      "cell_type": "markdown",
      "id": "3f0c8b22",
      "metadata": {
        "id": "3f0c8b22"
      },
      "source": [
        "### Looking at the first four examples\n",
        "\n",
        "Below are the first four samples in the data"
      ]
    },
    {
      "cell_type": "code",
      "execution_count": null,
      "id": "d0f9a602",
      "metadata": {
        "id": "d0f9a602",
        "colab": {
          "base_uri": "https://localhost:8080/"
        },
        "outputId": "e0e2a500-e2b4-4223-f399-8f1460ecba8f"
      },
      "outputs": [
        {
          "output_type": "stream",
          "name": "stdout",
          "text": [
            "Expression: BOS NEGATIVE 30 subtract NEGATIVE 34 EOS Output: BOS POSITIVE 04 EOS\n",
            "Expression: BOS NEGATIVE 34 add NEGATIVE 15 EOS Output: BOS NEGATIVE 49 EOS\n",
            "Expression: BOS NEGATIVE 28 add NEGATIVE 36 EOS Output: BOS NEGATIVE 64 EOS\n",
            "Expression: BOS POSITIVE 00 subtract POSITIVE 17 EOS Output: BOS NEGATIVE 17 EOS\n"
          ]
        }
      ],
      "source": [
        "num_examples = 4\n",
        "for q, a in zip(\n",
        "    data[\"inp_expression\"][:num_examples],\n",
        "    data[\"out_expression\"][:num_examples]\n",
        "    ):\n",
        "  print(\"Expression: \" + q + \" Output: \" + a)"
      ]
    },
    {
      "cell_type": "markdown",
      "id": "bc93f275",
      "metadata": {
        "id": "bc93f275"
      },
      "source": [
        "## What do these examples mean:\n",
        "\n",
        "Lets look at first and third examples here and understand what they represent:\n",
        "\n",
        "- Expression: `BOS NEGATIVE 30 subtract NEGATIVE 34 EOS` Output: `BOS POSITIVE 04 EOS`: The expression here is $(-30) - (-34)$. There are two notions of the symbol `+` here: one is to denote the sign of the number and other is the operation of addition between two integers. To simplify the problem for the neural network, we have denoted them with different text tokens. The ouput of $(-30) - (-34)$ is $+4$. Here `BOS` and `EOS` refer to begining of sequence and end of sequence\n",
        "- Similarly, the second expression, `BOS NEGATIVE 34 add NEGATIVE 15 EOS` Output: `BOS NEGATIVE 49 EOS` means that we are doing the computation as $(-34) + (-15)$. As above, the symbol `-` here represents two things: first is the sign of an integer and second is the operation between two integers. Again, we have represented with different tokens to simplify the problem for the neural network. The output here is -49. Here `BOS` and `EOS` refer to begining of sequence and end of sequence\n",
        "\n",
        "Now that we have a grasp on what is the data, lets head to preprocess the data, as the neural networks don't really understand strings, we need to represent them as numbers.\n",
        "\n",
        "## Pre-processing the data\n",
        "We need to convert the raw input sequence into a format that can be processed with a neural network.\n",
        "Concretely, we need to convert a human-readable string (e.g. `BOS NEGATIVE 30 subtract NEGATIVE 34 EOS`) into a sequence of **tokens**, each of which will be an integer.\n",
        "The process of converting an input string into a sequence of tokens is known as **tokenization**.\n",
        "\n",
        "Before we can tokenize any particular sequence, we first need to build a **vocabulary**;\n",
        "this is an exhaustive list of all tokens that appear in our dataset, and a mapping from each token to a unique integer value.\n",
        "In our case, our vocabulary with consist of 16 elements: one entry for each digit `0` to `9`, two tokens to represent the sign of a number (`POSITIVE` and `NEGATIVE`), two tokens representing the addition and subtraction operations (`add`, and `subtract`), and finally two special tokens representing the start and end of the sequence (`BOS`, `EOS`).\n",
        "\n",
        "We typically represent the vocabulary with a pair of data structures.\n",
        "First is a list of all the string tokens (`vocab` below), such that `vocab[i] = s` means that the string `s` has been assigned the integer value `i`. This allows us to look up the string associated with any numeric index `i`.\n",
        "We also need a data structure that enables us to map in the other direction: given a string `s`, find the index `i` to which it has been assigned. This is typically represented as a hash map (`dict` object in Python) whose keys are strings and whose values are the indices assigned to those strings.\n",
        "You will implement the function `generate_token_dict` that inputs the list `vocab` and returns a dict `convert_str_to_token` giving this mapping.\n",
        "\n",
        "Once you have built the vocab, then you can implement the function `preprocess_input_sequence` which uses the vocab data structures to convert an input string into a list of integer tokens."
      ]
    },
    {
      "cell_type": "code",
      "execution_count": 11,
      "id": "e87a7b85",
      "metadata": {
        "id": "e87a7b85"
      },
      "outputs": [],
      "source": [
        "# Create vocab\n",
        "SPECIAL_TOKENS = [\"POSITIVE\", \"NEGATIVE\", \"add\", \"subtract\", \"BOS\", \"EOS\"]\n",
        "vocab = [\"0\", \"1\", \"2\", \"3\", \"4\", \"5\", \"6\", \"7\", \"8\", \"9\"] + SPECIAL_TOKENS"
      ]
    },
    {
      "cell_type": "markdown",
      "id": "066cd35e",
      "metadata": {
        "id": "066cd35e"
      },
      "source": [
        "To generate the hash map and then process the input string using them, complete the `generate_token_dict`, `prepocess_input_sequence` functions in the python files for this exercise:\n",
        "\n",
        "You should see exact zero errors here"
      ]
    },
    {
      "cell_type": "code",
      "execution_count": 12,
      "id": "7beaeebe-76ac-4e59-a244-250c5a18637b",
      "metadata": {
        "id": "7beaeebe-76ac-4e59-a244-250c5a18637b",
        "colab": {
          "base_uri": "https://localhost:8080/"
        },
        "outputId": "625adcac-2c98-4047-9cca-3972a87f173a"
      },
      "outputs": [
        {
          "output_type": "stream",
          "name": "stdout",
          "text": [
            "Dictionary created successfully!\n"
          ]
        }
      ],
      "source": [
        "def generate_token_dict(vocab):\n",
        "    \"\"\"\n",
        "    The function creates a hash map from the elements in the vocabulary to\n",
        "    to a unique positive integer value.\n",
        "\n",
        "    args:\n",
        "        vocab: This is a 1D list of strings containing all the items in the vocab\n",
        "\n",
        "    Returns:\n",
        "        token_dict: a python dictionary with key as the string item in the vocab\n",
        "            and value as a unique integer value\n",
        "    \"\"\"\n",
        "    # initialize a empty dictionary\n",
        "    token_dict = {}\n",
        "    ##############################################################################\n",
        "    # TODO: Use this function to assign a unique whole number element to each    #\n",
        "    # element present in the vocab list. To do this, map the first element in the#\n",
        "    # vocab to 0 and the last element in the vocab to len(vocab), and the        #\n",
        "    # elements in between as consequetive number.                                #\n",
        "    ##############################################################################\n",
        "    # Replace \"pass\" statement with your code\n",
        "    for index, token in enumerate(vocab):\n",
        "        token_dict[token] = index\n",
        "    ##############################################################################\n",
        "    #               END OF YOUR CODE                                             #\n",
        "    ##############################################################################\n",
        "    return token_dict\n",
        "\n",
        "convert_str_to_tokens = generate_token_dict(vocab)\n",
        "\n",
        "try:\n",
        "    assert convert_str_to_tokens[\"0\"] == 0\n",
        "except:\n",
        "    print(\"The first element does not map to 0. Please check the implementation\")\n",
        "\n",
        "try:\n",
        "    assert convert_str_to_tokens[\"EOS\"] == 15\n",
        "except:\n",
        "    print(\"The last element does not map to 2004. Please check the implementation\")\n",
        "\n",
        "print(\"Dictionary created successfully!\")"
      ]
    },
    {
      "cell_type": "code",
      "execution_count": 13,
      "id": "5b6e4fca",
      "metadata": {
        "id": "5b6e4fca",
        "colab": {
          "base_uri": "https://localhost:8080/"
        },
        "outputId": "f84d4d45-3ddb-403e-b660-83b31f5bc5d9"
      },
      "outputs": [
        {
          "output_type": "stream",
          "name": "stdout",
          "text": [
            "preprocess input token error 1:  0.0\n",
            "preprocess input token error 2:  0.0\n",
            "preprocess input token error 3:  0.0\n",
            "preprocess input token error 4:  0.0\n",
            "\n",
            "\n",
            "preprocess output token error 1:  0.0\n",
            "preprocess output token error 2:  0.0\n",
            "preprocess output token error 3:  0.0\n",
            "preprocess output token error 4:  0.0\n"
          ]
        }
      ],
      "source": [
        "def generate_token_dict(vocab):\n",
        "    \"\"\"\n",
        "    The function creates a hash map from the elements in the vocabulary to\n",
        "    to a unique positive integer value.\n",
        "\n",
        "    args:\n",
        "        vocab: This is a 1D list of strings containing all the items in the vocab\n",
        "\n",
        "    Returns:\n",
        "        token_dict: a python dictionary with key as the string item in the vocab\n",
        "            and value as a unique integer value\n",
        "    \"\"\"\n",
        "    # initialize a empty dictionary\n",
        "    token_dict = {}\n",
        "    ##############################################################################\n",
        "    # TODO: Use this function to assign a unique whole number element to each    #\n",
        "    # element present in the vocab list. To do this, map the first element in the#\n",
        "    # vocab to 0 and the last element in the vocab to len(vocab), and the        #\n",
        "    # elements in between as consequetive number.                                #\n",
        "    ##############################################################################\n",
        "    # Replace \"pass\" statement with your code\n",
        "    for index, token in enumerate(vocab):\n",
        "        token_dict[token] = index\n",
        "    ##############################################################################\n",
        "    #               END OF YOUR CODE                                             #\n",
        "    ##############################################################################\n",
        "    return token_dict\n",
        "def prepocess_input_sequence(\n",
        "    input_str: str, token_dict: dict, spc_tokens: list\n",
        ") -> list:\n",
        "    \"\"\"\n",
        "    The goal of this fucntion is to convert an input string into a list of positive\n",
        "    integers that will enable us to process the string using neural nets further. We\n",
        "    will use the dictionary made in the previous function to map the elements in the\n",
        "    string to a unique value. Keep in mind that we assign a value for each integer\n",
        "    present in the input sequence. For example, for a number present in the input\n",
        "    sequence \"33\", you should break it down to a list of digits,\n",
        "    ['0', '3'] and assign it to a corresponding value in the token_dict.\n",
        "\n",
        "    args:\n",
        "        input_str: A single string in the input data\n",
        "                 e.g.: \"BOS POSITIVE 0333 add POSITIVE 0696 EOS\"\n",
        "\n",
        "        token_dict: The token dictionary having key as elements in the string and\n",
        "            value as a unique positive integer. This is generated  using\n",
        "            generate_token_dict fucntion\n",
        "\n",
        "        spc_tokens: The special tokens apart from digits.\n",
        "    Returns:\n",
        "        out_tokens: a list of integers corresponding to the input string\n",
        "\n",
        "\n",
        "    \"\"\"\n",
        "    out = []\n",
        "    ##############################################################################\n",
        "    # TODO: for each number present in the input sequence, break it down into a\n",
        "    # list of digits and use this list of digits to assign an appropriate value\n",
        "    # from token_dict. For special tokens present in the input string, assign an\n",
        "    # appropriate value for the complete token.\n",
        "    ##############################################################################\n",
        "    # Replace \"pass\" statement with your code\n",
        "    words = input_str.split()\n",
        "\n",
        "    for word in words:\n",
        "        # Check if the word is a special token\n",
        "        if word in spc_tokens:\n",
        "            out.append(token_dict[word])\n",
        "        # Check if the word is a number and break it down into digits\n",
        "        elif word.isdigit():\n",
        "            for digit in word:\n",
        "                out.append(token_dict[digit])\n",
        "        else:\n",
        "            out.append(token_dict[word])\n",
        "    ##############################################################################\n",
        "    #               END OF YOUR CODE                                             #\n",
        "    ##############################################################################\n",
        "    return out\n",
        "\n",
        "convert_str_to_tokens = generate_token_dict(vocab)\n",
        "\n",
        "ex1_in = \"BOS POSITIVE 0333 add POSITIVE 0696 EOS\"\n",
        "ex2_in = \"BOS POSITIVE 0673 add POSITIVE 0675 EOS\"\n",
        "ex3_in = \"BOS NEGATIVE 0286 subtract NEGATIVE 0044 EOS\"\n",
        "ex4_in = \"BOS NEGATIVE 0420 add POSITIVE 0342 EOS\"\n",
        "\n",
        "ex1_out = \"BOS POSITIVE 1029 EOS\"\n",
        "ex2_out = \"BOS POSITIVE 1348 EOS\"\n",
        "ex3_out = \"BOS NEGATIVE 0242 EOS\"\n",
        "ex4_out = \"BOS NEGATIVE 0078 EOS\"\n",
        "\n",
        "ex1_inp_preprocessed = torch.tensor(\n",
        "    prepocess_input_sequence(ex1_in, convert_str_to_tokens, SPECIAL_TOKENS)\n",
        ")\n",
        "ex2_inp_preprocessed = torch.tensor(\n",
        "    prepocess_input_sequence(ex2_in, convert_str_to_tokens, SPECIAL_TOKENS)\n",
        ")\n",
        "ex3_inp_preprocessed = torch.tensor(\n",
        "    prepocess_input_sequence(ex3_in, convert_str_to_tokens, SPECIAL_TOKENS)\n",
        ")\n",
        "ex4_inp_preprocessed = torch.tensor(\n",
        "    prepocess_input_sequence(ex4_in, convert_str_to_tokens, SPECIAL_TOKENS)\n",
        ")\n",
        "\n",
        "ex1_processed_expected = torch.tensor([14, 10, 0, 3, 3, 3, 12, 10, 0, 6, 9, 6, 15])\n",
        "ex2_processed_expected = torch.tensor([14, 10, 0, 6, 7, 3, 12, 10, 0, 6, 7, 5, 15])\n",
        "ex3_processed_expected = torch.tensor([14, 11, 0, 2, 8, 6, 13, 11, 0, 0, 4, 4, 15])\n",
        "ex4_processed_expected = torch.tensor([14, 11, 0, 4, 2, 0, 12, 10, 0, 3, 4, 2, 15])\n",
        "\n",
        "ex1_out = torch.tensor(\n",
        "    prepocess_input_sequence(ex1_out, convert_str_to_tokens, SPECIAL_TOKENS)\n",
        ")\n",
        "ex2_out = torch.tensor(\n",
        "    prepocess_input_sequence(ex2_out, convert_str_to_tokens, SPECIAL_TOKENS)\n",
        ")\n",
        "ex3_out = torch.tensor(\n",
        "    prepocess_input_sequence(ex3_out, convert_str_to_tokens, SPECIAL_TOKENS)\n",
        ")\n",
        "ex4_out = torch.tensor(\n",
        "    prepocess_input_sequence(ex4_out, convert_str_to_tokens, SPECIAL_TOKENS)\n",
        ")\n",
        "\n",
        "ex1_out_expected = torch.tensor([14, 10, 1, 0, 2, 9, 15])\n",
        "ex2_out_expected = torch.tensor([14, 10, 1, 3, 4, 8, 15])\n",
        "ex3_out_expected = torch.tensor([14, 11, 0, 2, 4, 2, 15])\n",
        "ex4_out_expected = torch.tensor([14, 11, 0, 0, 7, 8, 15])\n",
        "\n",
        "print(\n",
        "    \"preprocess input token error 1: \",\n",
        "    rel_error(ex1_processed_expected, ex1_inp_preprocessed),\n",
        ")\n",
        "print(\n",
        "    \"preprocess input token error 2: \",\n",
        "    rel_error(ex2_processed_expected, ex2_inp_preprocessed),\n",
        ")\n",
        "print(\n",
        "    \"preprocess input token error 3: \",\n",
        "    rel_error(ex3_processed_expected, ex3_inp_preprocessed),\n",
        ")\n",
        "print(\n",
        "    \"preprocess input token error 4: \",\n",
        "    rel_error(ex4_processed_expected, ex4_inp_preprocessed),\n",
        ")\n",
        "print(\"\\n\")\n",
        "print(\"preprocess output token error 1: \", rel_error(ex1_out_expected, ex1_out))\n",
        "print(\"preprocess output token error 2: \", rel_error(ex2_out_expected, ex2_out))\n",
        "print(\"preprocess output token error 3: \", rel_error(ex3_out_expected, ex3_out))\n",
        "print(\"preprocess output token error 4: \", rel_error(ex4_out_expected, ex4_out))"
      ]
    },
    {
      "cell_type": "markdown",
      "id": "58aed0ae",
      "metadata": {
        "id": "58aed0ae"
      },
      "source": [
        "# Part II.  Implementing Transformer building blocks\n",
        "\n",
        "Now that we have looked at the data, the task is to predict the output sequence (final result), something like `NEGATIVE 42` given the input sequence (of the arthmetic expression), something like `NEGATIVE 48 subtract NEGATIVE 6`.\n",
        "\n",
        "In this section, we will look at implementing various building blocks used for implementing Transformer model. This will then be used to make Transformer encoder and decoder, which will ultimately lead us to implementing the complete Transfromer model.\n",
        "Each block will be implemented as a subclass of `nn.Module`; we will use PyTorch autograd to compute gradients, so we don't need to implement backward passes manually.\n",
        "\n",
        "We will implement the following blocks, by referencing the original paper:\n",
        "\n",
        "1. MultHeadAttention Block\n",
        "2. FeedForward Block\n",
        "3. Layer Normalization\n",
        "4. Positional Encoding block\n",
        "\n",
        "We will then use these building blocks, combined with the input embedding layer to construct the Transformer Encoder and Decoder. We will start with MultiHeadAttention block, FeedForward Block, and Layer Normalization and look at Position encoding and input embedding later.\n",
        "\n",
        "**Note:** One thing to keep in mind while implementing these blocks is that the shape of input and output Tensor from all these blocks we will be same. It always helps by checking the shapes of inputp and output tensors."
      ]
    },
    {
      "cell_type": "markdown",
      "id": "823cc3b9-d483-4d42-a495-eb432d1417e1",
      "metadata": {
        "id": "823cc3b9-d483-4d42-a495-eb432d1417e1"
      },
      "source": [
        "### MultiHeadAttention Block"
      ]
    },
    {
      "cell_type": "markdown",
      "id": "34036573-905d-44f0-8094-71539563ae24",
      "metadata": {
        "id": "34036573-905d-44f0-8094-71539563ae24"
      },
      "source": [
        "The image below highlights the MultiHead Attention block inside the Transformer model.\n",
        "<img src=\"https://drive.google.com/uc?export=view&id=1DwU3BJsA0mUWTWlXNtNolB4oc5K4Z9PE\" alt=\"multihead_attention\" width=\"80%\">"
      ]
    },
    {
      "cell_type": "markdown",
      "id": "5c56e134",
      "metadata": {
        "id": "5c56e134"
      },
      "source": [
        "Transformers are sequence to sequence networks i.e., we get a sequence (for example a sentence in English) and get output a sequence (for example a sentence in Spanish). The input sequence are first transformed into embeddings as discussed in the RNN section and these embeddings are then passed through a Positional Encoding block. The resultant Embeddings are then transformed into three vectors, *query*, *key*, and *value* using learnable weights and we then use a Transformer Encoder and Decoder to get the final output sequence. For this section, we will assume that we have the *query*, *key*, and the *value* vector and work on them.\n",
        "\n",
        "In the above figure, you can see that the Encoder has multihead attention block is right after these blocks. There is also a masked multihead attention in the deocoder but we will see that it's easy to implement the masked attention when we have implemented the basic MultiHeadAttention block.\n",
        "To implement the basic MultiheadAttention block, we will first implement the Self Attention block and see that MultiHeadAttention can be implemented as a direct extension of the Self Attention block.\n",
        "\n",
        "## Self Attention Block\n",
        "\n",
        "Taking inspiration from information retreival paradigm, Transformers have this notion of *query*, *key*, and *value* where given a *query* we try extract information from *key*-*value* pairs. Moving along those lines, we perform this mathematically by taking the weighted sum of *values* for each *query*, where weight is computed by dot product of *query* and the *key*. More precisely, for each query we compute the dot product with all the keys and then use the scalar output of those dot products as weights to find the weighted sum of *values*. Note that before finding the weighted sum, we also apply softmax function to the weights vector. Lets start with implementing of Attention Block that takes input as *query*, *key*, and *value* vectors and returns a Tensor, that is weighted sum of the *values*.\n",
        "\n",
        "For this section, you need to implement three functions, `scaled_dot_product_two_loop_single`, `scaled_dot_product_two_loop_batch`, and `scaled_dot_product_no_loop_batch` inside the transformers.py file. This might look very similar to the `dot_product_attention` in the RNN notebook but there is a subtle difference in the inputs. You should see the errors of the order less than 1e-5"
      ]
    },
    {
      "cell_type": "code",
      "execution_count": 14,
      "id": "747894ed",
      "metadata": {
        "id": "747894ed"
      },
      "outputs": [],
      "source": [
        "def scaled_dot_product_two_loop_single(\n",
        "    query: Tensor, key: Tensor, value: Tensor\n",
        ") -> Tensor:\n",
        "    \"\"\"\n",
        "    The function performs a fundamental block for attention mechanism, the scaled\n",
        "    dot product. We map the input query, key, and value to the output. Follow the\n",
        "    description in TODO for implementation.\n",
        "\n",
        "    args:\n",
        "        query: a Tensor of shape (K, M) where K is the sequence length and M is\n",
        "            the sequence embeding dimension\n",
        "\n",
        "        key: a Tensor of shape (K, M) where K is the sequence length and M is the\n",
        "            sequence embeding dimension\n",
        "\n",
        "        value: a Tensor of shape (K, M) where K is the sequence length and M is\n",
        "            the sequence embeding dimension\n",
        "\n",
        "\n",
        "    Returns\n",
        "        out: a tensor of shape (K, M) which is the output of self-attention from\n",
        "        the function\n",
        "    \"\"\"\n",
        "    # make a placeholder for the output\n",
        "    out = None\n",
        "    ###############################################################################\n",
        "    # TODO: Implement this function using exactly two for loops. For each of the  #\n",
        "    # K queries, compute its dot product with each of the K keys. The scalar      #\n",
        "    # output of the dot product will the be scaled by dividing it with the sqrt(M)#\n",
        "    # Once we get all the K scaled weights corresponding to a query, we apply a   #\n",
        "    # softmax function on them and use the value matrix to compute the weighted   #\n",
        "    # sum of values using the matrix-vector product. This single vector computed  #\n",
        "    # using weighted sum becomes an output to the Kth query vector                #\n",
        "    ###############################################################################\n",
        "    # Replace \"pass\" statement with your code\n",
        "    # Sequence length (K) and embedding dimension (M)\n",
        "    K, M = query.shape\n",
        "    # Scaling factor\n",
        "    scale = M**0.5\n",
        "    # Placeholder for output\n",
        "    out = torch.zeros_like(query)\n",
        "\n",
        "    # Iterate over each query vector\n",
        "    for i in range(K):\n",
        "        # Compute scaled dot product between query[i] and each key\n",
        "        attention_scores = torch.zeros(K)\n",
        "        for j in range(K):\n",
        "            attention_scores[j] = torch.dot(query[i], key[j]) / scale\n",
        "\n",
        "        # Apply softmax to get attention weights\n",
        "        attention_weights = torch.softmax(attention_scores, dim=0)\n",
        "\n",
        "        # Weighted sum of values\n",
        "        out[i] = torch.sum(attention_weights.unsqueeze(1) * value, dim=0)\n",
        "    ##############################################################################\n",
        "    #               END OF YOUR CODE                                             #\n",
        "    ##############################################################################\n",
        "    return out\n",
        "\n",
        "\n",
        "def scaled_dot_product_two_loop_batch(\n",
        "    query: Tensor, key: Tensor, value: Tensor\n",
        ") -> Tensor:\n",
        "\n",
        "    \"\"\"\n",
        "    The function performs a fundamental block for attention mechanism, the scaled\n",
        "    dot product. We map the input query, key, and value to the output. Follow the\n",
        "    description in TODO for implementation.\n",
        "\n",
        "    args:\n",
        "        query: a Tensor of shape (N,K, M) where N is the batch size, K is the\n",
        "            sequence length and  M is the sequence embeding dimension\n",
        "\n",
        "        key: a Tensor of shape (N, K, M) where N is the batch size, K is the\n",
        "            sequence length and M is the sequence embeding dimension\n",
        "\n",
        "\n",
        "        value: a Tensor of shape (N, K, M) where N is the batch size, K is the\n",
        "            sequence length and M is the sequence embeding dimension\n",
        "\n",
        "\n",
        "    Returns:\n",
        "        out: a tensor of shape (N, K, M) that contains the weighted sum of values\n",
        "\n",
        "\n",
        "    \"\"\"\n",
        "    # make a placeholder for the output\n",
        "    out = None\n",
        "    N, K, M = query.shape\n",
        "    ###############################################################################\n",
        "    # TODO: This function is extedning self_attention_two_loop_single for a batch #\n",
        "    # of N. Implement this function using exactly two for loops. For each N       #\n",
        "    # we have a query, key and value. The final output is the weighted sum of     #\n",
        "    # values of these N queries and keys. The weight here is computed using scaled#\n",
        "    # dot product  between each of the K queries and key. The scaling value here  #\n",
        "    # is sqrt(M). For each of the N sequences, compute the softmaxed weights and  #\n",
        "    # use them to compute weighted average of value matrix.                       #\n",
        "    # Hint: look at torch.bmm                                                     #\n",
        "    ###############################################################################\n",
        "    # Replace \"pass\" statement with your code\n",
        "    # Scaling factor\n",
        "    scale = M**0.5\n",
        "    # Placeholder for output\n",
        "    out = torch.zeros_like(query)\n",
        "\n",
        "    # Iterate over each query vector\n",
        "    for i in range(K):\n",
        "        # Compute scaled dot product between query[i] and each key\n",
        "        attention_scores = torch.zeros(N,K)\n",
        "        for j in range(K):\n",
        "            attention_scores[:,j] = (query[:,i]*key[:,j]).sum(dim=1) / scale\n",
        "\n",
        "        # Apply softmax to get attention weights\n",
        "        attention_weights = torch.softmax(attention_scores, dim=1)\n",
        "\n",
        "        # Weighted sum of values\n",
        "        out[:, i] = torch.bmm(attention_weights.unsqueeze(1), value).squeeze(1)  # (N, M)\n",
        "    ##############################################################################\n",
        "    #               END OF YOUR CODE                                             #\n",
        "    ##############################################################################\n",
        "    return out\n",
        "\n",
        "\n",
        "def scaled_dot_product_no_loop_batch(\n",
        "    query: Tensor, key: Tensor, value: Tensor, mask: Tensor = None\n",
        ") -> Tensor:\n",
        "    \"\"\"\n",
        "\n",
        "    The function performs a fundamental block for attention mechanism, the scaled\n",
        "    dot product. We map the input query, key, and value to the output. It uses\n",
        "    Matrix-matrix multiplication to find the scaled weights and then matrix-matrix\n",
        "    multiplication to find the final output.\n",
        "\n",
        "    args:\n",
        "        query: a Tensor of shape (N,K, M) where N is the batch size, K is the\n",
        "            sequence length and M is the sequence embeding dimension\n",
        "\n",
        "        key:  a Tensor of shape (N, K, M) where N is the batch size, K is the\n",
        "            sequence length and M is the sequence embeding dimension\n",
        "\n",
        "\n",
        "        value: a Tensor of shape (N, K, M) where N is the batch size, K is the\n",
        "            sequence length and M is the sequence embeding dimension\n",
        "\n",
        "\n",
        "        mask: a Bool Tensor of shape (N, K, K) that is used to mask the weights\n",
        "            used for computing weighted sum of values\n",
        "\n",
        "\n",
        "    return:\n",
        "        y: a tensor of shape (N, K, M) that contains the weighted sum of values\n",
        "\n",
        "        weights_softmax: a tensor of shape (N, K, K) that contains the softmaxed\n",
        "            weight matrix.\n",
        "\n",
        "    \"\"\"\n",
        "\n",
        "    _, _, M = query.shape\n",
        "    y = None\n",
        "    weights_softmax = None\n",
        "    ###############################################################################\n",
        "    # TODO: This function performs same function as self_attention_two_loop_batch #\n",
        "    # Implement this function using no loops.                                     #\n",
        "    # For the mask part, you can ignore it for now and revisit it in the later part.\n",
        "    # Given the shape of the mask is (N, K, K), and it is boolean with True values#\n",
        "    # indicating  the weights that have to be masked and False values indicating  #\n",
        "    # the weghts that dont need to be masked at that position. These masked-scaled#\n",
        "    # weights can then be softmaxed to compute the final weighted sum of values   #\n",
        "    # Hint: look at torch.bmm and torch.masked_fill                               #\n",
        "    ###############################################################################\n",
        "    # Replace \"pass\" statement with your code\n",
        "    scale = M**0.5\n",
        "    attention_scores = torch.bmm(query, key.transpose(1, 2)) / scale\n",
        "    if mask is not None:\n",
        "        ##########################################################################\n",
        "        # TODO: Apply the mask to the weight matrix by assigning -1e9 to the     #\n",
        "        # positions where the mask value is True, otherwise keep it as it is.    #\n",
        "        ##########################################################################\n",
        "        # Replace \"pass\" statement with your code\n",
        "        attention_scores = attention_scores.masked_fill(mask, -1e9)\n",
        "    # Replace \"pass\" statement with your code\n",
        "    # Apply softmax to get normalized attention weights\n",
        "    weights_softmax = torch.softmax(attention_scores, dim=-1)  # (N, K, K)\n",
        "\n",
        "    # Compute weighted sum of values\n",
        "    # (N, K, K) @ (N, K, M) -> (N, K, M)\n",
        "    y = torch.bmm(weights_softmax, value)\n",
        "    ##############################################################################\n",
        "    #               END OF YOUR CODE                                             #\n",
        "    ##############################################################################\n",
        "    return y, weights_softmax"
      ]
    },
    {
      "cell_type": "code",
      "execution_count": null,
      "id": "7341f6ff",
      "metadata": {
        "id": "7341f6ff",
        "colab": {
          "base_uri": "https://localhost:8080/"
        },
        "outputId": "18005c97-873d-4e19-b895-b1974957bb12"
      },
      "outputs": [
        {
          "output_type": "stream",
          "name": "stdout",
          "text": [
            "sacled_dot_product_two_loop_single error:  5.204997336388729e-06\n"
          ]
        }
      ],
      "source": [
        "N = 2  # Number of sentences\n",
        "K = 5  # Number of words in a sentence\n",
        "M = 4  # feature dimension of each word embedding\n",
        "\n",
        "query = torch.linspace(-0.4, 0.6, steps=K * M).reshape(K, M)  # **to_double_cuda\n",
        "key = torch.linspace(-0.8, 0.5, steps=K * M).reshape(K, M)  # **to_double_cuda\n",
        "value = torch.linspace(-0.3, 0.8, steps=K * M).reshape(K, M)  # *to_double_cuda\n",
        "\n",
        "y = scaled_dot_product_two_loop_single(query, key, value)\n",
        "y_expected = torch.tensor(\n",
        "    [\n",
        "        [0.08283, 0.14073, 0.19862, 0.25652],\n",
        "        [0.13518, 0.19308, 0.25097, 0.30887],\n",
        "        [0.18848, 0.24637, 0.30427, 0.36216],\n",
        "        [0.24091, 0.29881, 0.35670, 0.41460],\n",
        "        [0.29081, 0.34871, 0.40660, 0.46450],\n",
        "    ]\n",
        ").to(torch.float32)\n",
        "print(\"sacled_dot_product_two_loop_single error: \", rel_error(y_expected, y))"
      ]
    },
    {
      "cell_type": "code",
      "execution_count": null,
      "id": "79b11340",
      "metadata": {
        "id": "79b11340",
        "colab": {
          "base_uri": "https://localhost:8080/"
        },
        "outputId": "48b1aaeb-db08-45c9-c660-7a8a2bcc4256"
      },
      "outputs": [
        {
          "output_type": "stream",
          "name": "stdout",
          "text": [
            "scaled_dot_product_two_loop_batch error:  4.020571992067902e-06\n"
          ]
        }
      ],
      "source": [
        "N = 2  # Number of sentences\n",
        "K = 5  # Number of words in a sentence\n",
        "M = 4  # feature dimension of each word embedding\n",
        "\n",
        "query = torch.linspace(-0.4, 0.6, steps=N * K * M).reshape(N, K, M)  # **to_double_cuda\n",
        "key = torch.linspace(-0.8, 0.5, steps=N * K * M).reshape(N, K, M)  # **to_double_cuda\n",
        "value = torch.linspace(-0.3, 0.8, steps=N * K * M).reshape(N, K, M)  # *to_double_cuda\n",
        "\n",
        "y = scaled_dot_product_two_loop_batch(query, key, value)\n",
        "y_expected = torch.tensor(\n",
        "    [\n",
        "        [\n",
        "            [-0.09603, -0.06782, -0.03962, -0.01141],\n",
        "            [-0.08991, -0.06170, -0.03350, -0.00529],\n",
        "            [-0.08376, -0.05556, -0.02735, 0.00085],\n",
        "            [-0.07760, -0.04939, -0.02119, 0.00702],\n",
        "            [-0.07143, -0.04322, -0.01502, 0.01319],\n",
        "        ],\n",
        "        [\n",
        "            [0.49884, 0.52705, 0.55525, 0.58346],\n",
        "            [0.50499, 0.53319, 0.56140, 0.58960],\n",
        "            [0.51111, 0.53931, 0.56752, 0.59572],\n",
        "            [0.51718, 0.54539, 0.57359, 0.60180],\n",
        "            [0.52321, 0.55141, 0.57962, 0.60782],\n",
        "        ],\n",
        "    ]\n",
        ").to(torch.float32)\n",
        "print(\"scaled_dot_product_two_loop_batch error: \", rel_error(y_expected, y))"
      ]
    },
    {
      "cell_type": "code",
      "execution_count": null,
      "id": "b13b2d96",
      "metadata": {
        "id": "b13b2d96",
        "colab": {
          "base_uri": "https://localhost:8080/"
        },
        "outputId": "42465280-26b6-441d-d483-63b0608e30da"
      },
      "outputs": [
        {
          "output_type": "stream",
          "name": "stdout",
          "text": [
            "scaled_dot_product_no_loop_batch error:  4.020571992067902e-06\n"
          ]
        }
      ],
      "source": [
        "N = 2  # Number of sentences\n",
        "K = 5  # Number of words in a sentence\n",
        "M = 4  # feature dimension of each word embedding\n",
        "\n",
        "query = torch.linspace(-0.4, 0.6, steps=N * K * M).reshape(N, K, M)  # **to_double_cuda\n",
        "key = torch.linspace(-0.8, 0.5, steps=N * K * M).reshape(N, K, M)  # **to_double_cuda\n",
        "value = torch.linspace(-0.3, 0.8, steps=N * K * M).reshape(N, K, M)  # *to_double_cuda\n",
        "\n",
        "\n",
        "y, _ = scaled_dot_product_no_loop_batch(query, key, value)\n",
        "\n",
        "y_expected = torch.tensor(\n",
        "    [\n",
        "        [\n",
        "            [-0.09603, -0.06782, -0.03962, -0.01141],\n",
        "            [-0.08991, -0.06170, -0.03350, -0.00529],\n",
        "            [-0.08376, -0.05556, -0.02735, 0.00085],\n",
        "            [-0.07760, -0.04939, -0.02119, 0.00702],\n",
        "            [-0.07143, -0.04322, -0.01502, 0.01319],\n",
        "        ],\n",
        "        [\n",
        "            [0.49884, 0.52705, 0.55525, 0.58346],\n",
        "            [0.50499, 0.53319, 0.56140, 0.58960],\n",
        "            [0.51111, 0.53931, 0.56752, 0.59572],\n",
        "            [0.51718, 0.54539, 0.57359, 0.60180],\n",
        "            [0.52321, 0.55141, 0.57962, 0.60782],\n",
        "        ],\n",
        "    ]\n",
        ").to(torch.float32)\n",
        "\n",
        "print(\"scaled_dot_product_no_loop_batch error: \", rel_error(y_expected, y))"
      ]
    },
    {
      "cell_type": "markdown",
      "id": "56e21e2d",
      "metadata": {
        "id": "56e21e2d"
      },
      "source": [
        "## Observing time complexity:\n",
        "\n",
        "As Transformers are infamous for their time complexity that depends on the size of the input sequence.\n",
        "We can verify this now that we have implemented `self_attention_no_loop`.\n",
        "Run the cells below: the first has a sequence length of 256 and the second one has a sequence length of 512. You should roughly be 4 times slower with sequence length 512, hence showing that compleixity of the transformers increase quadratically with resprect to increase in the in sequence length.\n",
        "The `%timeit` lines may take several seconds to run."
      ]
    },
    {
      "cell_type": "code",
      "execution_count": null,
      "id": "e7d58596",
      "metadata": {
        "id": "e7d58596",
        "colab": {
          "base_uri": "https://localhost:8080/"
        },
        "outputId": "b8a6b7bd-adeb-4b35-dbce-9c989b0fd9b4"
      },
      "outputs": [
        {
          "output_type": "stream",
          "name": "stdout",
          "text": [
            "416 ms ± 1.1 ms per loop (mean ± std. dev. of 2 runs, 5 loops each)\n"
          ]
        }
      ],
      "source": [
        "N = 64\n",
        "K = 256  # defines the input sequence length\n",
        "M = emb_size = 2048\n",
        "dim_q = dim_k = 2048\n",
        "query = torch.linspace(-0.4, 0.6, steps=N * K * M).reshape(N, K, M)  # **to_double_cuda\n",
        "key = torch.linspace(-0.8, 0.5, steps=N * K * M).reshape(N, K, M)  # **to_double_cuda\n",
        "value = torch.linspace(-0.3, 0.8, steps=N * K * M).reshape(N, K, M)  # *to_double_cuda\n",
        "\n",
        "%timeit -n 5 -r 2  y = scaled_dot_product_no_loop_batch(query, key, value)"
      ]
    },
    {
      "cell_type": "code",
      "execution_count": null,
      "id": "a85adf69",
      "metadata": {
        "id": "a85adf69",
        "colab": {
          "base_uri": "https://localhost:8080/"
        },
        "outputId": "4b4b81ea-ca53-45e3-956d-644d96024508"
      },
      "outputs": [
        {
          "output_type": "stream",
          "name": "stdout",
          "text": [
            "1.56 s ± 59.9 ms per loop (mean ± std. dev. of 2 runs, 5 loops each)\n"
          ]
        }
      ],
      "source": [
        "N = 64\n",
        "K = 512  # defines the input requence length\n",
        "M = emb_size = 2048\n",
        "dim_q = dim_k = 2048\n",
        "query = torch.linspace(-0.4, 0.6, steps=N * K * M).reshape(N, K, M)  # **to_double_cuda\n",
        "key = torch.linspace(-0.8, 0.5, steps=N * K * M).reshape(N, K, M)  # **to_double_cuda\n",
        "value = torch.linspace(-0.3, 0.8, steps=N * K * M).reshape(N, K, M)  # *to_double_cuda\n",
        "\n",
        "%timeit -n 5 -r 2  y = scaled_dot_product_no_loop_batch(query, key, value)"
      ]
    },
    {
      "cell_type": "markdown",
      "id": "9d6e92b0",
      "metadata": {
        "id": "9d6e92b0"
      },
      "source": [
        "Now that we have implemented `scaled_dot_product_no_loop_batch`, lets implement `SingleHeadAttention`, that will serve as a building block for the `MultiHeadAttention` block. For this exercise, we have made a `SingleHeadAttention` class that inherits from `nn.module` class of Pytorch. You need to implement the `__init__` and the `forward` functions inside `Transformers.py`"
      ]
    },
    {
      "cell_type": "markdown",
      "id": "d5af8c01-dc3a-4cca-a479-e07580914e4c",
      "metadata": {
        "id": "d5af8c01-dc3a-4cca-a479-e07580914e4c"
      },
      "source": [
        "Run the following cells to test your implementation of `SelfAttention` layer. We have also written code to check the backward pass using pytorch autograd API in the following cell. You should expect the error to be less than 1e-5"
      ]
    },
    {
      "cell_type": "code",
      "execution_count": 15,
      "id": "113b3bf5",
      "metadata": {
        "id": "113b3bf5"
      },
      "outputs": [],
      "source": [
        "class SelfAttention(nn.Module):\n",
        "    def __init__(self, dim_in: int, dim_q: int, dim_v: int):\n",
        "        super().__init__()\n",
        "\n",
        "        \"\"\"\n",
        "        This class encapsulates the implementation of self-attention layer. We map\n",
        "        the input query, key, and value using MLP layers and then use\n",
        "        scaled_dot_product_no_loop_batch to the final output.\n",
        "\n",
        "        args:\n",
        "            dim_in: an int value for input sequence embedding dimension\n",
        "            dim_q: an int value for output dimension of query and ley vector\n",
        "            dim_v: an int value for output dimension for value vectors\n",
        "\n",
        "        \"\"\"\n",
        "        self.q = None  # initialize for query\n",
        "        self.k = None  # initialize for key\n",
        "        self.v = None  # initialize for value\n",
        "        self.weights_softmax = None\n",
        "        ##########################################################################\n",
        "        # TODO: This function initializes three functions to transform the 3 input\n",
        "        # sequences to key, query and value vectors. More precisely, initialize  #\n",
        "        # three nn.Linear layers that can transform the input with dimension     #\n",
        "        # dim_in to query with dimension dim_q, key with dimension dim_q, and    #\n",
        "        # values with dim_v. For each Linear layer, use the following strategy to#\n",
        "        # initialize the weights:                                                #\n",
        "        # If a Linear layer has input dimension D_in and output dimension D_out  #\n",
        "        # then initialize the weights sampled from a uniform distribution bounded#\n",
        "        # by [-c, c]                                                             #\n",
        "        # where c = sqrt(6/(D_in + D_out))                                       #\n",
        "        # Please use the same names for query, key and value transformations     #\n",
        "        # as given above. self.q, self.k, and self.v respectively.               #\n",
        "        ##########################################################################\n",
        "        # Replace \"pass\" statement with your code\n",
        "        # Initialize Linear layers for query, key, and value transformations\n",
        "        self.q = nn.Linear(dim_in, dim_q)\n",
        "        self.k = nn.Linear(dim_in, dim_q)\n",
        "        self.v = nn.Linear(dim_in, dim_v)\n",
        "\n",
        "        # Custom weight initialization for each Linear layer\n",
        "        for layer in [self.q, self.k, self.v]:\n",
        "            D_in, D_out = layer.in_features, layer.out_features\n",
        "            bound = (6 / (D_in + D_out))**0.5  # Calculate the bound\n",
        "            nn.init.uniform_(layer.weight, -bound, bound)  # Initialize weights\n",
        "            if layer.bias is not None:\n",
        "                nn.init.uniform_(layer.bias, -bound, bound)  # Initialize bias if it exists\n",
        "        ##########################################################################\n",
        "        #               END OF YOUR CODE                                         #\n",
        "        ##########################################################################\n",
        "\n",
        "    def forward(\n",
        "        self, query: Tensor, key: Tensor, value: Tensor, mask: Tensor = None\n",
        "    ) -> Tensor:\n",
        "\n",
        "        \"\"\"\n",
        "        An implementation of the forward pass of the self-attention layer.\n",
        "\n",
        "        args:\n",
        "            query: Tensor of shape (N, K, M)\n",
        "            key: Tensor of shape (N, K, M)\n",
        "            value: Tensor of shape (N, K, M)\n",
        "            mask: Tensor of shape (N, K, K)\n",
        "        return:\n",
        "            y: Tensor of shape (N, K, dim_v)\n",
        "        \"\"\"\n",
        "        self.weights_softmax = (\n",
        "            None  # weight matrix after applying self_attention_no_loop_batch\n",
        "        )\n",
        "        y = None\n",
        "        ##########################################################################\n",
        "        # TODO: Use the functions initialized in the init fucntion to find the   #\n",
        "        # output tensors. Precisely, pass the inputs query, key and value to the #\n",
        "        #  three functions iniitalized above. Then, pass these three transformed #\n",
        "        # query,  key and value tensors to the self_attention_no_loop_batch to   #\n",
        "        # get the final output. For now, dont worry about the mask and just      #\n",
        "        # pass it as a variable in self_attention_no_loop_batch. Assign the value#\n",
        "        # of output weight matrix from self_attention_no_loop_batch to the       #\n",
        "        # variable self.weights_softmax                                          #\n",
        "        ##########################################################################\n",
        "        # Replace \"pass\" statement with your code\n",
        "        query=self.q(query)\n",
        "        key=self.k(key)\n",
        "        value=self.v(value)\n",
        "        y,self.weights_softmax=scaled_dot_product_no_loop_batch(query,key,value)\n",
        "        ##########################################################################\n",
        "        #               END OF YOUR CODE                                         #\n",
        "        ##########################################################################\n",
        "\n",
        "        return y"
      ]
    },
    {
      "cell_type": "code",
      "execution_count": null,
      "id": "dc3669f2",
      "metadata": {
        "id": "dc3669f2",
        "colab": {
          "base_uri": "https://localhost:8080/"
        },
        "outputId": "d67b8923-f33b-4551-ef69-a49a85696ff1"
      },
      "outputs": [
        {
          "output_type": "stream",
          "name": "stdout",
          "text": [
            "SelfAttention error:  5.567700453666357e-07\n",
            "SelfAttention error:  0.4621903063309185\n"
          ]
        }
      ],
      "source": [
        "reset_seed(0)\n",
        "N = 2\n",
        "K = 4\n",
        "M = emb_size = 4\n",
        "dim_q = dim_k = 4\n",
        "atten_single = SelfAttention(emb_size, dim_q, dim_k)\n",
        "\n",
        "for k, v in atten_single.named_parameters():\n",
        "    # print(k, v.shape) # uncomment this to see the weight shape\n",
        "    v.data.copy_(torch.linspace(-1.4, 1.3, steps=v.numel()).reshape(*v.shape))\n",
        "\n",
        "query = torch.linspace(-0.4, 0.6, steps=N * K * M, requires_grad=True).reshape(\n",
        "    N, K, M\n",
        ")  # **to_double_cuda\n",
        "key = torch.linspace(-0.8, 0.5, steps=N * K * M, requires_grad=True).reshape(\n",
        "    N, K, M\n",
        ")  # **to_double_cuda\n",
        "value = torch.linspace(-0.3, 0.8, steps=N * K * M, requires_grad=True).reshape(\n",
        "    N, K, M\n",
        ")  # *to_double_cuda\n",
        "\n",
        "query.retain_grad()\n",
        "key.retain_grad()\n",
        "value.retain_grad()\n",
        "\n",
        "y_expected = torch.tensor(\n",
        "    [\n",
        "        [\n",
        "            [-1.10382, -0.37219, 0.35944, 1.09108],\n",
        "            [-1.45792, -0.50067, 0.45658, 1.41384],\n",
        "            [-1.74349, -0.60428, 0.53493, 1.67414],\n",
        "            [-1.92584, -0.67044, 0.58495, 1.84035],\n",
        "        ],\n",
        "        [\n",
        "            [-4.59671, -1.63952, 1.31767, 4.27486],\n",
        "            [-4.65586, -1.66098, 1.33390, 4.32877],\n",
        "            [-4.69005, -1.67339, 1.34328, 4.35994],\n",
        "            [-4.71039, -1.68077, 1.34886, 4.37848],\n",
        "        ],\n",
        "    ]\n",
        ")\n",
        "\n",
        "dy_expected = torch.tensor(\n",
        "    [\n",
        "        [\n",
        "            [-0.09084, -0.08961, -0.08838, -0.08715],\n",
        "            [0.69305, 0.68366, 0.67426, 0.66487],\n",
        "            [-0.88989, -0.87783, -0.86576, -0.85370],\n",
        "            [0.25859, 0.25509, 0.25158, 0.24808],\n",
        "        ],\n",
        "        [\n",
        "            [-0.05360, -0.05287, -0.05214, -0.05142],\n",
        "            [0.11627, 0.11470, 0.11312, 0.11154],\n",
        "            [-0.01048, -0.01034, -0.01019, -0.01005],\n",
        "            [-0.03908, -0.03855, -0.03802, -0.03749],\n",
        "        ],\n",
        "    ]\n",
        ")\n",
        "\n",
        "y = atten_single(query, key, value)\n",
        "dy = torch.randn(*y.shape)  # , **to_double_cuda\n",
        "\n",
        "y.backward(dy)\n",
        "query_grad = query.grad\n",
        "\n",
        "print(\"SelfAttention error: \", rel_error(y_expected, y))\n",
        "print(\"SelfAttention error: \", rel_error(dy_expected, query_grad))"
      ]
    },
    {
      "cell_type": "markdown",
      "id": "f4b80b79",
      "metadata": {
        "id": "f4b80b79"
      },
      "source": [
        "We have implemented the `SingleHeadAttention` block which brings use very close to implementing `MultiHeadAttention`. We will now see that this can be achieved by manipulating the shapes of input tensors based on number of heads in the Multi-Attention block. We design a network that uses multiple SingleHeadAttention blocks on the same input to compute the output tensors and finally concatenate them to generate a single output. This is not the implementation used in practice as it forces you to initialize multiple layers but we use it here for simplicity. Implement MultiHeadAttention block in the `transformers.py` file by using the SingleHeadAttention block."
      ]
    },
    {
      "cell_type": "markdown",
      "id": "3d530dc6-cf5d-41b9-b62e-71a1095a0f01",
      "metadata": {
        "id": "3d530dc6-cf5d-41b9-b62e-71a1095a0f01"
      },
      "source": [
        "Run the following cells to test your `MultiHeadAttention` layer. Again, as `SelfAttention`, we have used pytorch autograd API to test the backward pass. You should expect error values below 1e-5."
      ]
    },
    {
      "cell_type": "code",
      "execution_count": 16,
      "id": "6da2558e",
      "metadata": {
        "id": "6da2558e"
      },
      "outputs": [],
      "source": [
        "class MultiHeadAttention(nn.Module):\n",
        "    def __init__(self, num_heads: int, dim_in: int, dim_out: int):\n",
        "        super().__init__()\n",
        "\n",
        "        \"\"\"\n",
        "\n",
        "        A naive implementation of the MultiheadAttention layer for Transformer model.\n",
        "        We use multiple SelfAttention layers parallely on the same input and then concat\n",
        "        them to into a single tensor. This Tensor is then passed through an MLP to\n",
        "        generate the final output. The input shape will look like (N, K, M) where\n",
        "        N is the batch size, K is the batch size and M is the sequence embedding\n",
        "        dimension.\n",
        "        args:\n",
        "            num_heads: int value specifying the number of heads\n",
        "            dim_in: int value specifying the input dimension of the query, key\n",
        "                and value. This will be the input dimension to each of the\n",
        "                SingleHeadAttention blocks\n",
        "            dim_out: int value specifying the output dimension of the complete\n",
        "                MultiHeadAttention block\n",
        "\n",
        "\n",
        "\n",
        "        NOTE: Here, when we say dimension, we mean the dimesnion of the embeddings.\n",
        "              In Transformers the input is a tensor of shape (N, K, M), here N is\n",
        "              the batch size , K is the sequence length and M is the size of the\n",
        "              input embeddings. As the sequence length(K) and number of batches(N)\n",
        "              don't change usually, we mostly transform\n",
        "              the dimension(M) dimension.\n",
        "\n",
        "\n",
        "        \"\"\"\n",
        "\n",
        "        ##########################################################################\n",
        "        # TODO: Initialize two things here:                                      #\n",
        "        # 1.) Use nn.ModuleList to initialze a list of SingleHeadAttention layer #\n",
        "        # modules.The length of this list should be equal to num_heads with each #\n",
        "        # SingleHeadAttention layer having input dimension as dim_in, and query  #\n",
        "        # , key, and value dimension as dim_out.                                 #\n",
        "        # 2.) Use nn.Linear to map the output of nn.Modulelist block back to     #\n",
        "        # dim_in. Initialize the weights using the strategy mentioned in         #\n",
        "        # SelfAttention.                                                         #\n",
        "        ##########################################################################\n",
        "        # Replace \"pass\" statement with your code\n",
        "        dim_qv = dim_out // num_heads\n",
        "        self.heads=nn.ModuleList([SelfAttention(dim_in,dim_qv,dim_qv) for i in range(num_heads)])\n",
        "        self.output_linear = nn.Linear(dim_out, dim_in)\n",
        "        # Initialize the output Linear layer weights similarly to SelfAttention\n",
        "        D_in, D_out = self.output_linear.in_features, self.output_linear.out_features\n",
        "        bound = (6 / (D_in + D_out))**0.5\n",
        "        nn.init.uniform_(self.output_linear.weight, -bound, bound)\n",
        "        if self.output_linear.bias is not None:\n",
        "            nn.init.uniform_(self.output_linear.bias, -bound, bound)\n",
        "        ##########################################################################\n",
        "        #               END OF YOUR CODE                                         #\n",
        "        ##########################################################################\n",
        "\n",
        "    def forward(\n",
        "        self, query: Tensor, key: Tensor, value: Tensor, mask: Tensor = None\n",
        "    ) -> Tensor:\n",
        "\n",
        "        \"\"\"\n",
        "        An implementation of the forward pass of the MultiHeadAttention layer.\n",
        "\n",
        "        args:\n",
        "            query: Tensor of shape (N, K, M) where N is the number of sequences in\n",
        "                the batch, K is the sequence length and M is the input embedding\n",
        "                dimension. M should be equal to dim_in in the init function\n",
        "\n",
        "            key: Tensor of shape (N, K, M) where N is the number of sequences in\n",
        "                the batch, K is the sequence length and M is the input embedding\n",
        "                dimension. M should be equal to dim_in in the init function\n",
        "\n",
        "            value: Tensor of shape (N, K, M) where N is the number of sequences in\n",
        "                the batch, K is the sequence length and M is the input embedding\n",
        "                dimension. M should be equal to dim_in in the init function\n",
        "\n",
        "            mask: Tensor of shape (N, K, K) where N is the number of sequences in\n",
        "                the batch, K is the sequence length and M is the input embedding\n",
        "                dimension. M should be equal to dim_in in the init function\n",
        "\n",
        "        returns:\n",
        "            y: Tensor of shape (N, K, M)\n",
        "        \"\"\"\n",
        "        y = None\n",
        "        ##########################################################################\n",
        "        # TODO: You need to perform a forward pass through the MultiHeadAttention#\n",
        "        # block using the variables defined in the initializing function. The    #\n",
        "        # nn.ModuleList behaves as a list and you could use a for loop or list   #\n",
        "        # comprehension to extract different elements of it. Each of the elements#\n",
        "        # inside nn.ModuleList is a SingleHeadAttention that  will take the same #\n",
        "        # query, key, value and mask tensors and you will get a list of tensors as\n",
        "        # output. Concatenate this list if tensors and pass them through the     #\n",
        "        # nn.Linear mapping function defined in the initialization step.         #\n",
        "        ##########################################################################\n",
        "        # Replace \"pass\" statement with your code\n",
        "        # Apply each head to the input, and collect the results\n",
        "        head_outputs = [head(query,key,value)[0] for head in self.heads]  # Collect each head's output\n",
        "        concatenated = torch.cat(head_outputs, dim=-1)  # Concatenate along the embedding dimension\n",
        "\n",
        "        # Project concatenated outputs back to `dim_out`\n",
        "        y = self.output_linear(concatenated)\n",
        "        ##########################################################################\n",
        "        #               END OF YOUR CODE                                         #\n",
        "        ##########################################################################\n",
        "        return y"
      ]
    },
    {
      "cell_type": "code",
      "execution_count": null,
      "id": "87bf04ff",
      "metadata": {
        "id": "87bf04ff",
        "colab": {
          "base_uri": "https://localhost:8080/"
        },
        "outputId": "41c2fc01-7172-4310-8b5e-da92d4b7a9de"
      },
      "outputs": [
        {
          "output_type": "stream",
          "name": "stdout",
          "text": [
            "MultiHeadAttention error:  1.0\n",
            "MultiHeadAttention error:  1.0\n"
          ]
        }
      ],
      "source": [
        "reset_seed(0)\n",
        "N = 2\n",
        "num_heads = 2\n",
        "K = 4\n",
        "M = inp_emb_size = 4\n",
        "out_emb_size = 8\n",
        "atten_multihead = MultiHeadAttention(num_heads, inp_emb_size, out_emb_size)\n",
        "\n",
        "for k, v in atten_multihead.named_parameters():\n",
        "    # print(k, v.shape) # uncomment this to see the weight shape\n",
        "    v.data.copy_(torch.linspace(-1.4, 1.3, steps=v.numel()).reshape(*v.shape))\n",
        "\n",
        "query = torch.linspace(-0.4, 0.6, steps=N * K * M, requires_grad=True).reshape(\n",
        "    N, K, M\n",
        ")  # **to_double_cuda\n",
        "key = torch.linspace(-0.8, 0.5, steps=N * K * M, requires_grad=True).reshape(\n",
        "    N, K, M\n",
        ")  # **to_double_cuda\n",
        "value = torch.linspace(-0.3, 0.8, steps=N * K * M, requires_grad=True).reshape(\n",
        "    N, K, M\n",
        ")  # *to_double_cuda\n",
        "\n",
        "query.retain_grad()\n",
        "key.retain_grad()\n",
        "value.retain_grad()\n",
        "\n",
        "y_expected = torch.tensor(\n",
        "    [\n",
        "        [\n",
        "            [-0.23104, 0.50132, 1.23367, 1.96603],\n",
        "            [0.68324, 1.17869, 1.67413, 2.16958],\n",
        "            [1.40236, 1.71147, 2.02058, 2.32969],\n",
        "            [1.77330, 1.98629, 2.19928, 2.41227],\n",
        "        ],\n",
        "        [\n",
        "            [6.74946, 5.67302, 4.59659, 3.52015],\n",
        "            [6.82813, 5.73131, 4.63449, 3.53767],\n",
        "            [6.86686, 5.76001, 4.65315, 3.54630],\n",
        "            [6.88665, 5.77466, 4.66268, 3.55070],\n",
        "        ],\n",
        "    ]\n",
        ")\n",
        "dy_expected = torch.tensor(\n",
        "    [[[ 0.56268,  0.55889,  0.55510,  0.55131],\n",
        "         [ 0.43286,  0.42994,  0.42702,  0.42411],\n",
        "         [ 2.29865,  2.28316,  2.26767,  2.25218],\n",
        "         [ 0.49172,  0.48841,  0.48509,  0.48178]],\n",
        "\n",
        "        [[ 0.25083,  0.24914,  0.24745,  0.24576],\n",
        "         [ 0.14949,  0.14849,  0.14748,  0.14647],\n",
        "         [-0.03105, -0.03084, -0.03063, -0.03043],\n",
        "         [-0.02082, -0.02068, -0.02054, -0.02040]]]\n",
        ")\n",
        "\n",
        "y = atten_multihead(query, key, value)\n",
        "dy = torch.randn(*y.shape)  # , **to_double_cuda\n",
        "\n",
        "y.backward(dy)\n",
        "query_grad = query.grad\n",
        "print(\"MultiHeadAttention error: \", rel_error(y_expected, y))\n",
        "print(\"MultiHeadAttention error: \", rel_error(dy_expected, query_grad))"
      ]
    },
    {
      "cell_type": "markdown",
      "id": "9be6374e-a968-4b56-a1e4-31d745330b62",
      "metadata": {
        "id": "9be6374e-a968-4b56-a1e4-31d745330b62"
      },
      "source": [
        "### LayerNormalization"
      ]
    },
    {
      "cell_type": "markdown",
      "id": "1a71878d-f75b-4412-ad89-5cde3100f669",
      "metadata": {
        "id": "1a71878d-f75b-4412-ad89-5cde3100f669"
      },
      "source": [
        "In the follwing image we have highlighted the portion where LayerNorm has been used in the Transformer model. Note that in the architecture diagram it's written Add & Norm but we will implement The Norm layer for now and implement the Add part in a different manner.\n",
        "<img src=\"https://drive.google.com/uc?export=view&id=1baDniYuRzsEGnDegAFiARMhoxJjKSF2r\" alt=\"Layer_norm\" width=\"80%\">"
      ]
    },
    {
      "cell_type": "markdown",
      "id": "524ff12e",
      "metadata": {
        "id": "524ff12e"
      },
      "source": [
        "We implemented BatchNorm while working with CNNs. One of the problems of BatchNorm is its dependency on the the complete batch which might not give good results when the batch size is small. Ba et al proposed `LayerNormalization` that takes into account these problems and has become a standard in sequence-to-sequence tasks. In this section, we will implement `LayerNormalization`. Another nice quality of `LayerNormalization` is that as it depends on individual time steps or each element of the sequence, it can be parallelized and the test time runs in a similar manner hence making it better implementation wise. Again, you have to only implement the forward pass and the backward pass will be taken care by Pytorch autograd. Implement the `LayerNormalization` class in `transformers.py`, you should expect the error below 1e-5"
      ]
    },
    {
      "cell_type": "code",
      "execution_count": 17,
      "id": "cdbc1bf9",
      "metadata": {
        "id": "cdbc1bf9"
      },
      "outputs": [],
      "source": [
        "class LayerNormalization(nn.Module):\n",
        "    def __init__(self, emb_dim: int, epsilon: float = 1e-10):\n",
        "        super().__init__()\n",
        "        \"\"\"\n",
        "        The class implements the Layer Normalization for Linear layers in\n",
        "        Transformers.  Unlike BathcNorm ,it estimates the normalization statistics\n",
        "        for each element present in the batch and hence does not depend on the\n",
        "        complete batch.\n",
        "        The input shape will look something like (N, K, M) where N is the batch\n",
        "        size, K is the sequence length and M is the sequence length embedding. We\n",
        "        compute the  mean with shape (N, K) and standard deviation with shape (N, K)\n",
        "        and use them to normalize each sequence.\n",
        "\n",
        "        args:\n",
        "            emb_dim: int representing embedding dimension\n",
        "            epsilon: float value\n",
        "\n",
        "        \"\"\"\n",
        "\n",
        "        self.epsilon = epsilon\n",
        "\n",
        "        ##########################################################################\n",
        "        # TODO: Initialize the scale and shift parameters for LayerNorm.         #\n",
        "        # Initialize the scale parameters to all ones and shift parameter to all #\n",
        "        # zeros. As we have seen in the lecture, the shape of scale and shift    #\n",
        "        # parameters remains the same as in Batchnorm, initialize these parameters\n",
        "        # with appropriate dimensions. Dont forget to encapsulate these scale and#\n",
        "        # shift initializations with nn.Parameter                                #\n",
        "        ##########################################################################\n",
        "        # Replace \"pass\" statement with your code\n",
        "        self.epsilon = epsilon\n",
        "\n",
        "        # Initialize scale (gamma) to ones and shift (beta) to zeros\n",
        "        self.gamma = nn.Parameter(torch.ones(emb_dim))\n",
        "        self.beta = nn.Parameter(torch.zeros(emb_dim))\n",
        "        ##########################################################################\n",
        "        #               END OF YOUR CODE                                         #\n",
        "        ##########################################################################\n",
        "\n",
        "    def forward(self, x: Tensor):\n",
        "        \"\"\"\n",
        "        An implementation of the forward pass of the Layer Normalization.\n",
        "\n",
        "        args:\n",
        "            x: a Tensor of shape (N, K, M) or (N, K) where N is the batch size, K\n",
        "                is the sequence length and M is the embedding dimension\n",
        "\n",
        "        returns:\n",
        "            y: a Tensor of shape (N, K, M) or (N, K) after applying layer\n",
        "                normalization\n",
        "\n",
        "        \"\"\"\n",
        "        y = None\n",
        "        ##########################################################################\n",
        "        # TODO: Implement the forward pass of the LayerNormalization layer.      #\n",
        "        # Compute the mean and standard deviation of input and use these to      #\n",
        "        # normalize the input. Further, use self.gamma and self.beta to scale    #\n",
        "        # these and shift this normalized input. Don't use torch.std to compute  #\n",
        "        # the standard deviation.                                                #\n",
        "        ##########################################################################\n",
        "        # Replace \"pass\" statement with your code\n",
        "        mean = x.mean(dim=-1, keepdim=True)\n",
        "        variance = ((x - mean) ** 2).mean(dim=-1, keepdim=True)\n",
        "\n",
        "        # Normalize the input\n",
        "        x_normalized = (x - mean) / torch.sqrt(variance + self.epsilon)\n",
        "\n",
        "        # Apply scale (gamma) and shift (beta)\n",
        "        y = self.gamma * x_normalized + self.beta\n",
        "        ##########################################################################\n",
        "        #               END OF YOUR CODE                                         #\n",
        "        ##########################################################################\n",
        "        return y"
      ]
    },
    {
      "cell_type": "code",
      "execution_count": null,
      "id": "cdf95ed8",
      "metadata": {
        "id": "cdf95ed8",
        "colab": {
          "base_uri": "https://localhost:8080/"
        },
        "outputId": "e6e7985a-3e95-4eb4-f613-79357a363271"
      },
      "outputs": [
        {
          "output_type": "stream",
          "name": "stdout",
          "text": [
            "LayerNormalization error:  1.3772273765080196e-06\n",
            "LayerNormalization grad error:  2.2087854796632033e-07\n"
          ]
        }
      ],
      "source": [
        "reset_seed(0)\n",
        "N = 2\n",
        "K = 4\n",
        "norm = LayerNormalization(K)\n",
        "inp = torch.linspace(-0.4, 0.6, steps=N * K, requires_grad=True).reshape(N, K)\n",
        "\n",
        "inp.retain_grad()\n",
        "y = norm(inp)\n",
        "\n",
        "y_expected = torch.tensor(\n",
        "    [[-1.34164, -0.44721, 0.44721, 1.34164], [-1.34164, -0.44721, 0.44721, 1.34164]]\n",
        ")\n",
        "\n",
        "dy_expected = torch.tensor(\n",
        "    [[  5.70524,  -2.77289, -11.56993,   8.63758],\n",
        "        [  2.26242,  -4.44330,   2.09933,   0.08154]]\n",
        ")\n",
        "\n",
        "dy = torch.randn(*y.shape)\n",
        "y.backward(dy)\n",
        "inp_grad = inp.grad\n",
        "\n",
        "print(\"LayerNormalization error: \", rel_error(y_expected, y))\n",
        "print(\"LayerNormalization grad error: \", rel_error(dy_expected, inp_grad))"
      ]
    },
    {
      "cell_type": "markdown",
      "id": "5e86954f-f7df-4d7f-ab6c-2fe1dcb1f5b0",
      "metadata": {
        "id": "5e86954f-f7df-4d7f-ab6c-2fe1dcb1f5b0"
      },
      "source": [
        "### FeedForward Block"
      ]
    },
    {
      "cell_type": "markdown",
      "id": "3404d48c-95ce-47d6-ae27-93590552e221",
      "metadata": {
        "id": "3404d48c-95ce-47d6-ae27-93590552e221"
      },
      "source": [
        "In the image below we have highlighted the parts where FeedForward Block is used.\n",
        "<img src=\"https://drive.google.com/uc?export=view&id=1WCNACnI-Q6OfU3ngjIMCbNzb1sbFnCgP\" alt=\"Layer_norm\" width=\"80%\">"
      ]
    },
    {
      "cell_type": "markdown",
      "id": "5d49a145",
      "metadata": {
        "id": "5d49a145"
      },
      "source": [
        "Next, we will implement the `Feedforward` block. These are used in both the Encoder and Decoder network of the Transformer and they consist of stacked MLP and ReLU layers. In the overall architecture, the output of `MultiHeadAttention` is fed into the `FeedForward` block. Implement the `FeedForwardBlock` inside `transformers.py` and execute the following cells to check your implementation. You should expect the errors below 1e-5"
      ]
    },
    {
      "cell_type": "code",
      "execution_count": 18,
      "id": "cc2118cc",
      "metadata": {
        "id": "cc2118cc"
      },
      "outputs": [],
      "source": [
        "class FeedForwardBlock(nn.Module):\n",
        "    def __init__(self, inp_dim: int, hidden_dim_feedforward: int):\n",
        "        super().__init__()\n",
        "\n",
        "        \"\"\"\n",
        "        An implementation of the FeedForward block in the Transformers. We pass\n",
        "        the input through stacked 2 MLPs and 1 ReLU layer. The forward pass has\n",
        "        following architecture:\n",
        "\n",
        "        linear - relu -linear\n",
        "\n",
        "        The input will have a shape of (N, K, M) where N is the batch size, K is\n",
        "        the sequence length and M is the embedding dimension.\n",
        "\n",
        "        args:\n",
        "            inp_dim: int representing embedding dimension of the input tensor\n",
        "\n",
        "            hidden_dim_feedforward: int representing the hidden dimension for\n",
        "                the feedforward block\n",
        "        \"\"\"\n",
        "\n",
        "        ##########################################################################\n",
        "        # TODO: initialize two MLPs here with the first one using inp_dim as input\n",
        "        # dimension and hidden_dim_feedforward as output and the second with     #\n",
        "        # hidden_dim_feedforward as input. You should figure out the output      #\n",
        "        # dimesion of the second MLP. Initialize the weights of all the MLPs     #\n",
        "        # according to the strategy mentioned in SelfAttention block             #\n",
        "        # HINT: Will the shape of input and output shape of the FeedForwardBlock #\n",
        "        # change?                                                                #\n",
        "        ##########################################################################\n",
        "        # Replace \"pass\" statement with your code\n",
        "        # First Linear layer: maps `inp_dim` to `hidden_dim_feedforward`\n",
        "        self.fc1 = nn.Linear(inp_dim, hidden_dim_feedforward)\n",
        "\n",
        "        # Second Linear layer: maps `hidden_dim_feedforward` back to `inp_dim`\n",
        "        self.fc2 = nn.Linear(hidden_dim_feedforward, inp_dim)\n",
        "\n",
        "        # Initialize weights as in `SelfAttention`\n",
        "        for layer in [self.fc1, self.fc2]:\n",
        "            D_in, D_out = layer.in_features, layer.out_features\n",
        "            bound = (6 / (D_in + D_out))**0.5\n",
        "            nn.init.uniform_(layer.weight, -bound, bound)\n",
        "            if layer.bias is not None:\n",
        "                nn.init.uniform_(layer.bias, -bound, bound)\n",
        "        ##########################################################################\n",
        "        #               END OF YOUR CODE                                         #\n",
        "        ##########################################################################\n",
        "\n",
        "    def forward(self, x):\n",
        "        \"\"\"\n",
        "        An implementation of the forward pass of the FeedForward block.\n",
        "\n",
        "        args:\n",
        "            x: a Tensor of shape (N, K, M) which is the output of\n",
        "               MultiHeadAttention\n",
        "        returns:\n",
        "            y: a Tensor of shape (N, K, M)\n",
        "        \"\"\"\n",
        "        y = None\n",
        "        ###########################################################################\n",
        "        # TODO: Use the two MLP layers initialized in the init function to perform#\n",
        "        # a forward pass. You should be using a ReLU layer after the first MLP and#\n",
        "        # no activation after the second MLP                                      #\n",
        "        ###########################################################################\n",
        "        # Replace \"pass\" statement with your code\n",
        "        h=self.fc1(x)\n",
        "        m = nn.ReLU()\n",
        "        h1=m(h)\n",
        "        y=self.fc2(h1)\n",
        "        ##########################################################################\n",
        "        #               END OF YOUR CODE                                         #\n",
        "        ##########################################################################\n",
        "        return y"
      ]
    },
    {
      "cell_type": "code",
      "execution_count": null,
      "id": "764da0f7",
      "metadata": {
        "id": "764da0f7",
        "colab": {
          "base_uri": "https://localhost:8080/"
        },
        "outputId": "eafef61f-b60a-49ae-8a2b-d7ea476af4a1"
      },
      "outputs": [
        {
          "output_type": "stream",
          "name": "stdout",
          "text": [
            "FeedForwardBlock error:  2.1976866936034156e-07\n",
            "FeedForwardBlock error:  1.0\n"
          ]
        }
      ],
      "source": [
        "reset_seed(0)\n",
        "N = 2\n",
        "K = 4\n",
        "M = emb_size = 4\n",
        "\n",
        "ff_block = FeedForwardBlock(emb_size, 2 * emb_size)\n",
        "\n",
        "for k, v in ff_block.named_parameters():\n",
        "    v.data.copy_(torch.linspace(-1.4, 1.3, steps=v.numel()).reshape(*v.shape))\n",
        "\n",
        "inp = torch.linspace(-0.4, 0.6, steps=N * K, requires_grad=True).reshape(\n",
        "    N, K\n",
        ")\n",
        "inp.retain_grad()\n",
        "y = ff_block(inp)\n",
        "\n",
        "y_expected = torch.tensor(\n",
        "    [[-2.46161, -0.71662, 1.02838, 2.77337], [-7.56084, -1.69557, 4.16970, 10.03497]]\n",
        ")\n",
        "\n",
        "dy_expected = torch.tensor(\n",
        "    [[0.55105, 0.68884, 0.82662, 0.96441], [0.30734, 0.31821, 0.32908, 0.33996]]\n",
        ")\n",
        "\n",
        "dy = torch.randn(*y.shape)\n",
        "y.backward(dy)\n",
        "inp_grad = inp.grad\n",
        "\n",
        "print(\"FeedForwardBlock error: \", rel_error(y_expected, y))\n",
        "print(\"FeedForwardBlock error: \", rel_error(dy_expected, inp_grad))"
      ]
    },
    {
      "cell_type": "markdown",
      "id": "09489f50",
      "metadata": {
        "id": "09489f50"
      },
      "source": [
        "Now, if you look back to the original paper, Attention is all you Need, then, we are almost done with the building blocks of a transformer. What's left is:\n",
        "\n",
        "- Encapsulating the building blocks into Encoder Block\n",
        "- Encapsulating the building blocks into Decoder Block\n",
        "- Handling the input data preprocessing and positional encoding.\n",
        "\n",
        "We will first look at implementing the Encoder Block and Decoder block. The positional encoding is a non learnable embedding and we can treat it as a preprocessing step in our DataLoader."
      ]
    },
    {
      "cell_type": "markdown",
      "id": "ccaf4c99-49ba-49d0-970a-a8ee0ce3656e",
      "metadata": {
        "id": "ccaf4c99-49ba-49d0-970a-a8ee0ce3656e"
      },
      "source": [
        "In the figure below we have highlighted the encoder block in a Transformer. Notice that it is build using all the components we already implemented before. We just have to be careful about\n",
        "the residual connections in various blocks.\n",
        "<img src=\"https://drive.google.com/uc?export=view&id=1LsTN1BapktFzSo0smWV881kKeeJRfAa_\" alt=\"Layer_norm\" width=\"80%\">"
      ]
    },
    {
      "cell_type": "markdown",
      "id": "c1364689-db62-44f4-85ca-ed005a357f54",
      "metadata": {
        "id": "c1364689-db62-44f4-85ca-ed005a357f54"
      },
      "source": [
        "As shown in the figure above, the encoder block takes it inputs three tensors. We will assume that we have those three tensors, query, key, and value. Run the cell below to check your implementation of the EncoderBlock. You should expect the errors below 1e-5"
      ]
    },
    {
      "cell_type": "code",
      "execution_count": 24,
      "id": "b9fa5fea",
      "metadata": {
        "id": "b9fa5fea"
      },
      "outputs": [],
      "source": [
        "class EncoderBlock(nn.Module):\n",
        "    def __init__(\n",
        "        self, num_heads: int, emb_dim: int, feedforward_dim: int, dropout: float\n",
        "    ):\n",
        "        super().__init__()\n",
        "        \"\"\"\n",
        "        This class implements the encoder block for the Transformer model, the\n",
        "        original paper used 6 of these blocks sequentially to train the final model.\n",
        "        Here, we will first initialize the required layers using the building\n",
        "        blocks we have already  implemented, and then finally write the forward\n",
        "        pass using these initialized layers, residual connections and dropouts.\n",
        "\n",
        "        As shown in the Figure 1 of the paper attention is all you need\n",
        "        https://arxiv.org/pdf/1706.03762.pdf, the encoder consists of four components:\n",
        "\n",
        "        1. MultiHead Attention\n",
        "        2. FeedForward layer\n",
        "        3. Residual connections after MultiHead Attention and feedforward layer\n",
        "        4. LayerNorm\n",
        "\n",
        "        The architecture is as follows:\n",
        "\n",
        "       inp - multi_head_attention - out1 - layer_norm(out1 + inp) - dropout - out2 \\\n",
        "        - feedforward - out3 - layer_norm(out3 + out2) - dropout - out\n",
        "\n",
        "        Here, inp is input of the MultiHead Attention of shape (N, K, M), out1,\n",
        "        out2 and out3 are the outputs of the corresponding layers and we add these\n",
        "        outputs to their respective inputs for implementing residual connections.\n",
        "\n",
        "        args:\n",
        "            num_heads: int value specifying the number of heads in the\n",
        "                MultiHeadAttention block of the encoder\n",
        "\n",
        "            emb_dim: int value specifying the embedding dimension of the input\n",
        "                sequence\n",
        "\n",
        "            feedforward_dim: int value specifying the number of hidden units in the\n",
        "                FeedForward layer of Transformer\n",
        "\n",
        "            dropout: float value specifying the dropout value\n",
        "\n",
        "\n",
        "        \"\"\"\n",
        "\n",
        "        if emb_dim % num_heads != 0:\n",
        "            raise ValueError(\n",
        "                f\"\"\"The value emb_dim = {emb_dim} is not divisible\n",
        "                             by num_heads = {num_heads}. Please select an\n",
        "                             appropriate value.\"\"\"\n",
        "            )\n",
        "\n",
        "        ##########################################################################\n",
        "        # TODO: Initialize the following layers:                                 #\n",
        "        # 1. One MultiHead Attention block using num_heads as number of heads and#\n",
        "        #    emb_dim as the input dimension. You should also be able to compute  #\n",
        "        #    the output dimension of MultiheadHead attention given num_heads and #\n",
        "        #    emb_dim.                                                            #\n",
        "        #    Hint: use the logic that you concatenate the output from each       #\n",
        "        #    SingleHeadAttention inside the MultiHead Attention block and choose #\n",
        "        #    the output dimension such that the concatenated tensor and the input#\n",
        "        #    tensor have the same embedding dimension.                           #\n",
        "        #                                                                        #\n",
        "        # 2. Two LayerNorm layers with input dimension equal to emb_dim          #\n",
        "        # 3. One feedForward block taking input as emb_dim and hidden units as   #\n",
        "        #    feedforward_dim                                                     #\n",
        "        # 4. A Dropout layer with given dropout parameter                        #\n",
        "        ##########################################################################\n",
        "        # Replace \"pass\" statement with your code\n",
        "        self.mha=MultiHeadAttention(num_heads,emb_dim,emb_dim)\n",
        "        self.ln1=LayerNormalization(emb_dim)\n",
        "        self.do1=nn.Dropout(p=dropout)\n",
        "        self.ff=FeedForwardBlock(emb_dim,feedforward_dim)\n",
        "        self.ln2=LayerNormalization(emb_dim)\n",
        "        self.do2=nn.Dropout(p=dropout)\n",
        "        ##########################################################################\n",
        "        #               END OF YOUR CODE                                         #\n",
        "        ##########################################################################\n",
        "\n",
        "    def forward(self, x):\n",
        "\n",
        "        \"\"\"\n",
        "\n",
        "        An implementation of the forward pass of the EncoderBlock of the\n",
        "        Transformer model.\n",
        "        args:\n",
        "            x: a Tensor of shape (N, K, M) as input sequence\n",
        "        returns:\n",
        "            y: a Tensor of shape (N, K, M) as the output of the forward pass\n",
        "        \"\"\"\n",
        "        y = None\n",
        "        ##########################################################################\n",
        "        # TODO: Use the layer initialized in the init function to complete the   #\n",
        "        # forward pass. As Multihead Attention takes in 3 inputs, use the same   #\n",
        "        # input thrice as the input. Follow the Figure 1 in Attention is All you #\n",
        "        # Need paper to complete the rest of the forward pass. You can also take #\n",
        "        # reference from the architecture written in the fucntion documentation. #\n",
        "        ##########################################################################\n",
        "        # Replace \"pass\" statement with your code\n",
        "        out1=self.mha(x,x,x)\n",
        "        out2=self.do1(self.ln1(out1+x))\n",
        "        out3=self.ff(out2)\n",
        "        y=self.do2(self.ln2(out3+x))\n",
        "        ##########################################################################\n",
        "        #               END OF YOUR CODE                                         #\n",
        "        ##########################################################################\n",
        "        return y"
      ]
    },
    {
      "cell_type": "code",
      "execution_count": 25,
      "id": "76e8ccb0",
      "metadata": {
        "id": "76e8ccb0",
        "colab": {
          "base_uri": "https://localhost:8080/"
        },
        "outputId": "b9c82349-7e49-4934-9f6f-375a1c8f6cb9"
      },
      "outputs": [
        {
          "output_type": "stream",
          "name": "stdout",
          "text": [
            "EncoderBlock error 1:  0.5065144936104236\n",
            "EncoderBlock error 2:  0.49392045491119596\n"
          ]
        }
      ],
      "source": [
        "reset_seed(0)\n",
        "N = 2\n",
        "num_heads = 2\n",
        "emb_dim = K = 4\n",
        "feedforward_dim = 8\n",
        "M = inp_emb_size = 4\n",
        "out_emb_size = 8\n",
        "dropout = 0.2\n",
        "\n",
        "enc_seq_inp = torch.linspace(-0.4, 0.6, steps=N * K * M, requires_grad=True).reshape(\n",
        "    N, K, M\n",
        ")  # **to_double_cuda\n",
        "\n",
        "enc_block = EncoderBlock(num_heads, emb_dim, feedforward_dim, dropout)\n",
        "\n",
        "for k, v in enc_block.named_parameters():\n",
        "    # print(k, v.shape) # uncomment this to see the weight shape\n",
        "    v.data.copy_(torch.linspace(-1.4, 1.3, steps=v.numel()).reshape(*v.shape))\n",
        "\n",
        "encoder_out1_expected = torch.tensor(\n",
        "    [[[ 0.00000, -0.31357,  0.69126,  0.00000],\n",
        "         [ 0.42630, -0.25859,  0.72412,  3.87013],\n",
        "         [ 0.00000, -0.31357,  0.69126,  3.89884],\n",
        "         [ 0.47986, -0.30568,  0.69082,  3.90563]],\n",
        "\n",
        "        [[ 0.00000, -0.31641,  0.69000,  3.89921],\n",
        "         [ 0.47986, -0.30568,  0.69082,  3.90563],\n",
        "         [ 0.47986, -0.30568,  0.69082,  3.90563],\n",
        "         [ 0.51781, -0.30853,  0.71598,  3.85171]]]\n",
        ")\n",
        "encoder_out1 = enc_block(enc_seq_inp)\n",
        "print(\"EncoderBlock error 1: \", rel_error(encoder_out1, encoder_out1_expected))\n",
        "\n",
        "\n",
        "N = 2\n",
        "num_heads = 1\n",
        "emb_dim = K = 4\n",
        "feedforward_dim = 8\n",
        "M = inp_emb_size = 4\n",
        "out_emb_size = 8\n",
        "dropout = 0.2\n",
        "\n",
        "enc_seq_inp = torch.linspace(-0.4, 0.6, steps=N * K * M, requires_grad=True).reshape(\n",
        "    N, K, M\n",
        ")  # **to_double_cuda\n",
        "\n",
        "enc_block = EncoderBlock(num_heads, emb_dim, feedforward_dim, dropout)\n",
        "\n",
        "for k, v in enc_block.named_parameters():\n",
        "    # print(k, v.shape) # uncomment this to see the weight shape\n",
        "    v.data.copy_(torch.linspace(-1.4, 1.3, steps=v.numel()).reshape(*v.shape))\n",
        "\n",
        "encoder_out2_expected = torch.tensor(\n",
        "    [[[ 0.42630, -0.00000,  0.72412,  3.87013],\n",
        "         [ 0.49614, -0.31357,  0.00000,  3.89884],\n",
        "         [ 0.47986, -0.30568,  0.69082,  0.00000],\n",
        "         [ 0.51654, -0.32455,  0.69035,  3.89216]],\n",
        "\n",
        "        [[ 0.47986, -0.30568,  0.69082,  0.00000],\n",
        "         [ 0.49614, -0.31357,  0.69126,  3.89884],\n",
        "         [ 0.00000, -0.30354,  0.76272,  3.75311],\n",
        "         [ 0.49614, -0.31357,  0.69126,  3.89884]]]\n",
        ")\n",
        "encoder_out2 = enc_block(enc_seq_inp)\n",
        "print(\"EncoderBlock error 2: \", rel_error(encoder_out2, encoder_out2_expected))"
      ]
    },
    {
      "cell_type": "markdown",
      "id": "cc029c5b-ca52-454a-b8a4-b07cea708b5e",
      "metadata": {
        "id": "cc029c5b-ca52-454a-b8a4-b07cea708b5e"
      },
      "source": [
        "Great! You're almost done with the implementation of the Transformer model."
      ]
    },
    {
      "cell_type": "markdown",
      "id": "4b2616ef-5934-4a50-8f51-642ef635e2cb",
      "metadata": {
        "id": "4b2616ef-5934-4a50-8f51-642ef635e2cb"
      },
      "source": [
        "### Decoder Block\n",
        "\n",
        "The image below shows the highlighted Decoder block. Notice how it takes the input from the encoder and the target sequence.\n",
        "\n",
        "<img src=\"https://drive.google.com/uc?export=view&id=1DwU3BJsA0mUWTWlXNtNolB4oc5K4Z9PE\" alt=\"Layer_norm\" width=\"80%\">"
      ]
    },
    {
      "cell_type": "markdown",
      "id": "19e2d5d7-6918-4ea8-a369-0d53304ff1a7",
      "metadata": {
        "id": "19e2d5d7-6918-4ea8-a369-0d53304ff1a7"
      },
      "source": [
        "Now, we will look at the implementation of the decoder. In the  class we learned about encoder only model that can be used for tasks like sequence classification but for more complicated tasks like sequence to sequence we need a decoder network that can transform the output of the encoder to a target sequence. This kind of architecture is important in tasks like language translation where we have a sequence as input and a sequence as output. This decoder takes the input from the encoder and the previous generated value to generate the next value. During training, we use a Mask on the input so that the decoder network can't look ahead in the future and during inference we sequentially process the data.\n",
        "\n",
        "Before moving to implementing the Decoder Block, we should pay attention to the figure above. It says a \"Masked MultiHead Attention\" which actually prevents the decoder from looking ahead into the future. Lets understand with an example here. We have an expression as `BOS POSITIVE 01 add POSITIVE 00 EOS`, i.e. `1+0` that gives output as `BOS POSITIVE 01 EOS`, i.e. `+1`. Lets focus on the output sequence here. This is a sequence of length 5 (after applying our preprocessing code) and will will get transformed into *key*, *query*, and *value* matrix of dimension $5\\times128$, $5\\times128$ and $5\\times128$ respectively, where 128 is the embedding dimension of the Transformer. Now, while training, we input these vectors in the `self_attention_no_loop_batch` without mask. It will compute the dot product between *query* and *key* to generate a $5\\times5$ matrix where the first row (shape $1\\times5$) of that matrix tells us how much the word `EOS` is related with `EOS`, `POSITIVE`, `0`, `1`, and `EOS`. This means that it will use the weights of all these tokens to learn the final sequence that is to be predicted. This is okay when we are training the model but what happens when we perform inference? We start with a brand new expression, input this expression in the encoder but this time we only have the first starting token `EOS` for decoder and we don't know about the rest of the tokens in the sequence. Hence, a solution to this problem is to mask the weights inside the function `self_attention_no_loop_batch` for only the decoder part. This masking should prevent the decoder from accessing the future or next elements.\n",
        "\n",
        "We will now look at how to generate this mask for a given sequence. Then, you should also update the `self_attention_no_loop_batch` to use the mask variable appropriately. Implement the `get_subsequent_mask`, `self_attention_no_loop_batch` with mask inside `transformers.py` file"
      ]
    },
    {
      "cell_type": "code",
      "execution_count": 38,
      "id": "39392320-f75a-49cc-9d90-364d5eab897b",
      "metadata": {
        "id": "39392320-f75a-49cc-9d90-364d5eab897b",
        "colab": {
          "base_uri": "https://localhost:8080/"
        },
        "outputId": "9a6427d0-75c9-46e8-caa9-c218592ceacf"
      },
      "outputs": [
        {
          "output_type": "stream",
          "name": "stdout",
          "text": [
            "get_subsequent_mask error:  0.0\n"
          ]
        }
      ],
      "source": [
        "def get_subsequent_mask(seq):\n",
        "    \"\"\"\n",
        "    An implementation of the decoder self attention mask. This will be used to\n",
        "    mask the target sequence while training the model. The input shape here is\n",
        "    (N, K) where N is the batch size and K is the sequence length.\n",
        "\n",
        "    args:\n",
        "        seq: a tensor of shape (N, K) where N is the batch sieze and K is the\n",
        "             length of the sequence\n",
        "    return:\n",
        "        mask: a tensor of shape (N, K, K) where N is the batch sieze and K is the\n",
        "              length of the sequence\n",
        "\n",
        "    Given a sequence of length K, we want to mask the weights inside the function\n",
        "    `self_attention_no_loop_batch` so that it prohibits the decoder to look ahead\n",
        "    in the future\n",
        "    \"\"\"\n",
        "    mask = None\n",
        "    ###############################################################################\n",
        "    # TODO: This function constructs mask for the decoder part of the Transformer.#\n",
        "    # To implement this, for each sequence (of K) in the batch(N) return a        #\n",
        "    # boolean matrix that is True for the place where we have to apply mask and   #\n",
        "    # False where we don't have to apply the mask.                                #\n",
        "    #                                                                             #\n",
        "    ###############################################################################\n",
        "    size = seq.size(1)  # Get the sequence length (K)\n",
        "\n",
        "    # Create a matrix with shape (K, K) where elements in the upper triangular part are True (to mask)\n",
        "    subsequent_mask = torch.triu(torch.ones((size, size), dtype=torch.bool), diagonal=1)\n",
        "    return subsequent_mask\n",
        "\n",
        "reset_seed(0)\n",
        "seq_len_enc = K = 4\n",
        "M = inp_emb_size = 3\n",
        "\n",
        "inp_sequence = torch.linspace(-0.4, 0.6, steps=K * M, requires_grad=True).reshape(\n",
        "    K, M\n",
        ")  # **to_double_cuda\n",
        "\n",
        "mask_expected = torch.tensor(\n",
        "    [\n",
        "        [[False, True, True], [False, False, True], [False, False, False]],\n",
        "        [[False, True, True], [False, False, True], [False, False, False]],\n",
        "        [[False, True, True], [False, False, True], [False, False, False]],\n",
        "        [[False, True, True], [False, False, True], [False, False, False]],\n",
        "    ]\n",
        ")\n",
        "mask_predicted = get_subsequent_mask(inp_sequence)\n",
        "print(\n",
        "    \"get_subsequent_mask error: \", rel_error(mask_predicted.int(), mask_expected.int())\n",
        ")"
      ]
    },
    {
      "cell_type": "code",
      "execution_count": null,
      "id": "408e7333-9d14-498d-8661-b9f8703b24fe",
      "metadata": {
        "id": "408e7333-9d14-498d-8661-b9f8703b24fe"
      },
      "outputs": [],
      "source": [
        "from transformers import scaled_dot_product_no_loop_batch"
      ]
    },
    {
      "cell_type": "code",
      "execution_count": null,
      "id": "0b6d6114-f8fa-484b-8084-ea078db1545a",
      "metadata": {
        "id": "0b6d6114-f8fa-484b-8084-ea078db1545a"
      },
      "outputs": [],
      "source": [
        "reset_seed(0)\n",
        "N = 4\n",
        "K = 3\n",
        "M = 3\n",
        "\n",
        "query = torch.linspace(-0.4, 0.6, steps=K * M * N, requires_grad=True).reshape(N, K, M)\n",
        "key = torch.linspace(-0.1, 0.2, steps=K * M * N, requires_grad=True).reshape(N, K, M)\n",
        "value = torch.linspace(0.4, 0.8, steps=K * M * N, requires_grad=True).reshape(N, K, M)\n",
        "\n",
        "y_expected = torch.tensor(\n",
        "    [\n",
        "        [\n",
        "            [0.40000, 0.41143, 0.42286],\n",
        "            [0.41703, 0.42846, 0.43989],\n",
        "            [0.43408, 0.44551, 0.45694],\n",
        "        ],\n",
        "        [\n",
        "            [0.50286, 0.51429, 0.52571],\n",
        "            [0.51999, 0.53142, 0.54285],\n",
        "            [0.53720, 0.54863, 0.56006],\n",
        "        ],\n",
        "        [\n",
        "            [0.60571, 0.61714, 0.62857],\n",
        "            [0.62294, 0.63437, 0.64580],\n",
        "            [0.64032, 0.65175, 0.66318],\n",
        "        ],\n",
        "        [\n",
        "            [0.70857, 0.72000, 0.73143],\n",
        "            [0.72590, 0.73733, 0.74876],\n",
        "            [0.74344, 0.75487, 0.76630],\n",
        "        ],\n",
        "    ]\n",
        ")\n",
        "y_predicted, _ = scaled_dot_product_no_loop_batch(query, key, value, mask_expected)\n",
        "\n",
        "print(\"scaled_dot_product_no_loop_batch error: \", rel_error(y_expected, y_predicted))"
      ]
    },
    {
      "cell_type": "markdown",
      "id": "9671dba4-bf00-434d-865d-97c967e154a6",
      "metadata": {
        "id": "9671dba4-bf00-434d-865d-97c967e154a6"
      },
      "source": [
        "Lets finally implement the decoder block now that we have all the required tools to implement it. Fill in the init function and the forward pass of the `DecoderBlock` inside `transformers.py`. Run the following cells to check your implementation of the `DecoderBlock`. You should expect the errors below 1e-5."
      ]
    },
    {
      "cell_type": "code",
      "execution_count": 29,
      "id": "aa350b69",
      "metadata": {
        "id": "aa350b69"
      },
      "outputs": [],
      "source": [
        "class DecoderBlock(nn.Module):\n",
        "    def __init__(\n",
        "        self, num_heads: int, emb_dim: int, feedforward_dim: int, dropout: float\n",
        "    ):\n",
        "        super().__init__()\n",
        "        if emb_dim % num_heads != 0:\n",
        "            raise ValueError(\n",
        "                f\"\"\"The value emb_dim = {emb_dim} is not divisible\n",
        "                             by num_heads = {num_heads}. Please select an\n",
        "                             appropriate value.\"\"\"\n",
        "            )\n",
        "\n",
        "        \"\"\"\n",
        "        The function implements the DecoderBlock for the Transformer model. In the\n",
        "        class we learned about encoder only model that can be used for tasks like\n",
        "        sequence classification but for more complicated tasks like sequence to\n",
        "        sequence we need a decoder network that can transformt the output of the\n",
        "        encoder to a target sequence. This kind of architecture is important in\n",
        "        tasks like language translation where we have a sequence as input and a\n",
        "        sequence as output.\n",
        "\n",
        "        As shown in the Figure 1 of the paper attention is all you need\n",
        "        https://arxiv.org/pdf/1706.03762.pdf, the encoder consists of 5 components:\n",
        "\n",
        "        1. Masked MultiHead Attention\n",
        "        2. MultiHead Attention\n",
        "        3. FeedForward layer\n",
        "        4. Residual connections after MultiHead Attention and feedforward layer\n",
        "        5. LayerNorm\n",
        "\n",
        "        The Masked MultiHead Attention takes the target, masks it as per the\n",
        "        function get_subsequent_mask and then gives the output as per the MultiHead\n",
        "        Attention layer. Further, another Multihead Attention block here takes the\n",
        "        encoder output and the output from Masked Multihead Attention layer giving\n",
        "        the output that helps the model create interaction between input and\n",
        "        targets. As this block helps in interation of the input and target, it\n",
        "        is also sometimes called the cross attention.\n",
        "\n",
        "        The architecture is as follows:\n",
        "\n",
        "        inp - masked_multi_head_attention - out1 - layer_norm(inp + out1) - \\\n",
        "        dropout - (out2 and enc_out) -  multi_head_attention - out3 - \\\n",
        "        layer_norm(out3 + out2) - dropout - out4 - feed_forward - out5 - \\\n",
        "        layer_norm(out5 + out4) - dropout - out\n",
        "\n",
        "        Here, out1, out2, out3, out4, out5 are the corresponding outputs for the\n",
        "        layers, enc_out is the encoder output and we add these outputs to their\n",
        "        respective inputs for implementing residual connections.\n",
        "\n",
        "        args:\n",
        "            num_heads: int value representing number of heads\n",
        "\n",
        "            emb_dim: int value representing embedding dimension\n",
        "\n",
        "            feedforward_dim: int representing hidden layers in the feed forward\n",
        "                model\n",
        "\n",
        "            dropout: float representing the dropout value\n",
        "        \"\"\"\n",
        "        self.attention_self = None\n",
        "        self.attention_cross = None\n",
        "        self.feed_forward = None\n",
        "        self.norm1 = None\n",
        "        self.norm2 = None\n",
        "        self.norm3 = None\n",
        "        self.dropout = None\n",
        "        self.feed_forward = None\n",
        "        ##########################################################################\n",
        "        # TODO: Initialize the following layers:                                 #\n",
        "        # 1. Two MultiheadAttention layers with num_heads number of heads, emb_dim\n",
        "        #     as the embedding dimension. As done in Encoder, you should be able to\n",
        "        #     figure out the output dimension of both the MultiHeadAttention.    #\n",
        "        # 2. One FeedForward block that takes in emb_dim as input dimension and  #\n",
        "        #   feedforward_dim as hidden layers                                     #\n",
        "        # 3. LayerNormalization layers after each of the block                   #\n",
        "        # 4. Dropout after each of the block                                     #\n",
        "        ##########################################################################\n",
        "\n",
        "        # Replace \"pass\" statement with your code\n",
        "\n",
        "        self.attention_self=MultiHeadAttention(num_heads,emb_dim,emb_dim)\n",
        "        self.norm1=LayerNormalization(emb_dim)\n",
        "        self.dropout=nn.Dropout(p=dropout)\n",
        "        self.attention_cross=MultiHeadAttention(num_heads,emb_dim,emb_dim)\n",
        "        self.norm2=LayerNormalization(emb_dim)\n",
        "        self.dropout=nn.Dropout(p=dropout)\n",
        "        self.feed_forward=FeedForwardBlock(emb_dim,feedforward_dim)\n",
        "        self.norm3=LayerNormalization(emb_dim)\n",
        "        self.dropout=nn.Dropout(p=dropout)\n",
        "        ##########################################################################\n",
        "        #               END OF YOUR CODE                                         #\n",
        "        ##########################################################################\n",
        "\n",
        "    def forward(\n",
        "        self, dec_inp: Tensor, enc_inp: Tensor, mask: Tensor = None\n",
        "    ) -> Tensor:\n",
        "\n",
        "        \"\"\"\n",
        "        args:\n",
        "            dec_inp: a Tensor of shape (N, K, M)\n",
        "            enc_inp: a Tensor of shape (N, K, M)\n",
        "            mask: a Tensor of shape (N, K, K)\n",
        "\n",
        "        This function will handle the forward pass of the Decoder block. It takes\n",
        "        in input as enc_inp which is the encoder output and a tensor dec_inp which\n",
        "        is the target sequence shifted by one in case of training and an initial\n",
        "        token \"BOS\" during inference\n",
        "        \"\"\"\n",
        "        y = None\n",
        "        ##########################################################################\n",
        "        # TODO: Using the layers initialized in the init function, implement the #\n",
        "        # forward pass of the decoder block. Pass the dec_inp to the             #\n",
        "        # self.attention_self layer. This layer is responsible for the self      #\n",
        "        # interation of the decoder input. You should follow the Figure 1 in     #\n",
        "        # Attention is All you need paper to implenment the rest of the forward  #\n",
        "        # pass. Don't forget to apply the residual connections for different layers.\n",
        "        ##########################################################################\n",
        "        # Replace \"pass\" statement with your code\n",
        "        out1=self.attention_self(dec_inp,dec_inp,dec_inp,mask)\n",
        "        out2=self.dropout(self.norm1(out1+dec_inp))\n",
        "        out3=self.attention_cross(out2,enc_inp,enc_inp)\n",
        "        out4=self.dropout(self.norm2(out3+out2))\n",
        "        out5=self.feed_forward(out4)\n",
        "        y=self.dropout(self.norm3(out5+out4))\n",
        "        ##########################################################################\n",
        "        #               END OF YOUR CODE                                         #\n",
        "        ##########################################################################\n",
        "        return y"
      ]
    },
    {
      "cell_type": "code",
      "execution_count": 30,
      "id": "62927d47",
      "metadata": {
        "id": "62927d47",
        "colab": {
          "base_uri": "https://localhost:8080/"
        },
        "outputId": "76c03b0d-e9c9-422c-b191-9264d034b10e"
      },
      "outputs": [
        {
          "output_type": "stream",
          "name": "stdout",
          "text": [
            "DecoderBlock error:  0.5019683888273199\n",
            "DecoderBlock error:  0.49699180712256213\n"
          ]
        }
      ],
      "source": [
        "reset_seed(0)\n",
        "N = 2\n",
        "num_heads = 2\n",
        "seq_len_enc = K1 = 4\n",
        "seq_len_dec = K2 = 2\n",
        "feedforward_dim = 8\n",
        "M = emb_dim = 4\n",
        "out_emb_size = 8\n",
        "dropout = 0.2\n",
        "\n",
        "dec_inp = torch.linspace(-0.4, 0.6, steps=N * K1 * M, requires_grad=True).reshape(\n",
        "    N, K1, M\n",
        ")\n",
        "enc_out = torch.linspace(-0.4, 0.6, steps=N * K2 * M, requires_grad=True).reshape(\n",
        "    N, K2, M\n",
        ")\n",
        "dec_block = DecoderBlock(num_heads, emb_dim, feedforward_dim, dropout)\n",
        "\n",
        "for k, v in dec_block.named_parameters():\n",
        "    # print(k, v.shape) # uncomment this to see the weight shape\n",
        "    v.data.copy_(torch.linspace(-1.4, 1.3, steps=v.numel()).reshape(*v.shape))\n",
        "\n",
        "\n",
        "dec_out_expected = torch.tensor(\n",
        "    [[[ 0.50623, -0.32496,  0.00000,  0.00000],\n",
        "         [ 0.00000, -0.31690,  0.76956,  3.72647],\n",
        "         [ 0.49014, -0.32809,  0.66595,  3.93773],\n",
        "         [ 0.00000, -0.00000,  0.68203,  3.90856]],\n",
        "\n",
        "        [[ 0.51042, -0.32787,  0.68093,  3.90848],\n",
        "         [ 0.00000, -0.31637,  0.72275,  3.83122],\n",
        "         [ 0.64868, -0.00000,  0.77715,  0.00000],\n",
        "         [ 0.00000, -0.33105,  0.66565,  3.93602]]]\n",
        ")\n",
        "dec_out1 = dec_block(dec_inp, enc_out)\n",
        "print(\"DecoderBlock error: \", rel_error(dec_out1, dec_out_expected))\n",
        "\n",
        "N = 2\n",
        "num_heads = 2\n",
        "seq_len_enc = K1 = 4\n",
        "seq_len_dec = K2 = 4\n",
        "feedforward_dim = 4\n",
        "M = emb_dim = 4\n",
        "out_emb_size = 8\n",
        "dropout = 0.2\n",
        "\n",
        "dec_inp = torch.linspace(-0.4, 0.6, steps=N * K1 * M, requires_grad=True).reshape(\n",
        "    N, K1, M\n",
        ")\n",
        "enc_out = torch.linspace(-0.4, 0.6, steps=N * K2 * M, requires_grad=True).reshape(\n",
        "    N, K2, M\n",
        ")\n",
        "dec_block = DecoderBlock(num_heads, emb_dim, feedforward_dim, dropout)\n",
        "\n",
        "for k, v in dec_block.named_parameters():\n",
        "    # print(k, v.shape) # uncomment this to see the weight shape\n",
        "    v.data.copy_(torch.linspace(-1.4, 1.3, steps=v.numel()).reshape(*v.shape))\n",
        "\n",
        "\n",
        "dec_out_expected = torch.tensor(\n",
        "    [[[ 0.46707, -0.31916,  0.66218,  3.95182],\n",
        "         [ 0.00000, -0.31116,  0.66325,  0.00000],\n",
        "         [ 0.44538, -0.32419,  0.64068,  3.98847],\n",
        "         [ 0.49012, -0.31276,  0.68795,  3.90610]],\n",
        "\n",
        "        [[ 0.45800, -0.33023,  0.64106,  3.98324],\n",
        "         [ 0.45829, -0.31487,  0.66203,  3.95529],\n",
        "         [ 0.59787, -0.00000,  0.72361,  0.00000],\n",
        "         [ 0.70958, -0.37051,  0.78886,  3.63179]]]\n",
        ")\n",
        "dec_out2 = dec_block(dec_inp, enc_out)\n",
        "print(\"DecoderBlock error: \", rel_error(dec_out2, dec_out_expected))"
      ]
    },
    {
      "cell_type": "markdown",
      "id": "cba0c23d-ba32-442d-87fe-26c1f9848aad",
      "metadata": {
        "id": "cba0c23d-ba32-442d-87fe-26c1f9848aad"
      },
      "source": [
        "Based on the implementation of `EncoderBlock` and `DecoderBlock`, we have implemented the `Encoder` and `Decoder` networks for you in transformers.py. You should be able to understand the input and outputs of these Encoder and Decoder blocks. Implement the Transformer block inside transformer.py using these networks."
      ]
    },
    {
      "cell_type": "markdown",
      "id": "20a41e64-4de5-4289-be47-3e7282e88f35",
      "metadata": {
        "id": "20a41e64-4de5-4289-be47-3e7282e88f35"
      },
      "source": [
        "## Part III: Data loader\n",
        "\n",
        "In this part, we will have a look at creating the final data loader for the task, that can be used to train the Transformer model. This will comprise of two things:\n",
        "\n",
        "- Implement Positional Encoding\n",
        "- Create a dataloader using the `prepocess_input_sequence` fucntion that we created in Part I."
      ]
    },
    {
      "cell_type": "markdown",
      "id": "1249f651-4de3-4dd7-aa85-7d8bfb3e1e4f",
      "metadata": {
        "id": "1249f651-4de3-4dd7-aa85-7d8bfb3e1e4f"
      },
      "source": [
        "Lets start with implementing the Positional Encoding for the input. The positional encodings make the Transformers positionally aware about sequences. These are usually added to the input and hence should be same shape as input. As these are not learnable, they remain constant throughtout the training process. For this reason, we can look at it as a pre-processing step that's done on the input. Our strategy here would be to implement positional encoding function and use it later while creating DataLoader for the toy dataset.\n",
        "\n",
        "Lets look at the simplest kind of positional encoding, i.e. for a sequence of length K, assign the nth element in the sequence a value of n/K, where n starts from 0. Implement the position_encoding_simple inside `transformers.py`. You should expect error less than 1e-9 here."
      ]
    },
    {
      "cell_type": "markdown",
      "id": "0798f4f1-fdb5-4e3b-9dba-5e1e1d64277b",
      "metadata": {
        "id": "0798f4f1-fdb5-4e3b-9dba-5e1e1d64277b"
      },
      "source": [
        "### Simple positional encoding"
      ]
    },
    {
      "cell_type": "code",
      "execution_count": 31,
      "id": "90e1dad2-aecb-487e-8ece-c23b7e48c291",
      "metadata": {
        "id": "90e1dad2-aecb-487e-8ece-c23b7e48c291",
        "colab": {
          "base_uri": "https://localhost:8080/"
        },
        "outputId": "d3c77af0-0a19-42db-e82d-2c60ebddbca3"
      },
      "outputs": [
        {
          "output_type": "stream",
          "name": "stdout",
          "text": [
            "position_encoding_simple error:  0.14285714285714285\n",
            "position_encoding_simple error:  0.11111110743181195\n"
          ]
        }
      ],
      "source": [
        "def position_encoding_simple(K: int, M: int) -> Tensor:\n",
        "    \"\"\"\n",
        "    An implementation of the simple positional encoding using uniform intervals\n",
        "    for a sequence.\n",
        "\n",
        "    args:\n",
        "        K: int representing sequence length\n",
        "        M: int representing embedding dimension for the sequence\n",
        "\n",
        "    return:\n",
        "        y: a Tensor of shape (1, K, M)\n",
        "    \"\"\"\n",
        "    y = None\n",
        "    ##############################################################################\n",
        "    # TODO: Given the length of input sequence K, construct a 1D Tensor of length#\n",
        "    # K with nth element as n/K, where n starts from 0. Replicate this tensor M  #\n",
        "    # times to create a tensor of the required output shape                      #\n",
        "    ##############################################################################\n",
        "    # Replace \"pass\" statement with your code\n",
        "    # Create a 1D tensor of length K with elements n/K where n ranges from 0 to K-1\n",
        "    base_encoding = torch.linspace(0, 1, K).unsqueeze(1)\n",
        "\n",
        "    # Replicate the tensor M times along the last dimension to create (K, M)\n",
        "    y = base_encoding.repeat(1, M).unsqueeze(0)  # Shape (1, K, M)\n",
        "    ##############################################################################\n",
        "    #               END OF YOUR CODE                                             #\n",
        "    ##############################################################################\n",
        "    return y\n",
        "\n",
        "reset_seed(0)\n",
        "K = 4\n",
        "M = emb_size = 4\n",
        "\n",
        "y = position_encoding_simple(K, M)\n",
        "y_expected = torch.tensor(\n",
        "    [\n",
        "        [\n",
        "            [0.00000, 0.00000, 0.00000, 0.00000],\n",
        "            [0.25000, 0.25000, 0.25000, 0.25000],\n",
        "            [0.50000, 0.50000, 0.50000, 0.50000],\n",
        "            [0.75000, 0.75000, 0.75000, 0.75000],\n",
        "        ]\n",
        "    ]\n",
        ")\n",
        "\n",
        "print(\"position_encoding_simple error: \", rel_error(y, y_expected))\n",
        "\n",
        "K = 5\n",
        "M = emb_size = 3\n",
        "\n",
        "\n",
        "y = position_encoding_simple(K, M)\n",
        "y_expected = torch.tensor(\n",
        "    [\n",
        "        [\n",
        "            [0.00000, 0.00000, 0.00000],\n",
        "            [0.20000, 0.20000, 0.20000],\n",
        "            [0.40000, 0.40000, 0.40000],\n",
        "            [0.60000, 0.60000, 0.60000],\n",
        "            [0.80000, 0.80000, 0.80000],\n",
        "        ]\n",
        "    ]\n",
        ")\n",
        "print(\"position_encoding_simple error: \", rel_error(y, y_expected))"
      ]
    },
    {
      "cell_type": "markdown",
      "id": "8c8ddbbc-1631-4781-849d-3fd27a3b0619",
      "metadata": {
        "id": "8c8ddbbc-1631-4781-849d-3fd27a3b0619"
      },
      "source": [
        "### Sinusoid positional encoding"
      ]
    },
    {
      "cell_type": "markdown",
      "id": "1e3db3a0",
      "metadata": {
        "id": "1e3db3a0"
      },
      "source": [
        "Now that we have looked at a simple positional encoding, we can see one major drawback, which is that if the sequence length gets larger, the difference between two consecutive positional encodings becomes smaller and smaller and it in turn defeats a purpose of positional awareness, as there is very small diference in two consecutive positions. Another issue is that for each position we replicated it along embedding dimension, hence introducing redundancy which might not help the network in learning anything new. There could be different tricks that can be used to make a positional encoding that could solve these problems.\n",
        "\n",
        "Lets look at more mature version of a positonal encoding that uses a combination of sines and cosines function, also called sinusoid. This is also the positional encoding used in the original Transformer paper. For each element in the sequence (length K) with position $p$ and embedding (dimension M) positon $i$, we can define the positional encoding as:\n",
        "\n",
        "$$PE_{(p, 2i)} = \\sin\\left(\\frac{p}{10000^a}\\right)$$\n",
        "$$PE_{(p, 2i+1)} = \\cos\\left(\\frac{p}{10000^a}\\right)$$\n",
        "\n",
        "$$\\text{Where }a = \\left\\lfloor{\\frac{2i}{M}}\\right\\rfloor \\text{and M is the Embedding dimension of the Transformer}$$\n",
        "\n",
        "Here, $p$ remains constant for a position in the sequence and we assign alternating sines and cosines along the embedding dimension.\n",
        "\n",
        "Implement the fucntion `position_encoding` inside `transformers.py`. You should expect errors below 1e-5."
      ]
    },
    {
      "cell_type": "code",
      "execution_count": 32,
      "id": "135f8367-b90d-4956-8783-1e0c8e3e2c94",
      "metadata": {
        "id": "135f8367-b90d-4956-8783-1e0c8e3e2c94",
        "colab": {
          "base_uri": "https://localhost:8080/",
          "height": 349
        },
        "outputId": "fa8ef61b-0935-41e0-f611-3d0796dbb24e"
      },
      "outputs": [
        {
          "output_type": "stream",
          "name": "stdout",
          "text": [
            "position_encoding error:  0.9947700500488281\n"
          ]
        },
        {
          "output_type": "error",
          "ename": "RuntimeError",
          "evalue": "The expanded size of the tensor (1) must match the existing size (2) at non-singleton dimension 1.  Target sizes: [5, 1].  Tensor sizes: [5, 2]",
          "traceback": [
            "\u001b[0;31m---------------------------------------------------------------------------\u001b[0m",
            "\u001b[0;31mRuntimeError\u001b[0m                              Traceback (most recent call last)",
            "\u001b[0;32m<ipython-input-32-8d6b49f57782>\u001b[0m in \u001b[0;36m<cell line: 62>\u001b[0;34m()\u001b[0m\n\u001b[1;32m     60\u001b[0m \u001b[0;34m\u001b[0m\u001b[0m\n\u001b[1;32m     61\u001b[0m \u001b[0;34m\u001b[0m\u001b[0m\n\u001b[0;32m---> 62\u001b[0;31m \u001b[0my2\u001b[0m \u001b[0;34m=\u001b[0m \u001b[0mposition_encoding_sinusoid\u001b[0m\u001b[0;34m(\u001b[0m\u001b[0mK\u001b[0m\u001b[0;34m,\u001b[0m \u001b[0mM\u001b[0m\u001b[0;34m)\u001b[0m\u001b[0;34m\u001b[0m\u001b[0;34m\u001b[0m\u001b[0m\n\u001b[0m\u001b[1;32m     63\u001b[0m y_expected = torch.tensor(\n\u001b[1;32m     64\u001b[0m     [\n",
            "\u001b[0;32m<ipython-input-32-8d6b49f57782>\u001b[0m in \u001b[0;36mposition_encoding_sinusoid\u001b[0;34m(K, M)\u001b[0m\n\u001b[1;32m     29\u001b[0m     \u001b[0mpe\u001b[0m \u001b[0;34m=\u001b[0m \u001b[0mtorch\u001b[0m\u001b[0;34m.\u001b[0m\u001b[0mzeros\u001b[0m\u001b[0;34m(\u001b[0m\u001b[0;34m(\u001b[0m\u001b[0mK\u001b[0m\u001b[0;34m,\u001b[0m \u001b[0mM\u001b[0m\u001b[0;34m)\u001b[0m\u001b[0;34m)\u001b[0m\u001b[0;34m\u001b[0m\u001b[0;34m\u001b[0m\u001b[0m\n\u001b[1;32m     30\u001b[0m     \u001b[0mpe\u001b[0m\u001b[0;34m[\u001b[0m\u001b[0;34m:\u001b[0m\u001b[0;34m,\u001b[0m \u001b[0;36m0\u001b[0m\u001b[0;34m:\u001b[0m\u001b[0;34m:\u001b[0m\u001b[0;36m2\u001b[0m\u001b[0;34m]\u001b[0m \u001b[0;34m=\u001b[0m \u001b[0mtorch\u001b[0m\u001b[0;34m.\u001b[0m\u001b[0msin\u001b[0m\u001b[0;34m(\u001b[0m\u001b[0mposition\u001b[0m \u001b[0;34m*\u001b[0m \u001b[0mdiv_term\u001b[0m\u001b[0;34m)\u001b[0m  \u001b[0;31m# Apply sin to even indices\u001b[0m\u001b[0;34m\u001b[0m\u001b[0;34m\u001b[0m\u001b[0m\n\u001b[0;32m---> 31\u001b[0;31m     \u001b[0mpe\u001b[0m\u001b[0;34m[\u001b[0m\u001b[0;34m:\u001b[0m\u001b[0;34m,\u001b[0m \u001b[0;36m1\u001b[0m\u001b[0;34m:\u001b[0m\u001b[0;34m:\u001b[0m\u001b[0;36m2\u001b[0m\u001b[0;34m]\u001b[0m \u001b[0;34m=\u001b[0m \u001b[0mtorch\u001b[0m\u001b[0;34m.\u001b[0m\u001b[0mcos\u001b[0m\u001b[0;34m(\u001b[0m\u001b[0mposition\u001b[0m \u001b[0;34m*\u001b[0m \u001b[0mdiv_term\u001b[0m\u001b[0;34m)\u001b[0m  \u001b[0;31m# Apply cos to odd indices\u001b[0m\u001b[0;34m\u001b[0m\u001b[0;34m\u001b[0m\u001b[0m\n\u001b[0m\u001b[1;32m     32\u001b[0m \u001b[0;34m\u001b[0m\u001b[0m\n\u001b[1;32m     33\u001b[0m     \u001b[0;31m# Add a batch dimension at the start to make it (1, K, M)\u001b[0m\u001b[0;34m\u001b[0m\u001b[0;34m\u001b[0m\u001b[0m\n",
            "\u001b[0;31mRuntimeError\u001b[0m: The expanded size of the tensor (1) must match the existing size (2) at non-singleton dimension 1.  Target sizes: [5, 1].  Tensor sizes: [5, 2]"
          ]
        }
      ],
      "source": [
        "def position_encoding_sinusoid(K: int, M: int) -> Tensor:\n",
        "\n",
        "    \"\"\"\n",
        "    An implementation of the sinousoidal positional encodings.\n",
        "\n",
        "    args:\n",
        "        K: int representing sequence length\n",
        "        M: int representing embedding dimension for the sequence\n",
        "\n",
        "    return:\n",
        "        y: a Tensor of shape (1, K, M)\n",
        "\n",
        "    \"\"\"\n",
        "    y = None\n",
        "    ##############################################################################\n",
        "    # TODO: Given the length of input sequence K and embedding dimension M       #\n",
        "    # construct a tesnor of shape (K, M) where the value along the dimensions    #\n",
        "    # follow the equations given in the notebook. Make sure to keep in mind the  #\n",
        "    # alternating sines and cosines along the embedding dimension M.             #\n",
        "    ##############################################################################\n",
        "    # Replace \"pass\" statement with your code\n",
        "    # Create a tensor of shape (K, 1) for positions\n",
        "    position = torch.arange(K, dtype=torch.float32).unsqueeze(1)  # Shape (K, 1)\n",
        "\n",
        "    # Compute the scaling factor for each dimension\n",
        "    div_term = torch.exp(torch.arange(0, M, 2).float() * (-torch.log(torch.tensor(10000.0)) / M))\n",
        "\n",
        "    # Compute the sinusoidal encodings\n",
        "    pe = torch.zeros((K, M))\n",
        "    pe[:, 0::2] = torch.sin(position * div_term)  # Apply sin to even indices\n",
        "    pe[:, 1::2] = torch.cos(position * div_term)  # Apply cos to odd indices\n",
        "\n",
        "    # Add a batch dimension at the start to make it (1, K, M)\n",
        "    y = pe.unsqueeze(0)\n",
        "    ##############################################################################\n",
        "    #               END OF YOUR CODE                                             #\n",
        "    ##############################################################################\n",
        "    return y\n",
        "\n",
        "reset_seed(0)\n",
        "K = 4\n",
        "M = emb_size = 4\n",
        "\n",
        "y1 = position_encoding_sinusoid(K, M)\n",
        "y_expected = torch.tensor(\n",
        "    [\n",
        "        [\n",
        "            [0.00000, 1.00000, 0.00000, 1.00000],\n",
        "            [0.84147, 0.54030, 0.84147, 0.54030],\n",
        "            [0.90930, -0.41615, 0.90930, -0.41615],\n",
        "            [0.14112, -0.98999, 0.14112, -0.98999],\n",
        "        ]\n",
        "    ]\n",
        ")\n",
        "\n",
        "print(\"position_encoding error: \", rel_error(y1, y_expected))\n",
        "\n",
        "K = 5\n",
        "M = emb_size = 3\n",
        "\n",
        "\n",
        "y2 = position_encoding_sinusoid(K, M)\n",
        "y_expected = torch.tensor(\n",
        "    [\n",
        "        [\n",
        "            [0.00000, 1.00000, 0.00000],\n",
        "            [0.84147, 0.54030, 0.84147],\n",
        "            [0.90930, -0.41615, 0.90930],\n",
        "            [0.14112, -0.98999, 0.14112],\n",
        "            [-0.75680, -0.65364, -0.75680],\n",
        "        ]\n",
        "    ]\n",
        ")\n",
        "print(\"position_encoding error: \", rel_error(y2, y_expected))"
      ]
    },
    {
      "cell_type": "markdown",
      "id": "579e6f2e-d2f0-4a10-a54f-c65ecdccc587",
      "metadata": {
        "id": "579e6f2e-d2f0-4a10-a54f-c65ecdccc587"
      },
      "source": [
        "### Constructing the DataLoader for the toy dataset"
      ]
    },
    {
      "cell_type": "markdown",
      "id": "5f2d8dd1",
      "metadata": {
        "id": "5f2d8dd1"
      },
      "source": [
        "Now we will use the implemented positonal encodings to construct a DataLoader in Pytorch. The function of a data loader is to return a batch for training/validation. We first make a Dataset class that gives us a single element in the batch and then use a DataLoader to wrap the dataset. We inherit the Dataset from `torch.utils.data.Dataset` class. This class consists of two important functions that you'd change depending on your usecase (for e.g. the upcoming project!). The first function is `__init__`, this consists of the components that are *static*, in other words, these are the variables that won't change when we want the next element from the complete data. The second fucntion is `__getitem__` which contains the core functionality of the final dataloader.\n",
        "\n",
        "To get the final dataloader, we wrap the `train_data` and `test_data` in `torch.utils.data.DataLoader` class"
      ]
    },
    {
      "cell_type": "code",
      "execution_count": 33,
      "id": "a673ee9f-c5ae-438c-b696-9662dcb87c52",
      "metadata": {
        "id": "a673ee9f-c5ae-438c-b696-9662dcb87c52"
      },
      "outputs": [],
      "source": [
        "from sklearn.model_selection import train_test_split\n",
        "class AddSubDataset(torch.utils.data.Dataset):\n",
        "    def __init__(\n",
        "        self,\n",
        "        input_seqs,\n",
        "        target_seqs,\n",
        "        convert_str_to_tokens,\n",
        "        special_tokens,\n",
        "        emb_dim,\n",
        "        pos_encode,\n",
        "    ):\n",
        "\n",
        "        \"\"\"\n",
        "        The class implements the dataloader that will be used for the toy dataset.\n",
        "\n",
        "        args:\n",
        "            input_seqs: A list of input strings\n",
        "            target_seqs: A list of output strings\n",
        "            convert_str_to_tokens: Dictionary to convert input string to tokens\n",
        "            special_tokens: A list of strings\n",
        "            emb_dim: embedding dimension of the transformer\n",
        "            pos_encode: A function to compute positional encoding for the data\n",
        "        \"\"\"\n",
        "\n",
        "        self.input_seqs = input_seqs\n",
        "        self.target_seqs = target_seqs\n",
        "        self.convert_str_to_tokens = convert_str_to_tokens\n",
        "        self.emb_dim = emb_dim\n",
        "        self.special_tokens = special_tokens\n",
        "        self.pos_encode = pos_encode\n",
        "\n",
        "    def preprocess(self, inp):\n",
        "        return prepocess_input_sequence(\n",
        "            inp, self.convert_str_to_tokens, self.special_tokens\n",
        "        )\n",
        "\n",
        "    def __getitem__(self, idx):\n",
        "        \"\"\"\n",
        "        The core fucntion to get element with index idx in the data.\n",
        "        args:\n",
        "            idx: index of the element that we need to extract from the data\n",
        "        returns:\n",
        "            preprocess_inp: A 1D tensor of length K, where K is the input sequence\n",
        "                length\n",
        "            inp_pos_enc: A tensor of shape (K, M), where K is the sequence length\n",
        "                and M is the embedding dimension\n",
        "            preprocess_out: A 1D tensor of length O, where O is the output\n",
        "                sequence length\n",
        "            out_pos_enc: A tensor of shape (O, M), where O is the sequence length\n",
        "                and M is the embedding dimension\n",
        "        \"\"\"\n",
        "\n",
        "        inp = self.input_seqs[idx]\n",
        "        out = self.target_seqs[idx]\n",
        "        preprocess_inp = torch.tensor(self.preprocess(inp))\n",
        "        preprocess_out = torch.tensor(self.preprocess(out))\n",
        "        inp_pos = len(preprocess_inp)\n",
        "        inp_pos_enc = self.pos_encode(inp_pos, self.emb_dim)\n",
        "        out_pos = len(preprocess_out)\n",
        "        out_pos_enc = self.pos_encode(out_pos, self.emb_dim)\n",
        "\n",
        "        return preprocess_inp, inp_pos_enc[0], preprocess_out, out_pos_enc[0]\n",
        "\n",
        "    def __len__(self):\n",
        "        return len(self.input_seqs)\n",
        "\n",
        "BATCH_SIZE = 16\n",
        "\n",
        "X, y = data[\"inp_expression\"], data[\"out_expression\"]\n",
        "\n",
        "X_train, X_test, y_train, y_test = train_test_split(X, y, test_size=0.1, random_state=0)\n",
        "\n",
        "train_data = AddSubDataset(\n",
        "    X_train,\n",
        "    y_train,\n",
        "    convert_str_to_tokens,\n",
        "    SPECIAL_TOKENS,\n",
        "    32,\n",
        "    position_encoding_simple,\n",
        ")\n",
        "valid_data = AddSubDataset(\n",
        "    X_test, y_test, convert_str_to_tokens, SPECIAL_TOKENS, 32, position_encoding_simple\n",
        ")\n",
        "\n",
        "train_loader = torch.utils.data.DataLoader(\n",
        "    train_data, batch_size=BATCH_SIZE, shuffle=False, drop_last=True\n",
        ")\n",
        "valid_loader = torch.utils.data.DataLoader(\n",
        "    valid_data, batch_size=BATCH_SIZE, shuffle=False, drop_last=True\n",
        ")"
      ]
    },
    {
      "cell_type": "markdown",
      "id": "17ac4856-63fd-4693-87b2-ae616f438202",
      "metadata": {
        "id": "17ac4856-63fd-4693-87b2-ae616f438202"
      },
      "source": [
        "## Part IV: Using transformer on the toy dataset"
      ]
    },
    {
      "cell_type": "markdown",
      "id": "0fde5c5d",
      "metadata": {
        "id": "0fde5c5d"
      },
      "source": [
        "In this part, we will put all the parts together to train a transformer model. We have implemented most of the functions here for you and your task would be to use these functions to train a Transformer model. The overall tasks are divided into three parts:\n",
        "\n",
        "- Implement the Transformer model using previusly implemented functions\n",
        "- Overfitting the model\n",
        "- Training using complete data\n",
        "- Visualizing the attention"
      ]
    },
    {
      "cell_type": "code",
      "execution_count": 34,
      "id": "a14ddc39",
      "metadata": {
        "id": "a14ddc39"
      },
      "outputs": [],
      "source": [
        "from tqdm import tqdm"
      ]
    },
    {
      "cell_type": "markdown",
      "id": "c0918d6d-0207-406e-9f2e-9a9cc901754f",
      "metadata": {
        "id": "c0918d6d-0207-406e-9f2e-9a9cc901754f"
      },
      "source": [
        "### Implement the Transformer model"
      ]
    },
    {
      "cell_type": "markdown",
      "id": "3f77aa51-af4e-404b-a981-75edd5892623",
      "metadata": {
        "id": "3f77aa51-af4e-404b-a981-75edd5892623"
      },
      "source": [
        "We will add all the peices together to implement the Transformer model completely, as shown in the figure below. Note that till now we have implemented the Encoder and Decoder, and we handled the positional encodings for the input. Whats left is the input and output embedding layer. We will share this embedding layer for the encoder and decoder here. Lastly, we need to map the final output of the decoder to the vocabulary length(the last linear block after decoder in the figure below)\n",
        "<img src=\"https://drive.google.com/uc?export=view&id=1snyWKrr2r1J-O8VQTVxkwQYptk0oFhIM\" alt=\"Layer_norm\" width=\"80%\">"
      ]
    },
    {
      "cell_type": "markdown",
      "id": "7447b1ff",
      "metadata": {
        "id": "7447b1ff"
      },
      "source": [
        "Implement the Transformer model in `transformer.py` and run the cells below to check the final shapes of the output"
      ]
    },
    {
      "cell_type": "code",
      "source": [
        "class Encoder(nn.Module):\n",
        "    def __init__(\n",
        "        self,\n",
        "        num_heads: int,\n",
        "        emb_dim: int,\n",
        "        feedforward_dim: int,\n",
        "        num_layers: int,\n",
        "        dropout: float,\n",
        "    ):\n",
        "        \"\"\"\n",
        "        The class encapsulates the implementation of the final Encoder that use\n",
        "        multiple EncoderBlock layers.\n",
        "\n",
        "        args:\n",
        "            num_heads: int representing number of heads to be used in the\n",
        "                EncoderBlock\n",
        "            emb_dim: int repreesenting embedding dimension for the Transformer\n",
        "                model\n",
        "            feedforward_dim: int representing hidden layer dimension for the\n",
        "                feed forward block\n",
        "\n",
        "        \"\"\"\n",
        "\n",
        "        super().__init__()\n",
        "        self.layers = nn.ModuleList(\n",
        "            [\n",
        "                EncoderBlock(num_heads, emb_dim, feedforward_dim, dropout)\n",
        "                for _ in range(num_layers)\n",
        "            ]\n",
        "        )\n",
        "\n",
        "    def forward(self, src_seq: Tensor):\n",
        "        for _layer in self.layers:\n",
        "            src_seq = _layer(src_seq)\n",
        "\n",
        "        return src_seq\n",
        "\n",
        "\n",
        "class Decoder(nn.Module):\n",
        "    def __init__(\n",
        "        self,\n",
        "        num_heads: int,\n",
        "        emb_dim: int,\n",
        "        feedforward_dim: int,\n",
        "        num_layers: int,\n",
        "        dropout: float,\n",
        "        vocab_len: int,\n",
        "    ):\n",
        "        super().__init__()\n",
        "        \"\"\"\n",
        "        The Decoder takes the input from the encoder and the target\n",
        "        sequence to generate the final sequence for the output. We\n",
        "        first pass the input through stacked DecoderBlocks and then\n",
        "        project the output to vocab_len which is required to get the\n",
        "        actual sequence.\n",
        "\n",
        "        args:\n",
        "            num_heads: Int representing number of heads in the MultiheadAttention\n",
        "            for Transformer\n",
        "            emb_dim: int representing the embedding dimension\n",
        "            of the sequence\n",
        "            feedforward_dim: hidden layers in the feed forward block\n",
        "            num_layers: int representing the number of DecoderBlock in Decoder\n",
        "            dropout: float representing the dropout in each DecoderBlock\n",
        "            vocab_len: length of the vocabulary\n",
        "\n",
        "\n",
        "        \"\"\"\n",
        "\n",
        "        self.layers = nn.ModuleList(\n",
        "            [\n",
        "                DecoderBlock(num_heads, emb_dim, feedforward_dim, dropout)\n",
        "                for _ in range(num_layers)\n",
        "            ]\n",
        "        )\n",
        "        self.proj_to_vocab = nn.Linear(emb_dim, vocab_len)\n",
        "        a = (6 / (emb_dim + vocab_len)) ** 0.5\n",
        "        nn.init.uniform_(self.proj_to_vocab.weight, -a, a)\n",
        "\n",
        "    def forward(self, target_seq: Tensor, enc_out: Tensor, mask: Tensor):\n",
        "\n",
        "        out = target_seq.clone()\n",
        "        for _layer in self.layers:\n",
        "            out = _layer(out, enc_out, mask)\n",
        "        out = self.proj_to_vocab(out)\n",
        "        return out"
      ],
      "metadata": {
        "id": "U9KYCgwuJf5o"
      },
      "id": "U9KYCgwuJf5o",
      "execution_count": 36,
      "outputs": []
    },
    {
      "cell_type": "code",
      "execution_count": 40,
      "id": "8d0f19cf",
      "metadata": {
        "id": "8d0f19cf"
      },
      "outputs": [],
      "source": [
        "import torch.optim as optim\n",
        "class Transformer(nn.Module):\n",
        "    def __init__(\n",
        "        self,\n",
        "        num_heads: int,\n",
        "        emb_dim: int,\n",
        "        feedforward_dim: int,\n",
        "        dropout: float,\n",
        "        num_enc_layers: int,\n",
        "        num_dec_layers: int,\n",
        "        vocab_len: int,\n",
        "    ):\n",
        "        super().__init__()\n",
        "\n",
        "        \"\"\"\n",
        "        The class implements Transformer model with encoder and decoder. The input\n",
        "        to the model is a tensor of shape (N, K) and the output is a tensor of shape\n",
        "        (N*O, V). Here, N is the batch size, K is the input sequence length, O is\n",
        "        the output sequence length and V is the Vocabulary size. The input is passed\n",
        "        through shared nn.Embedding layer and then added to input positonal\n",
        "        encodings. Similarily, the target is passed through the same nn.Embedding\n",
        "        layer and added to the target positional encodings. The only difference\n",
        "        is that we take last but one  value in the target. The summed\n",
        "        inputs(look at the code for detials) are then sent through the encoder and\n",
        "        decoder blocks  to get the  final output.\n",
        "        args:\n",
        "            num_heads: int representing number of heads to be used in Encoder\n",
        "                       and decoder\n",
        "            emb_dim: int representing embedding dimension of the Transformer\n",
        "            dim_feedforward: int representing number of hidden layers in the\n",
        "                             Encoder and decoder\n",
        "            dropout: a float representing probability for dropout layer\n",
        "            num_enc_layers: int representing number of encoder blocks\n",
        "            num_dec_layers: int representing number of decoder blocks\n",
        "\n",
        "        \"\"\"\n",
        "        self.emb_layer = None\n",
        "        ##########################################################################\n",
        "        # TODO: Initialize an Embedding layer mapping vocab_len to emb_dim. This #\n",
        "        # is the very first input to our model and transform this input to       #\n",
        "        # emb_dim that will stay the same throughout our model. Please use the   #\n",
        "        # name of this layer as self.emb_layer                                   #\n",
        "        ##########################################################################\n",
        "        # Replace \"pass\" statement with your code\n",
        "        self.emb_layer = nn.Embedding(vocab_len, emb_dim)\n",
        "        ##########################################################################\n",
        "        #               END OF YOUR CODE                                         #\n",
        "        ##########################################################################\n",
        "        self.encoder = Encoder(\n",
        "            num_heads, emb_dim, feedforward_dim, num_enc_layers, dropout\n",
        "        )\n",
        "        self.decoder = Decoder(\n",
        "            num_heads,\n",
        "            emb_dim,\n",
        "            feedforward_dim,\n",
        "            num_dec_layers,\n",
        "            dropout,\n",
        "            vocab_len,\n",
        "        )\n",
        "\n",
        "    def forward(\n",
        "        self, ques_b: Tensor, ques_pos: Tensor, ans_b: Tensor, ans_pos: Tensor\n",
        "    ) -> Tensor:\n",
        "\n",
        "        \"\"\"\n",
        "\n",
        "        An implementation of the forward pass of the Transformer.\n",
        "\n",
        "        args:\n",
        "            ques_b: Tensor of shape (N, K) that consists of input sequence of\n",
        "                the arithmetic expression\n",
        "            ques_pos: Tensor of shape (N, K, M) that consists of positional\n",
        "                encodings of the input sequence\n",
        "            ans_b: Tensor of shape (N, K) that consists of target sequence\n",
        "                of arithmetic expression\n",
        "            ans_pos: Tensor of shape (N, K, M) that consists of positonal\n",
        "                encodings of the target sequence\n",
        "\n",
        "        returns:\n",
        "            dec_out: Tensor of shape (N*O, M) where O is the size of\n",
        "                the target sequence.\n",
        "        \"\"\"\n",
        "        q_emb = self.emb_layer(ques_b)\n",
        "        a_emb = self.emb_layer(ans_b)\n",
        "        q_emb_inp = q_emb + ques_pos\n",
        "        a_emb_inp = a_emb[:, :-1] + ans_pos[:, :-1]\n",
        "        dec_out = None\n",
        "        ##########################################################################\n",
        "        # TODO: This portion consists of writing the forward part for the complete\n",
        "        # Transformer. First, pass the q_emb_inp through the encoder, this will be\n",
        "        # the encoder output which you should use as one of the decoder inputs.\n",
        "        # Along with the encoder output, you should also construct an appropriate\n",
        "        # mask using the get_subsequent_mask. Finally, pass the a_emb_inp, the\n",
        "        # encoder output and the mask to the decoder. The task here is to mask\n",
        "        # the values of the target(a_emb_inp)\n",
        "        # Hint: the mask shape will depend on the Tensor ans_b\n",
        "        ##########################################################################\n",
        "        # Replace \"pass\" statement with your code\n",
        "        enc_out=self.encoder(q_emb_inp)\n",
        "        mask=get_subsequent_mask(a_emb_inp)\n",
        "        dec_out=self.decoder(a_emb_inp,enc_out,mask)\n",
        "        dec_out = dec_out.reshape(dec_out.size(0) * dec_out.size(1), dec_out.size(2))\n",
        "        ##########################################################################\n",
        "        #               END OF YOUR CODE                                         #\n",
        "        ##########################################################################\n",
        "\n",
        "        return dec_out\n",
        "\n",
        "inp_seq_len = 9\n",
        "out_seq_len = 5\n",
        "num_heads = 4\n",
        "emb_dim = 32\n",
        "dim_feedforward = 64\n",
        "dropout = 0.2\n",
        "num_enc_layers = 4\n",
        "num_dec_layers = 4\n",
        "vocab_len = len(vocab)\n",
        "\n",
        "model = Transformer(\n",
        "    num_heads,\n",
        "    emb_dim,\n",
        "    dim_feedforward,\n",
        "    dropout,\n",
        "    num_enc_layers,\n",
        "    num_dec_layers,\n",
        "    vocab_len,\n",
        ")\n",
        "for it in train_loader:\n",
        "  it\n",
        "  break\n",
        "inp, inp_pos, out, out_pos = it\n",
        "device = DEVICE\n",
        "model = model.to(device)\n",
        "inp_pos = inp_pos.to(device)\n",
        "out_pos = out_pos.to(device)\n",
        "out = out.to(device)\n",
        "inp = inp.to(device)\n",
        "\n",
        "\n",
        "model_out = model(inp.long(), inp_pos, out.long(), out_pos)\n",
        "assert model_out.size(0) == BATCH_SIZE * (out_seq_len - 1)\n",
        "assert model_out.size(1) == vocab_len"
      ]
    },
    {
      "cell_type": "markdown",
      "id": "bc890c7f",
      "metadata": {
        "id": "bc890c7f"
      },
      "source": [
        "### Overfitting the model using small data"
      ]
    },
    {
      "cell_type": "markdown",
      "id": "62a4b8da",
      "metadata": {
        "id": "62a4b8da"
      },
      "source": [
        "Now that we have implemented the Transformer model, lets overfit on a small dataset. This will ensure that the implementation is correct. We keep the training and validation data same here. Before doing that, a couple of things to keep in mind:\n",
        "\n",
        "- We implemented two versions of positional encodings: simple and sinusoid. For overfitting, we will use the simple positional encoding but feel free to experiment with both when training for the complete model\n",
        "- In transformers.py, we have implemented two loss functions for you. The first is the familiar cross entropy loss and second is the `LabelSmoothingLoss`. For overfitting, we will use the cross entropy loss but feel free to experiment with both while doing experiment with the complete data.\n",
        "- Usually, the training regime of Transformers start with a warmup, in other words, we train the model with a lower learning rate for some iterations and then increasing the learning rate to make the network learn faster. Intuitively, this helps you to attain a stable manifold in the loss function and then we increase the learning rate to learn faster in this stable manifold. In a way we are warming up the network to be in a stable manifold and we start training with a higher learning rate after this warm-up. For overfitting we have NOT used this warm-up as for such small data, it is okay to start with a higer learning rate but you should keep this in mind while training with the complete data. We have used two functions from a5_helper.py, `train` and `val`. Here, `train` has three parameters that you should pay attention to:\n",
        "  - `warmup_interval`: Specifies the number of iterations that the network should train with a low learning rate. In other words, its the number of iterations after which the network will have the higher learning rate\n",
        "  - `warmup_lr`: This is the learning rate that will be used during warmup.\n",
        "  - `lr`: This is the learning rate that will get used after the warm-up. If warmup_interval is None, we will start training with this learning rate.\n",
        "\n",
        "In the following cells for overfitting, we have used the number of epochs as 200 but you could increase this. You should get an accuracy ~1 in 200 epochs. It might be a little lower as well, don't worry about it. It should take about a minute to run the overfitting.\n",
        "\n",
        "NOTE: When we say epoch, it means the number of times we have taken a complete pass over the data. One epoch typically consists of many iterations that depend on the batch size."
      ]
    },
    {
      "cell_type": "code",
      "execution_count": 41,
      "id": "f9a206d1",
      "metadata": {
        "id": "f9a206d1"
      },
      "outputs": [],
      "source": [
        "def LabelSmoothingLoss(pred, ground):\n",
        "    \"\"\"\n",
        "    args:\n",
        "        pred: predicted tensor of shape (N*O, V) where N is the batch size, O\n",
        "            is the target sequence length and V is the size of the vocab\n",
        "        ground: ground truth tensor of shape (N, O) where N is the batch size, O\n",
        "            is the target sequence\n",
        "    \"\"\"\n",
        "    ground = ground.contiguous().view(-1)\n",
        "    eps = 0.1\n",
        "    n_class = pred.size(1)\n",
        "    one_hot = torch.nn.functional.one_hot(ground).to(pred.dtype)\n",
        "    one_hot = one_hot * (1 - eps) + (1 - one_hot) * eps / (n_class - 1)\n",
        "    log_prb = F.log_softmax(pred, dim=1)\n",
        "    loss = -(one_hot * log_prb).sum(dim=1)\n",
        "    loss = loss.sum()\n",
        "    return loss\n",
        "\n",
        "\n",
        "def CrossEntropyLoss(pred, ground):\n",
        "    \"\"\"\n",
        "    args:\n",
        "        pred: predicted tensor of shape (N*O, V) where N is the batch size, O\n",
        "            is the target sequence length and V is the size of the vocab\n",
        "        ground: ground truth tensor of shape (N, O) where N is the batch size, O\n",
        "            is the target sequence\n",
        "    \"\"\"\n",
        "    loss = F.cross_entropy(pred, ground, reduction=\"sum\")\n",
        "    return loss\n",
        "import torch.optim as optim\n",
        "from a5_helper import train as train_transformer\n",
        "from a5_helper import val as val_transformer"
      ]
    },
    {
      "cell_type": "code",
      "execution_count": 42,
      "id": "033af962",
      "metadata": {
        "id": "033af962"
      },
      "outputs": [],
      "source": [
        "inp_seq_len = 9\n",
        "out_seq_len = 5\n",
        "num_heads = 4\n",
        "emb_dim = 32\n",
        "dim_feedforward = 32\n",
        "dropout = 0.2\n",
        "num_enc_layers = 1\n",
        "num_dec_layers = 1\n",
        "vocab_len = len(vocab)\n",
        "BATCH_SIZE = 4\n",
        "num_epochs=200 #number of epochs\n",
        "lr=1e-3 #learning rate after warmup\n",
        "loss_func = CrossEntropyLoss\n",
        "warmup_interval = None #number of iterations for warmup\n",
        "\n",
        "model = Transformer(\n",
        "    num_heads,\n",
        "    emb_dim,\n",
        "    dim_feedforward,\n",
        "    dropout,\n",
        "    num_enc_layers,\n",
        "    num_dec_layers,\n",
        "    vocab_len,\n",
        ")\n",
        "train_data = AddSubDataset(\n",
        "    X_train,\n",
        "    y_train,\n",
        "    convert_str_to_tokens,\n",
        "    SPECIAL_TOKENS,\n",
        "    emb_dim,\n",
        "    position_encoding_simple,\n",
        ")\n",
        "valid_data = AddSubDataset(\n",
        "    X_test,\n",
        "    y_test,\n",
        "    convert_str_to_tokens,\n",
        "    SPECIAL_TOKENS,\n",
        "    emb_dim,\n",
        "    position_encoding_simple,\n",
        ")\n",
        "\n",
        "train_loader = torch.utils.data.DataLoader(\n",
        "    train_data, batch_size=BATCH_SIZE, shuffle=False, drop_last=True\n",
        ")\n",
        "valid_loader = torch.utils.data.DataLoader(\n",
        "    valid_data, batch_size=BATCH_SIZE, shuffle=False, drop_last=True\n",
        ")\n",
        "\n",
        "small_dataset = torch.utils.data.Subset(\n",
        "    train_data, torch.linspace(0, len(train_data) - 1, steps=4).long()\n",
        ")\n",
        "small_train_loader = torch.utils.data.DataLoader(\n",
        "    small_dataset, batch_size=4, pin_memory=True, num_workers=1, shuffle=False\n",
        ")"
      ]
    },
    {
      "cell_type": "code",
      "execution_count": 43,
      "id": "8c4fa6c5",
      "metadata": {
        "id": "8c4fa6c5",
        "colab": {
          "base_uri": "https://localhost:8080/"
        },
        "outputId": "35c5cd0b-e847-42f6-9967-2f8f7a44e660"
      },
      "outputs": [
        {
          "output_type": "stream",
          "name": "stdout",
          "text": [
            "Training started...\n",
            "[epoch: 1] [loss:  3.6031 ] val_loss: [val_loss  3.3472 ]\n",
            "[epoch: 2] [loss:  3.4013 ] val_loss: [val_loss  3.1174 ]\n",
            "[epoch: 3] [loss:  2.8290 ] val_loss: [val_loss  2.8851 ]\n",
            "[epoch: 4] [loss:  3.1038 ] val_loss: [val_loss  2.6725 ]\n",
            "[epoch: 5] [loss:  2.9385 ] val_loss: [val_loss  2.4613 ]\n",
            "[epoch: 6] [loss:  2.7472 ] val_loss: [val_loss  2.2790 ]\n",
            "[epoch: 7] [loss:  2.9246 ] val_loss: [val_loss  2.1198 ]\n",
            "[epoch: 8] [loss:  3.0758 ] val_loss: [val_loss  1.9820 ]\n",
            "[epoch: 9] [loss:  2.5098 ] val_loss: [val_loss  1.8603 ]\n",
            "[epoch: 10] [loss:  2.9404 ] val_loss: [val_loss  1.7571 ]\n",
            "[epoch: 11] [loss:  2.1638 ] val_loss: [val_loss  1.6681 ]\n",
            "[epoch: 12] [loss:  1.8994 ] val_loss: [val_loss  1.5943 ]\n",
            "[epoch: 13] [loss:  2.2360 ] val_loss: [val_loss  1.5295 ]\n",
            "[epoch: 14] [loss:  2.2525 ] val_loss: [val_loss  1.4766 ]\n",
            "[epoch: 15] [loss:  1.9887 ] val_loss: [val_loss  1.4292 ]\n",
            "[epoch: 16] [loss:  2.1354 ] val_loss: [val_loss  1.3861 ]\n",
            "[epoch: 17] [loss:  1.9344 ] val_loss: [val_loss  1.3456 ]\n",
            "[epoch: 18] [loss:  1.5167 ] val_loss: [val_loss  1.3123 ]\n",
            "[epoch: 19] [loss:  1.6059 ] val_loss: [val_loss  1.2818 ]\n",
            "[epoch: 20] [loss:  2.1453 ] val_loss: [val_loss  1.2533 ]\n",
            "[epoch: 21] [loss:  1.5768 ] val_loss: [val_loss  1.2277 ]\n",
            "[epoch: 22] [loss:  2.1681 ] val_loss: [val_loss  1.2058 ]\n",
            "[epoch: 23] [loss:  1.4606 ] val_loss: [val_loss  1.1892 ]\n",
            "[epoch: 24] [loss:  1.6068 ] val_loss: [val_loss  1.1705 ]\n",
            "[epoch: 25] [loss:  1.6673 ] val_loss: [val_loss  1.1516 ]\n",
            "[epoch: 26] [loss:  1.7988 ] val_loss: [val_loss  1.1348 ]\n",
            "[epoch: 27] [loss:  1.5694 ] val_loss: [val_loss  1.1180 ]\n",
            "[epoch: 28] [loss:  1.4652 ] val_loss: [val_loss  1.1000 ]\n",
            "[epoch: 29] [loss:  1.4009 ] val_loss: [val_loss  1.0845 ]\n",
            "[epoch: 30] [loss:  1.2520 ] val_loss: [val_loss  1.0709 ]\n",
            "[epoch: 31] [loss:  1.7027 ] val_loss: [val_loss  1.0598 ]\n",
            "[epoch: 32] [loss:  1.7007 ] val_loss: [val_loss  1.0512 ]\n",
            "[epoch: 33] [loss:  1.4435 ] val_loss: [val_loss  1.0428 ]\n",
            "[epoch: 34] [loss:  1.3413 ] val_loss: [val_loss  1.0328 ]\n",
            "[epoch: 35] [loss:  1.6084 ] val_loss: [val_loss  1.0231 ]\n",
            "[epoch: 36] [loss:  1.4928 ] val_loss: [val_loss  1.0119 ]\n",
            "[epoch: 37] [loss:  1.5616 ] val_loss: [val_loss  1.0029 ]\n",
            "[epoch: 38] [loss:  1.1037 ] val_loss: [val_loss  0.9941 ]\n",
            "[epoch: 39] [loss:  1.4261 ] val_loss: [val_loss  0.9843 ]\n",
            "[epoch: 40] [loss:  1.3450 ] val_loss: [val_loss  0.9744 ]\n",
            "[epoch: 41] [loss:  1.1510 ] val_loss: [val_loss  0.9631 ]\n",
            "[epoch: 42] [loss:  1.4262 ] val_loss: [val_loss  0.9530 ]\n",
            "[epoch: 43] [loss:  1.0583 ] val_loss: [val_loss  0.9434 ]\n",
            "[epoch: 44] [loss:  1.3115 ] val_loss: [val_loss  0.9328 ]\n",
            "[epoch: 45] [loss:  1.2397 ] val_loss: [val_loss  0.9239 ]\n",
            "[epoch: 46] [loss:  1.3976 ] val_loss: [val_loss  0.9157 ]\n",
            "[epoch: 47] [loss:  1.2318 ] val_loss: [val_loss  0.9100 ]\n",
            "[epoch: 48] [loss:  1.2987 ] val_loss: [val_loss  0.9036 ]\n",
            "[epoch: 49] [loss:  1.0989 ] val_loss: [val_loss  0.8959 ]\n",
            "[epoch: 50] [loss:  1.0959 ] val_loss: [val_loss  0.8892 ]\n",
            "[epoch: 51] [loss:  1.2879 ] val_loss: [val_loss  0.8815 ]\n",
            "[epoch: 52] [loss:  1.2021 ] val_loss: [val_loss  0.8731 ]\n",
            "[epoch: 53] [loss:  1.1593 ] val_loss: [val_loss  0.8634 ]\n",
            "[epoch: 54] [loss:  1.1348 ] val_loss: [val_loss  0.8529 ]\n",
            "[epoch: 55] [loss:  1.2520 ] val_loss: [val_loss  0.8432 ]\n",
            "[epoch: 56] [loss:  1.1987 ] val_loss: [val_loss  0.8330 ]\n",
            "[epoch: 57] [loss:  1.1680 ] val_loss: [val_loss  0.8248 ]\n",
            "[epoch: 58] [loss:  1.3155 ] val_loss: [val_loss  0.8176 ]\n",
            "[epoch: 59] [loss:  1.0939 ] val_loss: [val_loss  0.8115 ]\n",
            "[epoch: 60] [loss:  1.1318 ] val_loss: [val_loss  0.8071 ]\n",
            "[epoch: 61] [loss:  1.1855 ] val_loss: [val_loss  0.8031 ]\n",
            "[epoch: 62] [loss:  1.1196 ] val_loss: [val_loss  0.7981 ]\n",
            "[epoch: 63] [loss:  1.0106 ] val_loss: [val_loss  0.7927 ]\n",
            "[epoch: 64] [loss:  1.0751 ] val_loss: [val_loss  0.7881 ]\n",
            "[epoch: 65] [loss:  0.8872 ] val_loss: [val_loss  0.7829 ]\n",
            "[epoch: 66] [loss:  1.0244 ] val_loss: [val_loss  0.7783 ]\n",
            "[epoch: 67] [loss:  1.0798 ] val_loss: [val_loss  0.7728 ]\n",
            "[epoch: 68] [loss:  1.0933 ] val_loss: [val_loss  0.7677 ]\n",
            "[epoch: 69] [loss:  1.0054 ] val_loss: [val_loss  0.7634 ]\n",
            "[epoch: 70] [loss:  1.1299 ] val_loss: [val_loss  0.7592 ]\n",
            "[epoch: 71] [loss:  0.9356 ] val_loss: [val_loss  0.7549 ]\n",
            "[epoch: 72] [loss:  1.0813 ] val_loss: [val_loss  0.7516 ]\n",
            "[epoch: 73] [loss:  1.1733 ] val_loss: [val_loss  0.7487 ]\n",
            "[epoch: 74] [loss:  1.1800 ] val_loss: [val_loss  0.7463 ]\n",
            "[epoch: 75] [loss:  1.0390 ] val_loss: [val_loss  0.7444 ]\n",
            "[epoch: 76] [loss:  1.1279 ] val_loss: [val_loss  0.7421 ]\n",
            "[epoch: 77] [loss:  1.1041 ] val_loss: [val_loss  0.7415 ]\n",
            "[epoch: 78] [loss:  0.8905 ] val_loss: [val_loss  0.7415 ]\n",
            "[epoch: 79] [loss:  1.0368 ] val_loss: [val_loss  0.7412 ]\n",
            "[epoch: 80] [loss:  1.0564 ] val_loss: [val_loss  0.7406 ]\n",
            "[epoch: 81] [loss:  1.0439 ] val_loss: [val_loss  0.7402 ]\n",
            "[epoch: 82] [loss:  1.1468 ] val_loss: [val_loss  0.7387 ]\n",
            "[epoch: 83] [loss:  0.8717 ] val_loss: [val_loss  0.7364 ]\n",
            "[epoch: 84] [loss:  0.8524 ] val_loss: [val_loss  0.7330 ]\n",
            "[epoch: 85] [loss:  0.7398 ] val_loss: [val_loss  0.7292 ]\n",
            "[epoch: 86] [loss:  0.9412 ] val_loss: [val_loss  0.7252 ]\n",
            "[epoch: 87] [loss:  0.9249 ] val_loss: [val_loss  0.7195 ]\n",
            "[epoch: 88] [loss:  0.8996 ] val_loss: [val_loss  0.7134 ]\n",
            "[epoch: 89] [loss:  0.8706 ] val_loss: [val_loss  0.7071 ]\n",
            "[epoch: 90] [loss:  0.7654 ] val_loss: [val_loss  0.7005 ]\n",
            "[epoch: 91] [loss:  0.9444 ] val_loss: [val_loss  0.6945 ]\n",
            "[epoch: 92] [loss:  0.9373 ] val_loss: [val_loss  0.6898 ]\n",
            "[epoch: 93] [loss:  0.8449 ] val_loss: [val_loss  0.6859 ]\n",
            "[epoch: 94] [loss:  0.8451 ] val_loss: [val_loss  0.6826 ]\n",
            "[epoch: 95] [loss:  0.8416 ] val_loss: [val_loss  0.6799 ]\n",
            "[epoch: 96] [loss:  0.9184 ] val_loss: [val_loss  0.6768 ]\n",
            "[epoch: 97] [loss:  0.8550 ] val_loss: [val_loss  0.6735 ]\n",
            "[epoch: 98] [loss:  0.8455 ] val_loss: [val_loss  0.6716 ]\n",
            "[epoch: 99] [loss:  0.9037 ] val_loss: [val_loss  0.6698 ]\n",
            "[epoch: 100] [loss:  0.8121 ] val_loss: [val_loss  0.6678 ]\n",
            "[epoch: 101] [loss:  1.0058 ] val_loss: [val_loss  0.6645 ]\n",
            "[epoch: 102] [loss:  0.8639 ] val_loss: [val_loss  0.6602 ]\n",
            "[epoch: 103] [loss:  1.0163 ] val_loss: [val_loss  0.6557 ]\n",
            "[epoch: 104] [loss:  0.7748 ] val_loss: [val_loss  0.6512 ]\n",
            "[epoch: 105] [loss:  0.8234 ] val_loss: [val_loss  0.6476 ]\n",
            "[epoch: 106] [loss:  0.7490 ] val_loss: [val_loss  0.6437 ]\n",
            "[epoch: 107] [loss:  0.7687 ] val_loss: [val_loss  0.6401 ]\n",
            "[epoch: 108] [loss:  1.1026 ] val_loss: [val_loss  0.6356 ]\n",
            "[epoch: 109] [loss:  0.7647 ] val_loss: [val_loss  0.6305 ]\n",
            "[epoch: 110] [loss:  0.7435 ] val_loss: [val_loss  0.6251 ]\n",
            "[epoch: 111] [loss:  0.8204 ] val_loss: [val_loss  0.6198 ]\n",
            "[epoch: 112] [loss:  0.8165 ] val_loss: [val_loss  0.6162 ]\n",
            "[epoch: 113] [loss:  0.8028 ] val_loss: [val_loss  0.6110 ]\n",
            "[epoch: 114] [loss:  1.1045 ] val_loss: [val_loss  0.6055 ]\n",
            "[epoch: 115] [loss:  0.7402 ] val_loss: [val_loss  0.6009 ]\n",
            "[epoch: 116] [loss:  0.7772 ] val_loss: [val_loss  0.5973 ]\n",
            "[epoch: 117] [loss:  0.7457 ] val_loss: [val_loss  0.5950 ]\n",
            "[epoch: 118] [loss:  0.6927 ] val_loss: [val_loss  0.5941 ]\n",
            "[epoch: 119] [loss:  0.7408 ] val_loss: [val_loss  0.5924 ]\n",
            "[epoch: 120] [loss:  0.5857 ] val_loss: [val_loss  0.5910 ]\n",
            "[epoch: 121] [loss:  0.5614 ] val_loss: [val_loss  0.5903 ]\n",
            "[epoch: 122] [loss:  0.8607 ] val_loss: [val_loss  0.5886 ]\n",
            "[epoch: 123] [loss:  0.7239 ] val_loss: [val_loss  0.5850 ]\n",
            "[epoch: 124] [loss:  0.8941 ] val_loss: [val_loss  0.5814 ]\n",
            "[epoch: 125] [loss:  0.7112 ] val_loss: [val_loss  0.5775 ]\n",
            "[epoch: 126] [loss:  0.8126 ] val_loss: [val_loss  0.5734 ]\n",
            "[epoch: 127] [loss:  0.8529 ] val_loss: [val_loss  0.5706 ]\n",
            "[epoch: 128] [loss:  0.7607 ] val_loss: [val_loss  0.5678 ]\n",
            "[epoch: 129] [loss:  0.7894 ] val_loss: [val_loss  0.5652 ]\n",
            "[epoch: 130] [loss:  0.7277 ] val_loss: [val_loss  0.5625 ]\n",
            "[epoch: 131] [loss:  0.8160 ] val_loss: [val_loss  0.5604 ]\n",
            "[epoch: 132] [loss:  0.6992 ] val_loss: [val_loss  0.5585 ]\n",
            "[epoch: 133] [loss:  0.8295 ] val_loss: [val_loss  0.5575 ]\n",
            "[epoch: 134] [loss:  0.6391 ] val_loss: [val_loss  0.5567 ]\n",
            "[epoch: 135] [loss:  0.7569 ] val_loss: [val_loss  0.5557 ]\n",
            "[epoch: 136] [loss:  0.8779 ] val_loss: [val_loss  0.5553 ]\n",
            "[epoch: 137] [loss:  0.7719 ] val_loss: [val_loss  0.5540 ]\n",
            "[epoch: 138] [loss:  0.8167 ] val_loss: [val_loss  0.5530 ]\n",
            "[epoch: 139] [loss:  0.8590 ] val_loss: [val_loss  0.5518 ]\n",
            "[epoch: 140] [loss:  0.6869 ] val_loss: [val_loss  0.5498 ]\n",
            "[epoch: 141] [loss:  0.7858 ] val_loss: [val_loss  0.5474 ]\n",
            "[epoch: 142] [loss:  0.6963 ] val_loss: [val_loss  0.5452 ]\n",
            "[epoch: 143] [loss:  0.8538 ] val_loss: [val_loss  0.5441 ]\n",
            "[epoch: 144] [loss:  0.6416 ] val_loss: [val_loss  0.5435 ]\n",
            "[epoch: 145] [loss:  0.5981 ] val_loss: [val_loss  0.5433 ]\n",
            "[epoch: 146] [loss:  1.0319 ] val_loss: [val_loss  0.5433 ]\n",
            "[epoch: 147] [loss:  0.8105 ] val_loss: [val_loss  0.5436 ]\n",
            "[epoch: 148] [loss:  0.8039 ] val_loss: [val_loss  0.5439 ]\n",
            "[epoch: 149] [loss:  0.6635 ] val_loss: [val_loss  0.5433 ]\n",
            "[epoch: 150] [loss:  0.6741 ] val_loss: [val_loss  0.5415 ]\n",
            "[epoch: 151] [loss:  0.8710 ] val_loss: [val_loss  0.5385 ]\n",
            "[epoch: 152] [loss:  0.6680 ] val_loss: [val_loss  0.5367 ]\n",
            "[epoch: 153] [loss:  0.7692 ] val_loss: [val_loss  0.5364 ]\n",
            "[epoch: 154] [loss:  0.7514 ] val_loss: [val_loss  0.5353 ]\n",
            "[epoch: 155] [loss:  0.6504 ] val_loss: [val_loss  0.5343 ]\n",
            "[epoch: 156] [loss:  0.8456 ] val_loss: [val_loss  0.5317 ]\n",
            "[epoch: 157] [loss:  0.7113 ] val_loss: [val_loss  0.5287 ]\n",
            "[epoch: 158] [loss:  0.7040 ] val_loss: [val_loss  0.5265 ]\n",
            "[epoch: 159] [loss:  0.7737 ] val_loss: [val_loss  0.5244 ]\n",
            "[epoch: 160] [loss:  0.6227 ] val_loss: [val_loss  0.5221 ]\n",
            "[epoch: 161] [loss:  0.8766 ] val_loss: [val_loss  0.5201 ]\n",
            "[epoch: 162] [loss:  0.6978 ] val_loss: [val_loss  0.5184 ]\n",
            "[epoch: 163] [loss:  0.7472 ] val_loss: [val_loss  0.5169 ]\n",
            "[epoch: 164] [loss:  0.8315 ] val_loss: [val_loss  0.5162 ]\n",
            "[epoch: 165] [loss:  0.7794 ] val_loss: [val_loss  0.5164 ]\n",
            "[epoch: 166] [loss:  0.6401 ] val_loss: [val_loss  0.5168 ]\n",
            "[epoch: 167] [loss:  0.8386 ] val_loss: [val_loss  0.5164 ]\n",
            "[epoch: 168] [loss:  0.7752 ] val_loss: [val_loss  0.5163 ]\n",
            "[epoch: 169] [loss:  0.6390 ] val_loss: [val_loss  0.5162 ]\n",
            "[epoch: 170] [loss:  0.6329 ] val_loss: [val_loss  0.5166 ]\n",
            "[epoch: 171] [loss:  0.6846 ] val_loss: [val_loss  0.5156 ]\n",
            "[epoch: 172] [loss:  0.6004 ] val_loss: [val_loss  0.5153 ]\n",
            "[epoch: 173] [loss:  0.6624 ] val_loss: [val_loss  0.5148 ]\n",
            "[epoch: 174] [loss:  0.6497 ] val_loss: [val_loss  0.5136 ]\n",
            "[epoch: 175] [loss:  0.6800 ] val_loss: [val_loss  0.5114 ]\n",
            "[epoch: 176] [loss:  0.6144 ] val_loss: [val_loss  0.5081 ]\n",
            "[epoch: 177] [loss:  0.7009 ] val_loss: [val_loss  0.5057 ]\n",
            "[epoch: 178] [loss:  0.4507 ] val_loss: [val_loss  0.5043 ]\n",
            "[epoch: 179] [loss:  0.5790 ] val_loss: [val_loss  0.5037 ]\n",
            "[epoch: 180] [loss:  0.5975 ] val_loss: [val_loss  0.5026 ]\n",
            "[epoch: 181] [loss:  0.6336 ] val_loss: [val_loss  0.5015 ]\n",
            "[epoch: 182] [loss:  0.5537 ] val_loss: [val_loss  0.5004 ]\n",
            "[epoch: 183] [loss:  0.7354 ] val_loss: [val_loss  0.4994 ]\n",
            "[epoch: 184] [loss:  0.7990 ] val_loss: [val_loss  0.4980 ]\n",
            "[epoch: 185] [loss:  0.5707 ] val_loss: [val_loss  0.4965 ]\n",
            "[epoch: 186] [loss:  0.6779 ] val_loss: [val_loss  0.4952 ]\n",
            "[epoch: 187] [loss:  0.6667 ] val_loss: [val_loss  0.4933 ]\n",
            "[epoch: 188] [loss:  0.7428 ] val_loss: [val_loss  0.4923 ]\n",
            "[epoch: 189] [loss:  0.5414 ] val_loss: [val_loss  0.4912 ]\n",
            "[epoch: 190] [loss:  0.5862 ] val_loss: [val_loss  0.4903 ]\n",
            "[epoch: 191] [loss:  0.6615 ] val_loss: [val_loss  0.4891 ]\n",
            "[epoch: 192] [loss:  0.7084 ] val_loss: [val_loss  0.4886 ]\n",
            "[epoch: 193] [loss:  0.6592 ] val_loss: [val_loss  0.4877 ]\n",
            "[epoch: 194] [loss:  0.6666 ] val_loss: [val_loss  0.4869 ]\n",
            "[epoch: 195] [loss:  0.8739 ] val_loss: [val_loss  0.4865 ]\n",
            "[epoch: 196] [loss:  0.4361 ] val_loss: [val_loss  0.4872 ]\n",
            "[epoch: 197] [loss:  0.6998 ] val_loss: [val_loss  0.4885 ]\n",
            "[epoch: 198] [loss:  0.6194 ] val_loss: [val_loss  0.4898 ]\n",
            "[epoch: 199] [loss:  0.8591 ] val_loss: [val_loss  0.4906 ]\n",
            "[epoch: 200] [loss:  0.6142 ] val_loss: [val_loss  0.4901 ]\n"
          ]
        }
      ],
      "source": [
        "\n",
        "#Overfitting the model\n",
        "trained_model = train_transformer(\n",
        "    model,\n",
        "    small_train_loader,\n",
        "    small_train_loader,\n",
        "    loss_func,\n",
        "    num_epochs=num_epochs,\n",
        "    lr=lr,\n",
        "    batch_size=BATCH_SIZE,\n",
        "    warmup_interval=warmup_interval,\n",
        "    device=DEVICE,\n",
        ")"
      ]
    },
    {
      "cell_type": "code",
      "execution_count": 44,
      "id": "21a3a5eb",
      "metadata": {
        "id": "21a3a5eb",
        "colab": {
          "base_uri": "https://localhost:8080/"
        },
        "outputId": "569b7b3b-035b-4ba4-e61c-56d11cfaa2da"
      },
      "outputs": [
        {
          "output_type": "stream",
          "name": "stdout",
          "text": [
            "Overfitted accuracy:  0.6875\n"
          ]
        }
      ],
      "source": [
        "#Overfitted accuracy\n",
        "print(\n",
        "    \"Overfitted accuracy: \",\n",
        "    \"{:.4f}\".format(\n",
        "        val_transformer(\n",
        "            trained_model,\n",
        "            small_train_loader,\n",
        "            CrossEntropyLoss,\n",
        "            batch_size=4,\n",
        "            device=DEVICE,\n",
        "        )[1]\n",
        "    ),\n",
        ")"
      ]
    },
    {
      "cell_type": "markdown",
      "id": "b43b5e66-7d96-49a7-8d73-649c1d8de2ef",
      "metadata": {
        "id": "b43b5e66-7d96-49a7-8d73-649c1d8de2ef"
      },
      "source": [
        "### Fitting the model using complete data"
      ]
    },
    {
      "cell_type": "markdown",
      "id": "3f3f4cfc-d267-436e-ae7a-36e3ab40e7c1",
      "metadata": {
        "id": "3f3f4cfc-d267-436e-ae7a-36e3ab40e7c1"
      },
      "source": [
        "Run the below cells to fit the model using the complete data. Keep in mind the various things you could experiment with here, losses, positional encodings, warm up routines and learning rates. You could also play with the size of the model but that will require more time to train on Colab.\n",
        "\n",
        "You should aim for final validation accuracy of ~80 percent.  "
      ]
    },
    {
      "cell_type": "code",
      "execution_count": 45,
      "id": "352896e6",
      "metadata": {
        "id": "352896e6"
      },
      "outputs": [],
      "source": [
        "import torch.optim as optim\n",
        "\n",
        "\n",
        "inp_seq_len = 9\n",
        "out_seq_len = 5\n",
        "BATCH_SIZE = 256\n",
        "\n",
        "#You should change these!\n",
        "\n",
        "num_heads = 4\n",
        "emb_dim = 32\n",
        "dim_feedforward = 32\n",
        "dropout = 0.2\n",
        "num_enc_layers = 4\n",
        "num_dec_layers = 4\n",
        "vocab_len = len(vocab)\n",
        "loss_func = CrossEntropyLoss\n",
        "poss_enc = position_encoding_simple\n",
        "num_epochs = 10\n",
        "warmup_interval = None\n",
        "lr = 1e-3\n",
        "\n",
        "\n",
        "model = Transformer(\n",
        "    num_heads,\n",
        "    emb_dim,\n",
        "    dim_feedforward,\n",
        "    dropout,\n",
        "    num_enc_layers,\n",
        "    num_dec_layers,\n",
        "    vocab_len,\n",
        ")\n",
        "\n",
        "\n",
        "train_data = AddSubDataset(\n",
        "    X_train,\n",
        "    y_train,\n",
        "    convert_str_to_tokens,\n",
        "    SPECIAL_TOKENS,\n",
        "    emb_dim,\n",
        "    position_encoding_sinusoid,\n",
        ")\n",
        "valid_data = AddSubDataset(\n",
        "    X_test,\n",
        "    y_test,\n",
        "    convert_str_to_tokens,\n",
        "    SPECIAL_TOKENS,\n",
        "    emb_dim,\n",
        "    position_encoding_sinusoid,\n",
        ")\n",
        "\n",
        "train_loader = torch.utils.data.DataLoader(\n",
        "    train_data, batch_size=BATCH_SIZE, shuffle=False, drop_last=True\n",
        ")\n",
        "valid_loader = torch.utils.data.DataLoader(\n",
        "    valid_data, batch_size=BATCH_SIZE, shuffle=False, drop_last=True\n",
        ")"
      ]
    },
    {
      "cell_type": "code",
      "execution_count": 46,
      "id": "43bfb054",
      "metadata": {
        "id": "43bfb054",
        "colab": {
          "base_uri": "https://localhost:8080/"
        },
        "outputId": "518210e2-299a-4ff9-9187-b5963813e605"
      },
      "outputs": [
        {
          "output_type": "stream",
          "name": "stdout",
          "text": [
            "Training started...\n",
            "[epoch: 1] [loss:  3.0120 ] val_loss: [val_loss  2.4945 ]\n",
            "[epoch: 2] [loss:  2.6923 ] val_loss: [val_loss  2.3884 ]\n",
            "[epoch: 3] [loss:  2.5759 ] val_loss: [val_loss  2.3647 ]\n",
            "[epoch: 4] [loss:  2.5198 ] val_loss: [val_loss  2.3532 ]\n",
            "[epoch: 5] [loss:  2.4845 ] val_loss: [val_loss  2.3520 ]\n",
            "[epoch: 6] [loss:  2.4735 ] val_loss: [val_loss  2.3466 ]\n",
            "[epoch: 7] [loss:  2.4614 ] val_loss: [val_loss  2.3452 ]\n",
            "[epoch: 8] [loss:  2.4377 ] val_loss: [val_loss  2.3442 ]\n",
            "[epoch: 9] [loss:  2.4332 ] val_loss: [val_loss  2.3447 ]\n",
            "[epoch: 10] [loss:  2.4208 ] val_loss: [val_loss  2.3431 ]\n"
          ]
        }
      ],
      "source": [
        "#Training the model with complete data\n",
        "trained_model = train_transformer(\n",
        "    model,\n",
        "    train_loader,\n",
        "    valid_loader,\n",
        "    loss_func,\n",
        "    num_epochs,\n",
        "    lr = lr,\n",
        "    batch_size=BATCH_SIZE,\n",
        "    warmup_interval=warmup_interval,\n",
        "    device=DEVICE\n",
        ")\n",
        "weights_path = os.path.join(GOOGLE_DRIVE_PATH, \"transformer.pt\")\n",
        "torch.save(trained_model.state_dict(), weights_path)"
      ]
    },
    {
      "cell_type": "markdown",
      "id": "345b9bae",
      "metadata": {
        "id": "345b9bae"
      },
      "source": [
        "Run the cell below to get the accuracy on the validation dataset."
      ]
    },
    {
      "cell_type": "code",
      "execution_count": 47,
      "id": "0ad70d5b",
      "metadata": {
        "id": "0ad70d5b",
        "colab": {
          "base_uri": "https://localhost:8080/"
        },
        "outputId": "1fc376ec-d4f5-421a-fc6e-59fcbd57c08d"
      },
      "outputs": [
        {
          "output_type": "stream",
          "name": "stdout",
          "text": [
            "Final Model accuracy:  0.2500\n"
          ]
        }
      ],
      "source": [
        "#Final validation accuracy\n",
        "print(\n",
        "    \"Final Model accuracy: \",\n",
        "    \"{:.4f}\".format(\n",
        "        val_transformer(\n",
        "            trained_model, valid_loader, LabelSmoothingLoss, 4, device=DEVICE\n",
        "        )[1]\n",
        "    ),\n",
        ")"
      ]
    },
    {
      "cell_type": "markdown",
      "id": "c19615d0-9b82-42ac-ba28-e079ca96aed2",
      "metadata": {
        "id": "c19615d0-9b82-42ac-ba28-e079ca96aed2"
      },
      "source": [
        "## Visualize and Inference: Model in action"
      ]
    },
    {
      "cell_type": "markdown",
      "id": "3f413c17-ede5-4d4d-a1fa-54458ca948c5",
      "metadata": {
        "id": "3f413c17-ede5-4d4d-a1fa-54458ca948c5"
      },
      "source": [
        "Now that we have trained a model, lets look at the final results. We will first look at the results from the validation data and visualize the attention weights (remember the self.weights_softmax?). These attention weights should give you some intuition about what the network learns. We have implemented everything for you here and the intention is to help you probe the model and understand about what does the network learn."
      ]
    },
    {
      "cell_type": "code",
      "execution_count": 48,
      "id": "c39117ef-da8b-4fb0-904b-c5c4c37fc800",
      "metadata": {
        "id": "c39117ef-da8b-4fb0-904b-c5c4c37fc800"
      },
      "outputs": [],
      "source": [
        "import seaborn\n",
        "from a5_helper import inference"
      ]
    },
    {
      "cell_type": "markdown",
      "id": "137296b8-8ab8-4f9d-bff5-e2584370a757",
      "metadata": {
        "id": "137296b8-8ab8-4f9d-bff5-e2584370a757"
      },
      "source": [
        "### Results from the validation data\n",
        "\n",
        "In the below cell we pick the very first data point in the validation data and find the result on it"
      ]
    },
    {
      "cell_type": "code",
      "execution_count": 49,
      "id": "37c01cc4-96b0-4a4e-a820-64e5c2dd5549",
      "metadata": {
        "id": "37c01cc4-96b0-4a4e-a820-64e5c2dd5549",
        "colab": {
          "base_uri": "https://localhost:8080/"
        },
        "outputId": "0f3b5d24-8971-48b3-b35e-4a91a8a52fa7"
      },
      "outputs": [
        {
          "output_type": "stream",
          "name": "stdout",
          "text": [
            "Input sequence: \n",
            " BOS POSITIVE 47 add NEGATIVE 27 EOS\n"
          ]
        }
      ],
      "source": [
        "for it in valid_loader:\n",
        "    it\n",
        "    break\n",
        "inp, inp_pos, out, out_pos = it\n",
        "opposite_tokens_to_str = {v: k for k, v in convert_str_to_tokens.items()}\n",
        "device = torch.device(\"cuda\")\n",
        "model = model.to(device)\n",
        "inp_pos = inp_pos.to(device)\n",
        "out_pos = out_pos.to(device)\n",
        "out = out.to(device)\n",
        "inp = inp.to(device)\n",
        "\n",
        "inp_exp = inp[:1, :]\n",
        "inp_exp_pos = inp_pos[:1]\n",
        "out_pos_exp = out_pos[:1, :]\n",
        "inp_seq = [opposite_tokens_to_str[w.item()] for w in inp_exp[0]]\n",
        "print(\n",
        "    \"Input sequence: \\n\",\n",
        "    inp_seq[0]\n",
        "    + \" \"\n",
        "    + inp_seq[1]\n",
        "    + \" \"\n",
        "    + inp_seq[2]\n",
        "    + inp_seq[3]\n",
        "    + \" \"\n",
        "    + inp_seq[4]\n",
        "    + \" \"\n",
        "    + inp_seq[5]\n",
        "    + \" \"\n",
        "    + inp_seq[6]\n",
        "    + inp_seq[7]\n",
        "    + \" \"\n",
        "    + inp_seq[8],\n",
        ")"
      ]
    },
    {
      "cell_type": "code",
      "execution_count": 50,
      "id": "ab535f1d-3be0-40ef-a0fd-8fca2fae2414",
      "metadata": {
        "id": "ab535f1d-3be0-40ef-a0fd-8fca2fae2414",
        "colab": {
          "base_uri": "https://localhost:8080/"
        },
        "outputId": "b637b9e4-c6b5-469c-e09b-4cf62d8f0498"
      },
      "outputs": [
        {
          "output_type": "stream",
          "name": "stdout",
          "text": [
            "Output Sequence:\tBOS \n"
          ]
        }
      ],
      "source": [
        "out_seq_ans, _ = inference(\n",
        "    trained_model, inp_exp, inp_exp_pos, out_pos_exp, out_seq_len\n",
        ")\n",
        "\n",
        "trained_model.eval()\n",
        "\n",
        "print(\"Output Sequence:\", end=\"\\t\")\n",
        "res = \"BOS \"\n",
        "for i in range(1, out_seq_ans.size(1)):\n",
        "    sym = opposite_tokens_to_str[out_seq_ans[0, i].item()]\n",
        "    if sym == \"EOS\":\n",
        "        break\n",
        "    res += sym + \" \"\n",
        "print(res)"
      ]
    },
    {
      "cell_type": "markdown",
      "id": "3412c073-d239-450a-aa46-9ec3d61309a6",
      "metadata": {
        "id": "3412c073-d239-450a-aa46-9ec3d61309a6"
      },
      "source": [
        "### Pick your own proboing example\n",
        "\n",
        "In the cell below, you could feed in an example in the input style, changing the variable `custom_seq`. We have filled a placeholder expression for you, but feel free to change it."
      ]
    },
    {
      "cell_type": "code",
      "execution_count": 51,
      "id": "d7d2f3b1-ba94-4ccf-84e3-f3238059f25d",
      "metadata": {
        "id": "d7d2f3b1-ba94-4ccf-84e3-f3238059f25d"
      },
      "outputs": [],
      "source": [
        "custom_seq = \"BOS POSITIVE 02 subtract NEGATIVE 07 EOS\""
      ]
    },
    {
      "cell_type": "code",
      "execution_count": 52,
      "id": "3caa768d-f61f-4ee4-8e87-259043e93cdb",
      "metadata": {
        "id": "3caa768d-f61f-4ee4-8e87-259043e93cdb",
        "colab": {
          "base_uri": "https://localhost:8080/"
        },
        "outputId": "7646d934-bf75-4b53-d88a-e6ac3b75b6c9"
      },
      "outputs": [
        {
          "output_type": "stream",
          "name": "stdout",
          "text": [
            "Output Sequence:\tBOS \n"
          ]
        }
      ],
      "source": [
        "out = prepocess_input_sequence(custom_seq, convert_str_to_tokens, SPECIAL_TOKENS)\n",
        "inp_exp = torch.tensor(out).to(DEVICE)\n",
        "\n",
        "out_seq_ans, model_for_visv = inference(\n",
        "    trained_model, inp_exp, inp_exp_pos, out_pos_exp, out_seq_len\n",
        ")\n",
        "\n",
        "trained_model.eval()\n",
        "\n",
        "print(\"Output Sequence:\", end=\"\\t\")\n",
        "res = \"BOS \"\n",
        "for i in range(1, out_seq_ans.size(1)):\n",
        "    sym = opposite_tokens_to_str[out_seq_ans[0, i].item()]\n",
        "    if sym == \"EOS\":\n",
        "        break\n",
        "    res += sym + \" \"\n",
        "print(res)"
      ]
    },
    {
      "cell_type": "markdown",
      "id": "0b9ae8cd-2813-4845-a4df-d47ebdc60971",
      "metadata": {
        "id": "0b9ae8cd-2813-4845-a4df-d47ebdc60971"
      },
      "source": [
        "### Visualize the attention weights\n",
        "\n",
        "In this part we will visualize the attention weights for the specific custom input you fed as input. There are seperate heatmaps for encoder and the decoder. The ligher value in color shows higher associated between the token present in that row and column, and darker color shows a weak relation between them"
      ]
    },
    {
      "cell_type": "code",
      "execution_count": 53,
      "id": "8e82ff56-d55b-45b7-8507-514ee5968ed5",
      "metadata": {
        "id": "8e82ff56-d55b-45b7-8507-514ee5968ed5"
      },
      "outputs": [],
      "source": [
        "from a5_helper import draw\n",
        "import seaborn"
      ]
    },
    {
      "cell_type": "code",
      "execution_count": 54,
      "id": "db22789f",
      "metadata": {
        "id": "db22789f"
      },
      "outputs": [],
      "source": [
        "target_exp = res.split()"
      ]
    },
    {
      "cell_type": "code",
      "execution_count": 55,
      "id": "9cae7e26-2587-4297-a44c-c59ab541dfc8",
      "metadata": {
        "id": "9cae7e26-2587-4297-a44c-c59ab541dfc8",
        "colab": {
          "base_uri": "https://localhost:8080/",
          "height": 1000
        },
        "outputId": "60e91506-328a-4b69-ab4f-599096fc7e51"
      },
      "outputs": [
        {
          "output_type": "stream",
          "name": "stdout",
          "text": [
            "Encoder Block Number 1\n"
          ]
        },
        {
          "output_type": "error",
          "ename": "AttributeError",
          "evalue": "'EncoderBlock' object has no attribute 'MultiHeadBlock'",
          "traceback": [
            "\u001b[0;31m---------------------------------------------------------------------------\u001b[0m",
            "\u001b[0;31mAttributeError\u001b[0m                            Traceback (most recent call last)",
            "\u001b[0;32m<ipython-input-55-55368d16e029>\u001b[0m in \u001b[0;36m<cell line: 1>\u001b[0;34m()\u001b[0m\n\u001b[1;32m      5\u001b[0m         draw(\n\u001b[1;32m      6\u001b[0m             \u001b[0mtrained_model\u001b[0m\u001b[0;34m.\u001b[0m\u001b[0mencoder\u001b[0m\u001b[0;34m.\u001b[0m\u001b[0mlayers\u001b[0m\u001b[0;34m[\u001b[0m\u001b[0mlayer\u001b[0m\u001b[0;34m]\u001b[0m\u001b[0;34m\u001b[0m\u001b[0;34m\u001b[0m\u001b[0m\n\u001b[0;32m----> 7\u001b[0;31m             \u001b[0;34m.\u001b[0m\u001b[0mMultiHeadBlock\u001b[0m\u001b[0;34m.\u001b[0m\u001b[0mheads\u001b[0m\u001b[0;34m[\u001b[0m\u001b[0mh\u001b[0m\u001b[0;34m]\u001b[0m\u001b[0;34m\u001b[0m\u001b[0;34m\u001b[0m\u001b[0m\n\u001b[0m\u001b[1;32m      8\u001b[0m             \u001b[0;34m.\u001b[0m\u001b[0mweights_softmax\u001b[0m\u001b[0;34m.\u001b[0m\u001b[0mdata\u001b[0m\u001b[0;34m.\u001b[0m\u001b[0mcpu\u001b[0m\u001b[0;34m(\u001b[0m\u001b[0;34m)\u001b[0m\u001b[0;34m\u001b[0m\u001b[0;34m\u001b[0m\u001b[0m\n\u001b[1;32m      9\u001b[0m             \u001b[0;34m.\u001b[0m\u001b[0mnumpy\u001b[0m\u001b[0;34m(\u001b[0m\u001b[0;34m)\u001b[0m\u001b[0;34m[\u001b[0m\u001b[0;36m0\u001b[0m\u001b[0;34m]\u001b[0m\u001b[0;34m,\u001b[0m\u001b[0;34m\u001b[0m\u001b[0;34m\u001b[0m\u001b[0m\n",
            "\u001b[0;32m/usr/local/lib/python3.10/dist-packages/torch/nn/modules/module.py\u001b[0m in \u001b[0;36m__getattr__\u001b[0;34m(self, name)\u001b[0m\n\u001b[1;32m   1929\u001b[0m             \u001b[0;32mif\u001b[0m \u001b[0mname\u001b[0m \u001b[0;32min\u001b[0m \u001b[0mmodules\u001b[0m\u001b[0;34m:\u001b[0m\u001b[0;34m\u001b[0m\u001b[0;34m\u001b[0m\u001b[0m\n\u001b[1;32m   1930\u001b[0m                 \u001b[0;32mreturn\u001b[0m \u001b[0mmodules\u001b[0m\u001b[0;34m[\u001b[0m\u001b[0mname\u001b[0m\u001b[0;34m]\u001b[0m\u001b[0;34m\u001b[0m\u001b[0;34m\u001b[0m\u001b[0m\n\u001b[0;32m-> 1931\u001b[0;31m         raise AttributeError(\n\u001b[0m\u001b[1;32m   1932\u001b[0m             \u001b[0;34mf\"'{type(self).__name__}' object has no attribute '{name}'\"\u001b[0m\u001b[0;34m\u001b[0m\u001b[0;34m\u001b[0m\u001b[0m\n\u001b[1;32m   1933\u001b[0m         )\n",
            "\u001b[0;31mAttributeError\u001b[0m: 'EncoderBlock' object has no attribute 'MultiHeadBlock'"
          ]
        },
        {
          "output_type": "display_data",
          "data": {
            "text/plain": [
              "<Figure size 2000x1000 with 4 Axes>"
            ],
            "image/png": "[encoded data removed]"
          },
          "metadata": {}
        }
      ],
      "source": [
        "for layer in range(num_enc_layers):\n",
        "    fig, axs = plt.subplots(1, num_heads, figsize=(20, 10))\n",
        "    print(\"Encoder Block Number\", layer + 1)\n",
        "    for h in range(num_heads):\n",
        "        draw(\n",
        "            trained_model.encoder.layers[layer]\n",
        "            .MultiHeadBlock.heads[h]\n",
        "            .weights_softmax.data.cpu()\n",
        "            .numpy()[0],\n",
        "            inp_seq,\n",
        "            inp_seq if h == 0 else [],\n",
        "            ax=axs[h],\n",
        "        )\n",
        "    plt.show()\n",
        "plt.close()"
      ]
    },
    {
      "cell_type": "code",
      "execution_count": 56,
      "id": "be6ba6cb",
      "metadata": {
        "id": "be6ba6cb",
        "colab": {
          "base_uri": "https://localhost:8080/",
          "height": 1000
        },
        "outputId": "d6c1b8d0-5a98-4354-b34a-8d4af9f83446"
      },
      "outputs": [
        {
          "output_type": "stream",
          "name": "stdout",
          "text": [
            "Decoder Block number  1\n",
            "Decoder Self Attention 1\n"
          ]
        },
        {
          "output_type": "display_data",
          "data": {
            "text/plain": [
              "<Figure size 2000x1000 with 4 Axes>"
            ],
            "image/png": "[encoded data removed]"
          },
          "metadata": {}
        },
        {
          "output_type": "stream",
          "name": "stdout",
          "text": [
            "Decoder Cross attention 1\n"
          ]
        },
        {
          "output_type": "display_data",
          "data": {
            "text/plain": [
              "<Figure size 2000x1000 with 4 Axes>"
            ],
            "image/png": "[encoded data removed]"
          },
          "metadata": {}
        },
        {
          "output_type": "stream",
          "name": "stdout",
          "text": [
            "Decoder Block number  2\n",
            "Decoder Self Attention 2\n"
          ]
        },
        {
          "output_type": "display_data",
          "data": {
            "text/plain": [
              "<Figure size 2000x1000 with 4 Axes>"
            ],
            "image/png": "[encoded data removed]"
          },
          "metadata": {}
        },
        {
          "output_type": "stream",
          "name": "stdout",
          "text": [
            "Decoder Cross attention 2\n"
          ]
        },
        {
          "output_type": "display_data",
          "data": {
            "text/plain": [
              "<Figure size 2000x1000 with 4 Axes>"
            ],
            "image/png": "[encoded data removed]"
          },
          "metadata": {}
        },
        {
          "output_type": "stream",
          "name": "stdout",
          "text": [
            "Decoder Block number  3\n",
            "Decoder Self Attention 3\n"
          ]
        },
        {
          "output_type": "display_data",
          "data": {
            "text/plain": [
              "<Figure size 2000x1000 with 4 Axes>"
            ],
            "image/png": "[encoded data removed]"
          },
          "metadata": {}
        },
        {
          "output_type": "stream",
          "name": "stdout",
          "text": [
            "Decoder Cross attention 3\n"
          ]
        },
        {
          "output_type": "display_data",
          "data": {
            "text/plain": [
              "<Figure size 2000x1000 with 4 Axes>"
            ],
            "image/png": "[encoded data removed]"
          },
          "metadata": {}
        },
        {
          "output_type": "stream",
          "name": "stdout",
          "text": [
            "Decoder Block number  4\n",
            "Decoder Self Attention 4\n"
          ]
        },
        {
          "output_type": "display_data",
          "data": {
            "text/plain": [
              "<Figure size 2000x1000 with 4 Axes>"
            ],
            "image/png": "[encoded data removed]"
          },
          "metadata": {}
        },
        {
          "output_type": "stream",
          "name": "stdout",
          "text": [
            "Decoder Cross attention 4\n"
          ]
        },
        {
          "output_type": "display_data",
          "data": {
            "text/plain": [
              "<Figure size 2000x1000 with 4 Axes>"
            ],
            "image/png": "[encoded data removed]"
          },
          "metadata": {}
        }
      ],
      "source": [
        "for layer in range(num_dec_layers):\n",
        "    fig, axs = plt.subplots(1, num_heads, figsize=(20, 10))\n",
        "\n",
        "    print(\"Decoder Block number \", layer + 1)\n",
        "\n",
        "    print(\"Decoder Self Attention\", layer + 1)\n",
        "    for h in range(num_heads):\n",
        "        draw(\n",
        "            trained_model.decoder.layers[layer]\n",
        "            .attention_self.heads[h]\n",
        "            .weights_softmax.data.cpu()\n",
        "            .numpy()[0],\n",
        "            target_exp,\n",
        "            target_exp if h == 0 else [],\n",
        "            ax=axs[h],\n",
        "        )\n",
        "    plt.show()\n",
        "    print(\"Decoder Cross attention\", layer + 1)\n",
        "    fig, axs = plt.subplots(1, 4, figsize=(20, 10))\n",
        "    for h in range(num_heads):\n",
        "        draw(\n",
        "            trained_model.decoder.layers[layer]\n",
        "            .attention_cross.heads[h]\n",
        "            .weights_softmax.data.cpu()\n",
        "            .numpy()[0],\n",
        "            inp_seq,\n",
        "            target_exp if h == 0 else [],\n",
        "            ax=axs[h],\n",
        "        )\n",
        "    plt.show()"
      ]
    },
    {
      "cell_type": "markdown",
      "id": "c8a52caf-c12e-4ca9-986b-cc52fe50545a",
      "metadata": {
        "id": "c8a52caf-c12e-4ca9-986b-cc52fe50545a"
      },
      "source": [
        "# Submit Your Work\n",
        "After completing both notebooks for this assignment (`transformers.ipynb` and this notebook, `rnn_lstm_captionaing.ipynb`), run the following cell to create a `.zip` file for you to download and turn in.\n",
        "\n",
        "**Please MANUALLY SAVE every `*.ipynb` and `*.py` files before executing the following cell:**"
      ]
    },
    {
      "cell_type": "code",
      "execution_count": null,
      "id": "82833983",
      "metadata": {
        "id": "82833983"
      },
      "outputs": [],
      "source": [
        "from eecs598.submit import make_a5_submission\n",
        "\n",
        "# TODO: Replace these with your actual uniquename and umid\n",
        "uniquename = None\n",
        "umid = None\n",
        "make_a5_submission(GOOGLE_DRIVE_PATH, uniquename, umid)"
      ]
    }
  ],
  "metadata": {
    "accelerator": "GPU",
    "colab": {
      "collapsed_sections": [
        "b43b5e66-7d96-49a7-8d73-649c1d8de2ef",
        "137296b8-8ab8-4f9d-bff5-e2584370a757",
        "3412c073-d239-450a-aa46-9ec3d61309a6",
        "0b9ae8cd-2813-4845-a4df-d47ebdc60971"
      ],
      "provenance": []
    },
    "interpreter": {
      "hash": "3e6a8e772529b48ea93620fbc55d49ea9e469a86dedbc53ac24607b5264d00e5"
    },
    "kernelspec": {
      "display_name": "Python 3 (ipykernel)",
      "language": "python",
      "name": "python3"
    },
    "language_info": {
      "codemirror_mode": {
        "name": "ipython",
        "version": 3
      },
      "file_extension": ".py",
      "mimetype": "text/x-python",
      "name": "python",
      "nbconvert_exporter": "python",
      "pygments_lexer": "ipython3",
      "version": "3.7.11"
    }
  },
  "nbformat": 4,
  "nbformat_minor": 5
}